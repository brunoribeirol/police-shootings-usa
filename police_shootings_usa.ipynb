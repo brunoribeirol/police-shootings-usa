{
  "nbformat": 4,
  "nbformat_minor": 0,
  "metadata": {
    "colab": {
      "provenance": [],
      "collapsed_sections": [
        "Gw68kA3V16s-",
        "Z_RAnNSK1wKn",
        "R228ayGM6d0Y",
        "UIgTtTIYp8Lp",
        "saQyH8mC76iq",
        "9RFi3TMawpvH",
        "rRv7Oi5N2T4O",
        "NwCY3sO-CzjY",
        "dhFvS9WzXV9t"
      ]
    },
    "kernelspec": {
      "name": "python3",
      "display_name": "Python 3"
    },
    "language_info": {
      "name": "python"
    }
  },
  "cells": [
    {
      "cell_type": "markdown",
      "source": [
        "# Police Shootings in the United States: 2015-2024"
      ],
      "metadata": {
        "id": "eVzcHLEqs7sz"
      }
    },
    {
      "cell_type": "markdown",
      "source": [
        "- This dataset, compiled by The Washington Post, logs every person shot and killed by an on-duty police officer in the United States from 2015 to 2024. It includes detailed information on each incident, such as the victim's name, age, gender, race, whether they were armed, the circumstances of the encounter, and the police departments involved. The dataset aims to provide a comprehensive view of fatal police shootings in the U.S. and to improve accountability and transparency in law enforcement."
      ],
      "metadata": {
        "id": "6THYDebVqiAA"
      }
    },
    {
      "cell_type": "markdown",
      "source": [
        "## Columns Explanation"
      ],
      "metadata": {
        "id": "Gw68kA3V16s-"
      }
    },
    {
      "cell_type": "markdown",
      "source": [
        "- **date**: The exact date when the police shooting incident occurred, formatted as YYYY-MM-DD.\n",
        "- **name**: The full name of the individual who was shot and killed by police.\n",
        "- **age**: The age of the victim at the time of the shooting.\n",
        "- **gender**: The gender of the victim - \"male\", \"female\", \"non-binary\".\n",
        "- **armed**: Specifies whether the victim was armed at the time of the incident.\n",
        "- **race**: The racial or ethnic background of the victim - \"White\", \"Black\", \"Hispanic\", \"Unknown\", \"Asian\", \"Native American\", \"Other\".\n",
        "- **city**: The city where the police shooting took place.\n",
        "- **state**: The state where the police shooting occurred, abbreviated as a two-letter code (e.g., CA for California).\n",
        "- **flee**: Indicates whether the victim was attempting to flee or evade police at the time of the incident - \"not\", \"car\", \"foot\" or \"other\".\n",
        "- **body_camera**: Indicates whether body camera footage was available for the incident - \"True\" or \"False\".\n",
        "- **signs_of_mantal_illness**: Specifies whether the victim exhibited signs of mental illness during the incident - \"True\" or \"False\".*italicized text*\n",
        "- **police_departments_involved**: The names of police departments involved in the incident."
      ],
      "metadata": {
        "id": "xKtxDFBh1948"
      }
    },
    {
      "cell_type": "markdown",
      "source": [
        "## Project"
      ],
      "metadata": {
        "id": "POubahEt6nFj"
      }
    },
    {
      "cell_type": "markdown",
      "source": [
        "### Configuration"
      ],
      "metadata": {
        "id": "Z_RAnNSK1wKn"
      }
    },
    {
      "cell_type": "markdown",
      "source": [
        "- Mounting Drive"
      ],
      "metadata": {
        "id": "eRqStFKgtPIi"
      }
    },
    {
      "cell_type": "code",
      "execution_count": null,
      "metadata": {
        "colab": {
          "base_uri": "https://localhost:8080/"
        },
        "id": "aZOJh1ahnOUe",
        "outputId": "0787625c-e4f5-44c6-d97f-bbdae74866ca"
      },
      "outputs": [
        {
          "output_type": "stream",
          "name": "stdout",
          "text": [
            "Mounted at /content/gdrive\n"
          ]
        }
      ],
      "source": [
        "from google.colab import drive\n",
        "drive.mount(\"/content/gdrive\")\n",
        "\n",
        "#from google.colab import files\n",
        "#files.upload()"
      ]
    },
    {
      "cell_type": "markdown",
      "source": [
        "- Imports needed"
      ],
      "metadata": {
        "id": "rbpZPzGvtSwW"
      }
    },
    {
      "cell_type": "code",
      "source": [
        "import pandas as pd\n",
        "import numpy as np"
      ],
      "metadata": {
        "id": "qiVGlWXnpu6a"
      },
      "execution_count": null,
      "outputs": []
    },
    {
      "cell_type": "markdown",
      "source": [
        "- File path on Google Drive"
      ],
      "metadata": {
        "id": "zCI5j_QTtVVy"
      }
    },
    {
      "cell_type": "code",
      "source": [
        "# Using drive.mount()\n",
        "file_path = \"/content/gdrive/MyDrive/Colab Notebooks/estatistica_probabilidade/2024-07-23-washington-post-police-shootings-export.csv\"\n",
        "\n",
        "#Using files.upload()\n",
        "#file_path = \"/content/2024-07-23-washington-post-police-shootings-export.csv\"\n",
        "\n",
        "#/content/2024-07-23-washington-post-police-shootings-export - 2024-07-23-washington-post-police-shootings-export.csv"
      ],
      "metadata": {
        "id": "ESSATLM9p3hP"
      },
      "execution_count": null,
      "outputs": []
    },
    {
      "cell_type": "markdown",
      "source": [
        "- Reading dataset"
      ],
      "metadata": {
        "id": "NYi5PSBFZEZ8"
      }
    },
    {
      "cell_type": "code",
      "source": [
        "police_shootings = pd.read_csv(file_path)\n",
        "\n",
        "length_ds = len(police_shootings)\n",
        "police_shootings.head()"
      ],
      "metadata": {
        "colab": {
          "base_uri": "https://localhost:8080/",
          "height": 206
        },
        "id": "MS87rB73qEc1",
        "outputId": "808772f8-9de2-4455-f197-06f04813be0e"
      },
      "execution_count": null,
      "outputs": [
        {
          "output_type": "execute_result",
          "data": {
            "text/plain": [
              "         date                name   age gender    armed      race     city  \\\n",
              "0  2015-01-02    Lewis Lee Lembke  47.0   male      gun     White    Aloha   \n",
              "1  2015-01-02          Tim Elliot  53.0   male      gun     Asian  Shelton   \n",
              "2  2015-01-03  John Paul Quintero  23.0   male  unarmed  Hispanic  Wichita   \n",
              "3  2015-01-04   Kenneth Joe Brown  18.0   male      gun     White  Guthrie   \n",
              "4  2015-01-04   Michael Rodriguez  39.0   male    other  Hispanic    Evans   \n",
              "\n",
              "  state flee  body_camera  signs_of_mental_illness  \\\n",
              "0    OR  not        False                    False   \n",
              "1    WA  not        False                     True   \n",
              "2    KS  not        False                    False   \n",
              "3    OK  not        False                    False   \n",
              "4    CO  not        False                    False   \n",
              "\n",
              "              police_departments_involved  \n",
              "0  Washington County Sheriff's Office, OR  \n",
              "1       Mason County Sheriff's Office, WA  \n",
              "2           Wichita Police Department, KS  \n",
              "3             Oklahoma Highway Patrol, OK  \n",
              "4             Evans Police Department, CO  "
            ],
            "text/html": [
              "\n",
              "  <div id=\"df-a977ff25-a382-4bb4-b922-d93d0ab7a623\" class=\"colab-df-container\">\n",
              "    <div>\n",
              "<style scoped>\n",
              "    .dataframe tbody tr th:only-of-type {\n",
              "        vertical-align: middle;\n",
              "    }\n",
              "\n",
              "    .dataframe tbody tr th {\n",
              "        vertical-align: top;\n",
              "    }\n",
              "\n",
              "    .dataframe thead th {\n",
              "        text-align: right;\n",
              "    }\n",
              "</style>\n",
              "<table border=\"1\" class=\"dataframe\">\n",
              "  <thead>\n",
              "    <tr style=\"text-align: right;\">\n",
              "      <th></th>\n",
              "      <th>date</th>\n",
              "      <th>name</th>\n",
              "      <th>age</th>\n",
              "      <th>gender</th>\n",
              "      <th>armed</th>\n",
              "      <th>race</th>\n",
              "      <th>city</th>\n",
              "      <th>state</th>\n",
              "      <th>flee</th>\n",
              "      <th>body_camera</th>\n",
              "      <th>signs_of_mental_illness</th>\n",
              "      <th>police_departments_involved</th>\n",
              "    </tr>\n",
              "  </thead>\n",
              "  <tbody>\n",
              "    <tr>\n",
              "      <th>0</th>\n",
              "      <td>2015-01-02</td>\n",
              "      <td>Lewis Lee Lembke</td>\n",
              "      <td>47.0</td>\n",
              "      <td>male</td>\n",
              "      <td>gun</td>\n",
              "      <td>White</td>\n",
              "      <td>Aloha</td>\n",
              "      <td>OR</td>\n",
              "      <td>not</td>\n",
              "      <td>False</td>\n",
              "      <td>False</td>\n",
              "      <td>Washington County Sheriff's Office, OR</td>\n",
              "    </tr>\n",
              "    <tr>\n",
              "      <th>1</th>\n",
              "      <td>2015-01-02</td>\n",
              "      <td>Tim Elliot</td>\n",
              "      <td>53.0</td>\n",
              "      <td>male</td>\n",
              "      <td>gun</td>\n",
              "      <td>Asian</td>\n",
              "      <td>Shelton</td>\n",
              "      <td>WA</td>\n",
              "      <td>not</td>\n",
              "      <td>False</td>\n",
              "      <td>True</td>\n",
              "      <td>Mason County Sheriff's Office, WA</td>\n",
              "    </tr>\n",
              "    <tr>\n",
              "      <th>2</th>\n",
              "      <td>2015-01-03</td>\n",
              "      <td>John Paul Quintero</td>\n",
              "      <td>23.0</td>\n",
              "      <td>male</td>\n",
              "      <td>unarmed</td>\n",
              "      <td>Hispanic</td>\n",
              "      <td>Wichita</td>\n",
              "      <td>KS</td>\n",
              "      <td>not</td>\n",
              "      <td>False</td>\n",
              "      <td>False</td>\n",
              "      <td>Wichita Police Department, KS</td>\n",
              "    </tr>\n",
              "    <tr>\n",
              "      <th>3</th>\n",
              "      <td>2015-01-04</td>\n",
              "      <td>Kenneth Joe Brown</td>\n",
              "      <td>18.0</td>\n",
              "      <td>male</td>\n",
              "      <td>gun</td>\n",
              "      <td>White</td>\n",
              "      <td>Guthrie</td>\n",
              "      <td>OK</td>\n",
              "      <td>not</td>\n",
              "      <td>False</td>\n",
              "      <td>False</td>\n",
              "      <td>Oklahoma Highway Patrol, OK</td>\n",
              "    </tr>\n",
              "    <tr>\n",
              "      <th>4</th>\n",
              "      <td>2015-01-04</td>\n",
              "      <td>Michael Rodriguez</td>\n",
              "      <td>39.0</td>\n",
              "      <td>male</td>\n",
              "      <td>other</td>\n",
              "      <td>Hispanic</td>\n",
              "      <td>Evans</td>\n",
              "      <td>CO</td>\n",
              "      <td>not</td>\n",
              "      <td>False</td>\n",
              "      <td>False</td>\n",
              "      <td>Evans Police Department, CO</td>\n",
              "    </tr>\n",
              "  </tbody>\n",
              "</table>\n",
              "</div>\n",
              "    <div class=\"colab-df-buttons\">\n",
              "\n",
              "  <div class=\"colab-df-container\">\n",
              "    <button class=\"colab-df-convert\" onclick=\"convertToInteractive('df-a977ff25-a382-4bb4-b922-d93d0ab7a623')\"\n",
              "            title=\"Convert this dataframe to an interactive table.\"\n",
              "            style=\"display:none;\">\n",
              "\n",
              "  <svg xmlns=\"http://www.w3.org/2000/svg\" height=\"24px\" viewBox=\"0 -960 960 960\">\n",
              "    <path d=\"M120-120v-720h720v720H120Zm60-500h600v-160H180v160Zm220 220h160v-160H400v160Zm0 220h160v-160H400v160ZM180-400h160v-160H180v160Zm440 0h160v-160H620v160ZM180-180h160v-160H180v160Zm440 0h160v-160H620v160Z\"/>\n",
              "  </svg>\n",
              "    </button>\n",
              "\n",
              "  <style>\n",
              "    .colab-df-container {\n",
              "      display:flex;\n",
              "      gap: 12px;\n",
              "    }\n",
              "\n",
              "    .colab-df-convert {\n",
              "      background-color: #E8F0FE;\n",
              "      border: none;\n",
              "      border-radius: 50%;\n",
              "      cursor: pointer;\n",
              "      display: none;\n",
              "      fill: #1967D2;\n",
              "      height: 32px;\n",
              "      padding: 0 0 0 0;\n",
              "      width: 32px;\n",
              "    }\n",
              "\n",
              "    .colab-df-convert:hover {\n",
              "      background-color: #E2EBFA;\n",
              "      box-shadow: 0px 1px 2px rgba(60, 64, 67, 0.3), 0px 1px 3px 1px rgba(60, 64, 67, 0.15);\n",
              "      fill: #174EA6;\n",
              "    }\n",
              "\n",
              "    .colab-df-buttons div {\n",
              "      margin-bottom: 4px;\n",
              "    }\n",
              "\n",
              "    [theme=dark] .colab-df-convert {\n",
              "      background-color: #3B4455;\n",
              "      fill: #D2E3FC;\n",
              "    }\n",
              "\n",
              "    [theme=dark] .colab-df-convert:hover {\n",
              "      background-color: #434B5C;\n",
              "      box-shadow: 0px 1px 3px 1px rgba(0, 0, 0, 0.15);\n",
              "      filter: drop-shadow(0px 1px 2px rgba(0, 0, 0, 0.3));\n",
              "      fill: #FFFFFF;\n",
              "    }\n",
              "  </style>\n",
              "\n",
              "    <script>\n",
              "      const buttonEl =\n",
              "        document.querySelector('#df-a977ff25-a382-4bb4-b922-d93d0ab7a623 button.colab-df-convert');\n",
              "      buttonEl.style.display =\n",
              "        google.colab.kernel.accessAllowed ? 'block' : 'none';\n",
              "\n",
              "      async function convertToInteractive(key) {\n",
              "        const element = document.querySelector('#df-a977ff25-a382-4bb4-b922-d93d0ab7a623');\n",
              "        const dataTable =\n",
              "          await google.colab.kernel.invokeFunction('convertToInteractive',\n",
              "                                                    [key], {});\n",
              "        if (!dataTable) return;\n",
              "\n",
              "        const docLinkHtml = 'Like what you see? Visit the ' +\n",
              "          '<a target=\"_blank\" href=https://colab.research.google.com/notebooks/data_table.ipynb>data table notebook</a>'\n",
              "          + ' to learn more about interactive tables.';\n",
              "        element.innerHTML = '';\n",
              "        dataTable['output_type'] = 'display_data';\n",
              "        await google.colab.output.renderOutput(dataTable, element);\n",
              "        const docLink = document.createElement('div');\n",
              "        docLink.innerHTML = docLinkHtml;\n",
              "        element.appendChild(docLink);\n",
              "      }\n",
              "    </script>\n",
              "  </div>\n",
              "\n",
              "\n",
              "<div id=\"df-dc870091-e77c-441d-8abc-3ab91f14607d\">\n",
              "  <button class=\"colab-df-quickchart\" onclick=\"quickchart('df-dc870091-e77c-441d-8abc-3ab91f14607d')\"\n",
              "            title=\"Suggest charts\"\n",
              "            style=\"display:none;\">\n",
              "\n",
              "<svg xmlns=\"http://www.w3.org/2000/svg\" height=\"24px\"viewBox=\"0 0 24 24\"\n",
              "     width=\"24px\">\n",
              "    <g>\n",
              "        <path d=\"M19 3H5c-1.1 0-2 .9-2 2v14c0 1.1.9 2 2 2h14c1.1 0 2-.9 2-2V5c0-1.1-.9-2-2-2zM9 17H7v-7h2v7zm4 0h-2V7h2v10zm4 0h-2v-4h2v4z\"/>\n",
              "    </g>\n",
              "</svg>\n",
              "  </button>\n",
              "\n",
              "<style>\n",
              "  .colab-df-quickchart {\n",
              "      --bg-color: #E8F0FE;\n",
              "      --fill-color: #1967D2;\n",
              "      --hover-bg-color: #E2EBFA;\n",
              "      --hover-fill-color: #174EA6;\n",
              "      --disabled-fill-color: #AAA;\n",
              "      --disabled-bg-color: #DDD;\n",
              "  }\n",
              "\n",
              "  [theme=dark] .colab-df-quickchart {\n",
              "      --bg-color: #3B4455;\n",
              "      --fill-color: #D2E3FC;\n",
              "      --hover-bg-color: #434B5C;\n",
              "      --hover-fill-color: #FFFFFF;\n",
              "      --disabled-bg-color: #3B4455;\n",
              "      --disabled-fill-color: #666;\n",
              "  }\n",
              "\n",
              "  .colab-df-quickchart {\n",
              "    background-color: var(--bg-color);\n",
              "    border: none;\n",
              "    border-radius: 50%;\n",
              "    cursor: pointer;\n",
              "    display: none;\n",
              "    fill: var(--fill-color);\n",
              "    height: 32px;\n",
              "    padding: 0;\n",
              "    width: 32px;\n",
              "  }\n",
              "\n",
              "  .colab-df-quickchart:hover {\n",
              "    background-color: var(--hover-bg-color);\n",
              "    box-shadow: 0 1px 2px rgba(60, 64, 67, 0.3), 0 1px 3px 1px rgba(60, 64, 67, 0.15);\n",
              "    fill: var(--button-hover-fill-color);\n",
              "  }\n",
              "\n",
              "  .colab-df-quickchart-complete:disabled,\n",
              "  .colab-df-quickchart-complete:disabled:hover {\n",
              "    background-color: var(--disabled-bg-color);\n",
              "    fill: var(--disabled-fill-color);\n",
              "    box-shadow: none;\n",
              "  }\n",
              "\n",
              "  .colab-df-spinner {\n",
              "    border: 2px solid var(--fill-color);\n",
              "    border-color: transparent;\n",
              "    border-bottom-color: var(--fill-color);\n",
              "    animation:\n",
              "      spin 1s steps(1) infinite;\n",
              "  }\n",
              "\n",
              "  @keyframes spin {\n",
              "    0% {\n",
              "      border-color: transparent;\n",
              "      border-bottom-color: var(--fill-color);\n",
              "      border-left-color: var(--fill-color);\n",
              "    }\n",
              "    20% {\n",
              "      border-color: transparent;\n",
              "      border-left-color: var(--fill-color);\n",
              "      border-top-color: var(--fill-color);\n",
              "    }\n",
              "    30% {\n",
              "      border-color: transparent;\n",
              "      border-left-color: var(--fill-color);\n",
              "      border-top-color: var(--fill-color);\n",
              "      border-right-color: var(--fill-color);\n",
              "    }\n",
              "    40% {\n",
              "      border-color: transparent;\n",
              "      border-right-color: var(--fill-color);\n",
              "      border-top-color: var(--fill-color);\n",
              "    }\n",
              "    60% {\n",
              "      border-color: transparent;\n",
              "      border-right-color: var(--fill-color);\n",
              "    }\n",
              "    80% {\n",
              "      border-color: transparent;\n",
              "      border-right-color: var(--fill-color);\n",
              "      border-bottom-color: var(--fill-color);\n",
              "    }\n",
              "    90% {\n",
              "      border-color: transparent;\n",
              "      border-bottom-color: var(--fill-color);\n",
              "    }\n",
              "  }\n",
              "</style>\n",
              "\n",
              "  <script>\n",
              "    async function quickchart(key) {\n",
              "      const quickchartButtonEl =\n",
              "        document.querySelector('#' + key + ' button');\n",
              "      quickchartButtonEl.disabled = true;  // To prevent multiple clicks.\n",
              "      quickchartButtonEl.classList.add('colab-df-spinner');\n",
              "      try {\n",
              "        const charts = await google.colab.kernel.invokeFunction(\n",
              "            'suggestCharts', [key], {});\n",
              "      } catch (error) {\n",
              "        console.error('Error during call to suggestCharts:', error);\n",
              "      }\n",
              "      quickchartButtonEl.classList.remove('colab-df-spinner');\n",
              "      quickchartButtonEl.classList.add('colab-df-quickchart-complete');\n",
              "    }\n",
              "    (() => {\n",
              "      let quickchartButtonEl =\n",
              "        document.querySelector('#df-dc870091-e77c-441d-8abc-3ab91f14607d button');\n",
              "      quickchartButtonEl.style.display =\n",
              "        google.colab.kernel.accessAllowed ? 'block' : 'none';\n",
              "    })();\n",
              "  </script>\n",
              "</div>\n",
              "\n",
              "    </div>\n",
              "  </div>\n"
            ],
            "application/vnd.google.colaboratory.intrinsic+json": {
              "type": "dataframe",
              "variable_name": "police_shootings",
              "summary": "{\n  \"name\": \"police_shootings\",\n  \"rows\": 9893,\n  \"fields\": [\n    {\n      \"column\": \"date\",\n      \"properties\": {\n        \"dtype\": \"object\",\n        \"num_unique_values\": 3255,\n        \"samples\": [\n          \"2021-11-30\",\n          \"2015-05-27\",\n          \"2021-10-06\"\n        ],\n        \"semantic_type\": \"\",\n        \"description\": \"\"\n      }\n    },\n    {\n      \"column\": \"name\",\n      \"properties\": {\n        \"dtype\": \"string\",\n        \"num_unique_values\": 9512,\n        \"samples\": [\n          \"Wilford Robert DeWeese\",\n          \"Luis A. Cardona\",\n          \"Adolfo Cruz\"\n        ],\n        \"semantic_type\": \"\",\n        \"description\": \"\"\n      }\n    },\n    {\n      \"column\": \"age\",\n      \"properties\": {\n        \"dtype\": \"number\",\n        \"std\": 12.93261629440151,\n        \"min\": 2.0,\n        \"max\": 92.0,\n        \"num_unique_values\": 83,\n        \"samples\": [\n          19.0,\n          47.0,\n          68.0\n        ],\n        \"semantic_type\": \"\",\n        \"description\": \"\"\n      }\n    },\n    {\n      \"column\": \"gender\",\n      \"properties\": {\n        \"dtype\": \"category\",\n        \"num_unique_values\": 3,\n        \"samples\": [\n          \"male\",\n          \"female\",\n          \"non-binary\"\n        ],\n        \"semantic_type\": \"\",\n        \"description\": \"\"\n      }\n    },\n    {\n      \"column\": \"armed\",\n      \"properties\": {\n        \"dtype\": \"category\",\n        \"num_unique_values\": 26,\n        \"samples\": [\n          \"other,gun\",\n          \"blunt_object,knife\",\n          \"gun\"\n        ],\n        \"semantic_type\": \"\",\n        \"description\": \"\"\n      }\n    },\n    {\n      \"column\": \"race\",\n      \"properties\": {\n        \"dtype\": \"category\",\n        \"num_unique_values\": 12,\n        \"samples\": [\n          \"Black,Hispanic\",\n          \"White,Hispanic\",\n          \"White\"\n        ],\n        \"semantic_type\": \"\",\n        \"description\": \"\"\n      }\n    },\n    {\n      \"column\": \"city\",\n      \"properties\": {\n        \"dtype\": \"category\",\n        \"num_unique_values\": 3610,\n        \"samples\": [\n          \"Buda\",\n          \"Urbandale\",\n          \"Evangeline Parish\"\n        ],\n        \"semantic_type\": \"\",\n        \"description\": \"\"\n      }\n    },\n    {\n      \"column\": \"state\",\n      \"properties\": {\n        \"dtype\": \"category\",\n        \"num_unique_values\": 51,\n        \"samples\": [\n          \"WV\",\n          \"SC\",\n          \"ND\"\n        ],\n        \"semantic_type\": \"\",\n        \"description\": \"\"\n      }\n    },\n    {\n      \"column\": \"flee\",\n      \"properties\": {\n        \"dtype\": \"category\",\n        \"num_unique_values\": 4,\n        \"samples\": [\n          \"car\",\n          \"other\",\n          \"not\"\n        ],\n        \"semantic_type\": \"\",\n        \"description\": \"\"\n      }\n    },\n    {\n      \"column\": \"body_camera\",\n      \"properties\": {\n        \"dtype\": \"boolean\",\n        \"num_unique_values\": 2,\n        \"samples\": [\n          true,\n          false\n        ],\n        \"semantic_type\": \"\",\n        \"description\": \"\"\n      }\n    },\n    {\n      \"column\": \"signs_of_mental_illness\",\n      \"properties\": {\n        \"dtype\": \"boolean\",\n        \"num_unique_values\": 2,\n        \"samples\": [\n          true,\n          false\n        ],\n        \"semantic_type\": \"\",\n        \"description\": \"\"\n      }\n    },\n    {\n      \"column\": \"police_departments_involved\",\n      \"properties\": {\n        \"dtype\": \"category\",\n        \"num_unique_values\": 3726,\n        \"samples\": [\n          \"Covina Police Department, CA\",\n          \"Real County Sheriff's Office, TX\"\n        ],\n        \"semantic_type\": \"\",\n        \"description\": \"\"\n      }\n    }\n  ]\n}"
            }
          },
          "metadata": {},
          "execution_count": 4
        }
      ]
    },
    {
      "cell_type": "markdown",
      "source": [
        "### Simple Probabilities"
      ],
      "metadata": {
        "id": "R228ayGM6d0Y"
      }
    },
    {
      "cell_type": "code",
      "source": [
        "# genders = police_shootings[\"gender\"].value_counts(normalize=True)\n",
        "# genders = police_shootings[\"gender\"].value_counts()\n",
        "# print(genders)"
      ],
      "metadata": {
        "id": "S7Pj8UThbiZ7"
      },
      "execution_count": null,
      "outputs": []
    },
    {
      "cell_type": "markdown",
      "source": [
        "- The victim was a male"
      ],
      "metadata": {
        "id": "NPn_4jjWypoS"
      }
    },
    {
      "cell_type": "code",
      "source": [
        "# Use the query method to filter rows where the gender is male\n",
        "male = police_shootings.query('gender == \"male\" ')\n",
        "\n",
        "# Calculate the probability\n",
        "male_shot = (len(male) / length_ds) * 100\n",
        "\n",
        "print(f\"The probability that the victim was male is {round(male_shot, 2)}%\")"
      ],
      "metadata": {
        "colab": {
          "base_uri": "https://localhost:8080/"
        },
        "id": "ADVnH9aayo9D",
        "outputId": "da2b0dd6-5f2c-4d57-9cee-33627139b350"
      },
      "execution_count": null,
      "outputs": [
        {
          "output_type": "stream",
          "name": "stdout",
          "text": [
            "The probability that the victim was male is 95.23%\n"
          ]
        }
      ]
    },
    {
      "cell_type": "markdown",
      "source": [
        "- The victim was killed in Texas"
      ],
      "metadata": {
        "id": "hNqK_jDgvcOt"
      }
    },
    {
      "cell_type": "code",
      "source": [
        "# Calculate the probability using boolean indexing and mean()\n",
        "texas = (police_shootings['state'] == 'TX').mean() * 100\n",
        "\n",
        "print(f\"The probability that the shooting occured in Texas is {round(texas, 2)}%\")"
      ],
      "metadata": {
        "colab": {
          "base_uri": "https://localhost:8080/"
        },
        "id": "qZ4xglc5vhqk",
        "outputId": "0bfeee6e-34df-43b8-8539-09b1b90b5422"
      },
      "execution_count": null,
      "outputs": [
        {
          "output_type": "stream",
          "name": "stdout",
          "text": [
            "The probability that the shooting occured in Texas is 9.54%\n"
          ]
        }
      ]
    },
    {
      "cell_type": "markdown",
      "source": [
        "- The victim was a black person"
      ],
      "metadata": {
        "id": "s7S6aQIpza_i"
      }
    },
    {
      "cell_type": "code",
      "source": [
        "black = police_shootings['race'].value_counts(normalize=True)\n",
        "\n",
        "black_shot = black['Black']\n",
        "\n",
        "print(f\"The probability that the victim was a black person is {round(black_shot * 100, 2)}%\")"
      ],
      "metadata": {
        "colab": {
          "base_uri": "https://localhost:8080/"
        },
        "id": "EAKJsvhOzj4B",
        "outputId": "10a0b52f-7d10-456e-8256-f3bba09ac55c"
      },
      "execution_count": null,
      "outputs": [
        {
          "output_type": "stream",
          "name": "stdout",
          "text": [
            "The probability that the victim was a black person is 23.71%\n"
          ]
        }
      ]
    },
    {
      "cell_type": "markdown",
      "source": [
        "- The victim was killed in Wichita Falls, TX"
      ],
      "metadata": {
        "id": "beR9fsOWBtue"
      }
    },
    {
      "cell_type": "code",
      "source": [
        "wichita_falls = (police_shootings['city'] == 'Wichita Falls').mean() * 100\n",
        "\n",
        "print(f\"The probability that the victim was killed in Wichita Falls, Texas is {round(wichita_falls, 2)}%\")"
      ],
      "metadata": {
        "colab": {
          "base_uri": "https://localhost:8080/"
        },
        "id": "TuMo30eOCjm7",
        "outputId": "da4df0cf-230f-48c1-ee98-159dc787491d"
      },
      "execution_count": null,
      "outputs": [
        {
          "output_type": "stream",
          "name": "stdout",
          "text": [
            "The probability that the victim was killed in Wichita Falls, Texas is 0.05%\n"
          ]
        }
      ]
    },
    {
      "cell_type": "markdown",
      "source": [
        "- The officer had a body camera when the shooting happened"
      ],
      "metadata": {
        "id": "WTo6UVfxdU6m"
      }
    },
    {
      "cell_type": "code",
      "source": [
        "#body_camera == True\n",
        "body_camera = police_shootings['body_camera'].mean()\n",
        "\n",
        "print(f\"The probability that a body camera was used is {round(body_camera * 100, 2)}%\")"
      ],
      "metadata": {
        "colab": {
          "base_uri": "https://localhost:8080/"
        },
        "id": "Oqe2whQB2_hF",
        "outputId": "8f542063-98ab-46e8-aed9-f86805400c93"
      },
      "execution_count": null,
      "outputs": [
        {
          "output_type": "stream",
          "name": "stdout",
          "text": [
            "The probability that a body camera was used is 17.04%\n"
          ]
        }
      ]
    },
    {
      "cell_type": "markdown",
      "source": [
        "- Probability of the victim had a knife while when was killed"
      ],
      "metadata": {
        "id": "uDQ1QNudpNcQ"
      }
    },
    {
      "cell_type": "code",
      "source": [
        "knife = (police_shootings['armed'] == 'knife').mean() * 100\n",
        "print(f\"The probability that the victim had a knife was {round(knife, 2)}%\")"
      ],
      "metadata": {
        "colab": {
          "base_uri": "https://localhost:8080/"
        },
        "id": "m2GBKO_upjxk",
        "outputId": "8b742f1b-f90a-49c7-9264-91eab71644d9"
      },
      "execution_count": null,
      "outputs": [
        {
          "output_type": "stream",
          "name": "stdout",
          "text": [
            "The probability that the victim had a knife was 17.01%\n"
          ]
        }
      ]
    },
    {
      "cell_type": "markdown",
      "source": [
        "### Probabilities with Union (OR)"
      ],
      "metadata": {
        "id": "UIgTtTIYp8Lp"
      }
    },
    {
      "cell_type": "markdown",
      "source": [
        "- The victim was a male or white"
      ],
      "metadata": {
        "id": "XNSIUTmgwXBH"
      }
    },
    {
      "cell_type": "code",
      "source": [
        "male = police_shootings['gender'] == 'male'\n",
        "white = police_shootings['race'] == 'White'\n",
        "\n",
        "# or does not work?\n",
        "male_or_white = (male | white).mean() * 100\n",
        "\n",
        "print(f\"The probability that the victim was a male or white is {round(male_or_white, 2)}%\")"
      ],
      "metadata": {
        "colab": {
          "base_uri": "https://localhost:8080/"
        },
        "id": "hVEfqCcvEHtt",
        "outputId": "26cba675-e4dd-468f-a352-5e1a57ef9f01"
      },
      "execution_count": null,
      "outputs": [
        {
          "output_type": "stream",
          "name": "stdout",
          "text": [
            "The probability that the victim was a male or white is 97.77%\n"
          ]
        }
      ]
    },
    {
      "cell_type": "markdown",
      "source": [
        "- The victim had a sign of mental ilness or was killed in 2020"
      ],
      "metadata": {
        "id": "wfZ3hfyrwWvN"
      }
    },
    {
      "cell_type": "code",
      "source": [
        "# Define events\n",
        "mental_ilness = police_shootings['signs_of_mental_illness'] == 'True'\n",
        "\n",
        "police_shootings['date'] = pd.to_datetime(police_shootings['date'])\n",
        "died_in_2020 = police_shootings['date'].dt.year == 2020\n",
        "\n",
        "# Calculate the union: signs of mental illness or died in 2020\n",
        "mental_ilness_or_died_in_2020 = (mental_ilness | died_in_2020).mean() * 100\n",
        "\n",
        "# Print the result\n",
        "print(f\"The probability that the victim was killed in 2020 or had signs of mental illness is {round(mental_ilness_or_died_in_2020, 2)}%\")\n"
      ],
      "metadata": {
        "colab": {
          "base_uri": "https://localhost:8080/"
        },
        "id": "T95rpJzFEITH",
        "outputId": "28ff5f86-d1de-4589-8b7d-e99249538da1"
      },
      "execution_count": null,
      "outputs": [
        {
          "output_type": "stream",
          "name": "stdout",
          "text": [
            "The probability that the victim was killed in 2020 or had signs of mental illness is 10.31%\n"
          ]
        }
      ]
    },
    {
      "cell_type": "markdown",
      "source": [
        "- The victim was killed in Los Angeles or Houston\n",
        "\n"
      ],
      "metadata": {
        "id": "LPSuKrBywWkO"
      }
    },
    {
      "cell_type": "code",
      "source": [
        "los_angeles = police_shootings['city'] == 'Los Angeles'\n",
        "houston = police_shootings['city'] == 'Houston'\n",
        "\n",
        "la_or_hou = (los_angeles | houston).mean() * 100\n",
        "\n",
        "# Print the result\n",
        "print(f\"The probability that the victim was killed in Los Angeles or Houston is {round(la_or_hou, 2)}%\")"
      ],
      "metadata": {
        "colab": {
          "base_uri": "https://localhost:8080/"
        },
        "id": "bOgOcx_lEItW",
        "outputId": "e04639d7-487a-47c5-8aef-758911df383a"
      },
      "execution_count": null,
      "outputs": [
        {
          "output_type": "stream",
          "name": "stdout",
          "text": [
            "The probability that the victim was killed in Los Angeles or Houston is 2.75%\n"
          ]
        }
      ]
    },
    {
      "cell_type": "markdown",
      "source": [
        "- The victim was hispanic or unknown"
      ],
      "metadata": {
        "id": "3biQGc7DwWXx"
      }
    },
    {
      "cell_type": "code",
      "source": [
        "# Define events\n",
        "hispanic = police_shootings['race'] == 'Hispanic'\n",
        "unknown = police_shootings['race'] == 'Unknown'\n",
        "\n",
        "# Calculate the probability of a victim being either Hispanic or Unknown\n",
        "hispanic_or_unknown = (hispanic | unknown).mean() * 100\n",
        "\n",
        "# Print the result\n",
        "print(f\"The probability that the victim was Hispanic OR Unknown is {round(hispanic_or_unknown, 2)}%\")"
      ],
      "metadata": {
        "colab": {
          "base_uri": "https://localhost:8080/"
        },
        "id": "jpDcDNQREJeH",
        "outputId": "c5cccd71-6240-45c3-c8b6-ab35f58788c9"
      },
      "execution_count": null,
      "outputs": [
        {
          "output_type": "stream",
          "name": "stdout",
          "text": [
            "The probability that the victim was Hispanic OR Unknown is 27.97%\n"
          ]
        }
      ]
    },
    {
      "cell_type": "markdown",
      "source": [
        "- The victim was killed by the New York Police Department or Los Angeles Police Department"
      ],
      "metadata": {
        "id": "gCDLw2hRwWPb"
      }
    },
    {
      "cell_type": "code",
      "source": [
        "# department = police_shootings['police_departments_involved'].value_counts()\n",
        "# print(department)\n",
        "\n",
        "# Define the boolean Series for NYPD involvement\n",
        "nypd = police_shootings['police_departments_involved'] == 'New York Police Department, NY'\n",
        "\n",
        "# Define the boolean Series for LAPD involvement\n",
        "lapd = police_shootings['police_departments_involved'] == 'Los Angeles Police Department, CA'\n",
        "\n",
        "# Combine the conditions: NYPD involvement or age is 17\n",
        "nypd_or_lapd = (nypd | lapd).mean() * 100\n",
        "\n",
        "print(f\"The probability that he victim was killed by the New York OR Los Angeles Police Department is {round(nypd_or_lapd, 2)}%\")"
      ],
      "metadata": {
        "colab": {
          "base_uri": "https://localhost:8080/"
        },
        "id": "NDJ64UToEJ03",
        "outputId": "a183aad1-d8df-4dda-f2f9-d961ed4bb177"
      },
      "execution_count": null,
      "outputs": [
        {
          "output_type": "stream",
          "name": "stdout",
          "text": [
            "The probability that he victim was killed by the New York OR Los Angeles Police Department is 2.18%\n"
          ]
        }
      ]
    },
    {
      "cell_type": "markdown",
      "source": [
        "### Probabilities with Intersection (AND)\n"
      ],
      "metadata": {
        "id": "saQyH8mC76iq"
      }
    },
    {
      "cell_type": "markdown",
      "source": [
        "- The victim was a male and had a gun when was killed"
      ],
      "metadata": {
        "id": "ZyE43EwPqG8b"
      }
    },
    {
      "cell_type": "code",
      "source": [
        "# Calculate the probability of being both male and armed with a gun\n",
        "male_and_gun = ((police_shootings[\"gender\"] == \"male\") & (police_shootings[\"armed\"] == \"gun\")).mean()\n",
        "\n",
        "# Convert to percentage and print the result\n",
        "print(f\"The probability that the victim was a male and had a gun when killed is {round(male_and_gun * 100, 2)}%\")"
      ],
      "metadata": {
        "colab": {
          "base_uri": "https://localhost:8080/"
        },
        "id": "TzySKUDJqSmO",
        "outputId": "fb1c9d9c-d1b4-42a3-ac6c-480596a59cf7"
      },
      "execution_count": null,
      "outputs": [
        {
          "output_type": "stream",
          "name": "stdout",
          "text": [
            "The probability that the victim was a male and had a gun when killed is 55.88%\n"
          ]
        }
      ]
    },
    {
      "cell_type": "markdown",
      "source": [
        "- The victim was white and a female"
      ],
      "metadata": {
        "id": "ReuGSBdjqTTd"
      }
    },
    {
      "cell_type": "code",
      "source": [
        "# Calculate the probability of being both male and armed with a gun\n",
        "female_white = ((police_shootings[\"gender\"] == \"female\") & (police_shootings[\"race\"] == \"White\")).mean()\n",
        "\n",
        "# Convert to percentage and print the result\n",
        "print(f\"The probability that the victim was a female and white is {round(female_white * 100, 2)}%\")"
      ],
      "metadata": {
        "colab": {
          "base_uri": "https://localhost:8080/"
        },
        "id": "nCD51-fQqSnV",
        "outputId": "8bad5942-9bc2-48e6-b269-317236ee7a5d"
      },
      "execution_count": null,
      "outputs": [
        {
          "output_type": "stream",
          "name": "stdout",
          "text": [
            "The probability that the victim was a female and white is 2.49%\n"
          ]
        }
      ]
    },
    {
      "cell_type": "markdown",
      "source": [],
      "metadata": {
        "id": "lYBWJGi4rPnT"
      }
    },
    {
      "cell_type": "markdown",
      "source": [
        "- The victim was below 20 years old and had a gun"
      ],
      "metadata": {
        "id": "C6gRc_0u7Bo7"
      }
    },
    {
      "cell_type": "code",
      "source": [
        "under_20_with_gun = police_shootings[(police_shootings[\"age\"] < 20) & (police_shootings[\"armed\"] == 'gun')]\n",
        "\n",
        "probability_under_20_with_gun = len(under_20_with_gun) / len(police_shootings) * 100\n",
        "\n",
        "print(f\"The probability that the victim was under 20 years old and had a gun is {round(probability_under_20_with_gun, 2)}%\")\n"
      ],
      "metadata": {
        "colab": {
          "base_uri": "https://localhost:8080/"
        },
        "id": "Aw3w41XH7NeK",
        "outputId": "01b85418-40bd-4ac5-b8e8-2c5d648b802b"
      },
      "execution_count": null,
      "outputs": [
        {
          "output_type": "stream",
          "name": "stdout",
          "text": [
            "The probability that the victim was under 20 years old and had a gun is 2.62%\n"
          ]
        }
      ]
    },
    {
      "cell_type": "markdown",
      "source": [
        "- The victim was killed in \"CA\" or \"TX\" and was white"
      ],
      "metadata": {
        "id": "zVocKGz0r8HE"
      }
    },
    {
      "cell_type": "code",
      "source": [
        "ca_or_tx_and_white = ((police_shootings['state'] == \"CA\") | (police_shootings['state'] == \"TX\")) & (police_shootings['race'] == \"White\")\n",
        "\n",
        "print(f\"The probability that the victim was killed in 'CA' or 'TX' and was white is {round(ca_or_tx_and_white.mean() * 100, 2)}%\")"
      ],
      "metadata": {
        "colab": {
          "base_uri": "https://localhost:8080/"
        },
        "id": "s9fFd8edsbxV",
        "outputId": "318d816c-d673-41b4-d248-5928ea086531"
      },
      "execution_count": null,
      "outputs": [
        {
          "output_type": "stream",
          "name": "stdout",
          "text": [
            "The probability that the victim was killed in 'CA' or 'TX' and was white is 7.08%\n"
          ]
        }
      ]
    },
    {
      "cell_type": "markdown",
      "source": [
        "- The victim was killed in \"FL\" and is not white"
      ],
      "metadata": {
        "id": "FlmVfzo0mc2u"
      }
    },
    {
      "cell_type": "code",
      "source": [
        "fl_and_not_white = (police_shootings['state'] == \"FL\") & ~(police_shootings['race'] == \"White\")\n",
        "\n",
        "print(f\"The probability that The victim was killed in 'FL' and is not white is {round(fl_and_not_white.mean() * 100, 2)}%\")"
      ],
      "metadata": {
        "colab": {
          "base_uri": "https://localhost:8080/"
        },
        "id": "a4zHQ5l7mcd9",
        "outputId": "71ee3bdf-4a3b-4872-dee9-78517ccc497b"
      },
      "execution_count": null,
      "outputs": [
        {
          "output_type": "stream",
          "name": "stdout",
          "text": [
            "The probability that The victim was killed in 'FL' and is not white is 3.43%\n"
          ]
        }
      ]
    },
    {
      "cell_type": "markdown",
      "source": [
        "### Probabilities with Complement\n"
      ],
      "metadata": {
        "id": "9RFi3TMawpvH"
      }
    },
    {
      "cell_type": "markdown",
      "source": [
        "- Qual a probabilidade de ser mulher e não estar acompanhada?"
      ],
      "metadata": {
        "id": "FDwXDMlV_TNu"
      }
    },
    {
      "cell_type": "markdown",
      "source": [
        "- The victim was a man and was not killed in FL"
      ],
      "metadata": {
        "id": "JOgo5TpowsyK"
      }
    },
    {
      "cell_type": "code",
      "source": [
        "man = (police_shootings[\"gender\"] == \"male\").mean()\n",
        "florida = (police_shootings[\"state\"] == \"FL\").mean()\n",
        "\n",
        "# Calculate the probability that the victim was a man and the incident occurred in Florida\n",
        "prob_man_and_florida = man * florida  # Use multiplication for joint probability\n",
        "\n",
        "# Calculate the complement probability (being a man but not in Florida)\n",
        "prob_man_not_florida = man - prob_man_and_florida\n",
        "\n",
        "print(f\"The complement probability that the victim was a man and the incident did not occur in Florida is {round(prob_man_not_florida * 100, 2)}%\")"
      ],
      "metadata": {
        "colab": {
          "base_uri": "https://localhost:8080/"
        },
        "id": "s8Xf7MILw_AK",
        "outputId": "e3699ac1-fc8a-4e5c-be9c-bfd5d75aabea"
      },
      "execution_count": null,
      "outputs": [
        {
          "output_type": "stream",
          "name": "stdout",
          "text": [
            "The complement probability that the victim was a man and the incident did not occur in Florida is 89.12%\n"
          ]
        }
      ]
    },
    {
      "cell_type": "markdown",
      "source": [
        "- The victim died between 17 and 21 years and was not white white"
      ],
      "metadata": {
        "id": "-wk-5AUaymka"
      }
    },
    {
      "cell_type": "code",
      "source": [
        "# Define the conditions\n",
        "age_17_and_21 = (police_shootings[\"age\"] >= 17) & (police_shootings[\"age\"] <= 21)\n",
        "white = (police_shootings[\"race\"] == \"White\")\n",
        "\n",
        "# Calculate the probability of being in that age range\n",
        "prob_age_17_and_21 = age_17_and_21.mean()\n",
        "\n",
        "# Calculate the probability of being white in that age group\n",
        "prob_white_given_age = (age_17_and_21 & white).mean()\n",
        "\n",
        "# Calculate the complement probability (not white in that age range)\n",
        "prob_not_white_given_age = prob_age_17_and_21 - prob_white_given_age\n",
        "\n",
        "# Print the complement probability\n",
        "print(f\"The complement probability that the victim was between 17 and 21 and not white is {round(prob_not_white_given_age * 100, 2)}%\")"
      ],
      "metadata": {
        "colab": {
          "base_uri": "https://localhost:8080/"
        },
        "id": "fpTpfOOy0Sup",
        "outputId": "2e01b34a-1d65-42af-87f2-1e45ce5bdb57"
      },
      "execution_count": null,
      "outputs": [
        {
          "output_type": "stream",
          "name": "stdout",
          "text": [
            "The complement probability that the victim was between 17 and 21 and not white is 5.47%\n"
          ]
        }
      ]
    },
    {
      "cell_type": "markdown",
      "source": [
        "- The victim was not killed in California"
      ],
      "metadata": {
        "id": "8xwECvQuymcS"
      }
    },
    {
      "cell_type": "code",
      "source": [
        "\n",
        "p_in_california = (police_shootings['state'] == 'CA').mean()\n",
        "\n",
        "p_not_in_california = 1 - p_in_california\n",
        "\n",
        "print(f\"The probability that the victim was not killed in California is {round(p_not_in_california * 100, 2)}%\")\n"
      ],
      "metadata": {
        "colab": {
          "base_uri": "https://localhost:8080/"
        },
        "id": "w9zzSYrT-PEn",
        "outputId": "a9b1b512-9271-44bd-b6bc-e6f8760b14e7"
      },
      "execution_count": null,
      "outputs": [
        {
          "output_type": "stream",
          "name": "stdout",
          "text": [
            "The probability that the victim was not killed in California is 86.28%\n"
          ]
        }
      ]
    },
    {
      "cell_type": "markdown",
      "source": [
        "- The victim did not try to flee"
      ],
      "metadata": {
        "id": "xer4l0JTymUh"
      }
    },
    {
      "cell_type": "code",
      "source": [
        "p_flee = (police_shootings['flee'] != 'not').mean()\n",
        "\n",
        "p_not_flee = 1 - p_flee\n",
        "\n",
        "print(f\"The probability that the victim did not try to flee is {round(p_not_flee * 100, 2)}%\")\n"
      ],
      "metadata": {
        "id": "unnIXsYvDKgG",
        "colab": {
          "base_uri": "https://localhost:8080/"
        },
        "outputId": "b20d7fe4-6858-439e-924a-8e6e059af309"
      },
      "execution_count": null,
      "outputs": [
        {
          "output_type": "stream",
          "name": "stdout",
          "text": [
            "The probability that the victim did not try to flee is 53.86%\n"
          ]
        }
      ]
    },
    {
      "cell_type": "markdown",
      "source": [
        "- The victim was not under 22 years old"
      ],
      "metadata": {
        "id": "WBfmR9w4ymMu"
      }
    },
    {
      "cell_type": "code",
      "source": [
        "p_under_22 = (police_shootings['age'] < 22).mean()\n",
        "\n",
        "p_not_under_22 = 1 - p_under_22\n",
        "\n",
        "print(f\"The probability that the victim was not under 22 years old is {round(p_not_under_22 * 100, 2)}%\")\n"
      ],
      "metadata": {
        "id": "kWDWqoznDLG0",
        "colab": {
          "base_uri": "https://localhost:8080/"
        },
        "outputId": "be18a1fa-1698-43a7-fd81-7f86880f6b03"
      },
      "execution_count": null,
      "outputs": [
        {
          "output_type": "stream",
          "name": "stdout",
          "text": [
            "The probability that the victim was not under 22 years old is 91.79%\n"
          ]
        }
      ]
    },
    {
      "cell_type": "markdown",
      "source": [
        "### Probabilities of Difference\n",
        "\n"
      ],
      "metadata": {
        "id": "rRv7Oi5N2T4O"
      }
    },
    {
      "cell_type": "markdown",
      "source": [
        "- Qual a probabilidade de ser do conjunto dos homens mas não ser do conjunto que morreu no TX?\n",
        "- Qual a probabilidade de ser acompanhado pelo cônjuge e não ser acompanhado pelo pai?"
      ],
      "metadata": {
        "id": "d_W15TvA_b3a"
      }
    },
    {
      "cell_type": "markdown",
      "source": [
        "- The victim had a gun and was not white"
      ],
      "metadata": {
        "id": "YQCeMGCk2W2M"
      }
    },
    {
      "cell_type": "code",
      "source": [
        "# Define conditions\n",
        "gun = police_shootings['armed'] == 'gun'\n",
        "white = police_shootings['race'] == 'White'\n",
        "\n",
        "# Calculate the probability of being armed with a gun\n",
        "prob_gun = gun.mean()\n",
        "\n",
        "# Calculate the probability of being white\n",
        "prob_white = white.mean()\n",
        "\n",
        "# Calculate the probability of the difference (armed with a gun but not white)\n",
        "prob_difference = prob_gun - (gun & white).mean()\n",
        "\n",
        "print(f\"The probability of difference that the victim was armed with a gun and not white is {round(prob_difference * 100, 2)}%\")"
      ],
      "metadata": {
        "id": "j-qPrmbHDMQX",
        "colab": {
          "base_uri": "https://localhost:8080/"
        },
        "outputId": "0648fb1b-fdf0-40ea-be26-a7051bbc0ab8"
      },
      "execution_count": null,
      "outputs": [
        {
          "output_type": "stream",
          "name": "stdout",
          "text": [
            "The probability of difference that the victim was armed with a gun and not white is 31.66%\n"
          ]
        }
      ]
    },
    {
      "cell_type": "markdown",
      "source": [
        "- The victim was white and was not killed in Houston"
      ],
      "metadata": {
        "id": "wya-O4OW2YQk"
      }
    },
    {
      "cell_type": "code",
      "source": [
        "# Define conditions\n",
        "white = police_shootings['race'] == 'White'\n",
        "houston = police_shootings['city'] == 'Houston'\n",
        "\n",
        "# Calculate the probability of being white\n",
        "prob_white = white.mean()\n",
        "\n",
        "# Calculate the probability of being killed in Houston\n",
        "prob_houston = houston.mean()\n",
        "\n",
        "# Calculate the probability of the difference (white but not killed in Houston)\n",
        "prob_difference = prob_white - (white & houston).mean()\n",
        "\n",
        "print(f\"The probability of difference that the victim was white and not killed in Houston is {round(prob_difference * 100, 2)}%\")"
      ],
      "metadata": {
        "id": "psjLd-HpDNAN",
        "colab": {
          "base_uri": "https://localhost:8080/"
        },
        "outputId": "77e80591-ccf8-4957-e630-d4a8e0e5e735"
      },
      "execution_count": null,
      "outputs": [
        {
          "output_type": "stream",
          "name": "stdout",
          "text": [
            "The probability of difference that the victim was white and not killed in Houston is 44.63%\n"
          ]
        }
      ]
    },
    {
      "cell_type": "markdown",
      "source": [
        "- The victim had signs of mental ilness and was not black"
      ],
      "metadata": {
        "id": "swhjzdxv2YJw"
      }
    },
    {
      "cell_type": "code",
      "source": [
        "# Define conditions\n",
        "mental_illness = police_shootings['signs_of_mental_illness'] == True\n",
        "black = police_shootings['race'] == 'Black'\n",
        "\n",
        "# Calculate the probability of having mental illness\n",
        "prob_mental_illness = mental_illness.mean()\n",
        "\n",
        "# Calculate the probability of being black\n",
        "prob_black = black.mean()\n",
        "\n",
        "# Calculate the probability of the difference (having mental illness but not black)\n",
        "prob_difference = prob_mental_illness - (mental_illness & black).mean()\n",
        "\n",
        "print(f\"The probability of difference that the victim had signs of mental illness and was not black is {round(prob_difference * 100, 2)}%\")"
      ],
      "metadata": {
        "id": "o2ZHVr7QDNma",
        "colab": {
          "base_uri": "https://localhost:8080/"
        },
        "outputId": "a5db33e7-3059-4180-9598-318c31aaed56"
      },
      "execution_count": null,
      "outputs": [
        {
          "output_type": "stream",
          "name": "stdout",
          "text": [
            "The probability of difference that the victim had signs of mental illness and was not black is 16.25%\n"
          ]
        }
      ]
    },
    {
      "cell_type": "markdown",
      "source": [
        "- The victim was trying to evade the police by feet and was not armed"
      ],
      "metadata": {
        "id": "xhZ078-12YCU"
      }
    },
    {
      "cell_type": "code",
      "source": [
        "fleeing_by_foot = police_shootings['flee'] == 'foot'\n",
        "\n",
        "not_armed = police_shootings['armed'] == 'unarmed'\n",
        "\n",
        "fleeing_and_not_armed = (fleeing_by_foot & not_armed).mean()\n",
        "\n",
        "print(f\"The probability that the victim was trying to evade the police by foot and was not armed is {round(fleeing_and_not_armed * 100, 2)}%\")\n"
      ],
      "metadata": {
        "colab": {
          "base_uri": "https://localhost:8080/"
        },
        "id": "GiPj0S5LjxSC",
        "outputId": "6a39eab1-780c-4de3-c12a-0485b2054a77"
      },
      "execution_count": null,
      "outputs": [
        {
          "output_type": "stream",
          "name": "stdout",
          "text": [
            "The probability that the victim was trying to evade the police by foot and was not armed is 1.17%\n"
          ]
        }
      ]
    },
    {
      "cell_type": "code",
      "source": [
        "# Contar os valores da coluna 'flee' onde o valor é 'not'\n",
        "police_shootings['flee'].value_counts()\n"
      ],
      "metadata": {
        "id": "P3EtJenzDOet",
        "colab": {
          "base_uri": "https://localhost:8080/"
        },
        "outputId": "9478ec44-e5f0-4567-8a79-f7e2775e6610"
      },
      "execution_count": null,
      "outputs": [
        {
          "output_type": "execute_result",
          "data": {
            "text/plain": [
              "flee\n",
              "not      5328\n",
              "car      1557\n",
              "foot     1296\n",
              "other     367\n",
              "Name: count, dtype: int64"
            ],
            "text/html": [
              "<div>\n",
              "<style scoped>\n",
              "    .dataframe tbody tr th:only-of-type {\n",
              "        vertical-align: middle;\n",
              "    }\n",
              "\n",
              "    .dataframe tbody tr th {\n",
              "        vertical-align: top;\n",
              "    }\n",
              "\n",
              "    .dataframe thead th {\n",
              "        text-align: right;\n",
              "    }\n",
              "</style>\n",
              "<table border=\"1\" class=\"dataframe\">\n",
              "  <thead>\n",
              "    <tr style=\"text-align: right;\">\n",
              "      <th></th>\n",
              "      <th>count</th>\n",
              "    </tr>\n",
              "    <tr>\n",
              "      <th>flee</th>\n",
              "      <th></th>\n",
              "    </tr>\n",
              "  </thead>\n",
              "  <tbody>\n",
              "    <tr>\n",
              "      <th>not</th>\n",
              "      <td>5328</td>\n",
              "    </tr>\n",
              "    <tr>\n",
              "      <th>car</th>\n",
              "      <td>1557</td>\n",
              "    </tr>\n",
              "    <tr>\n",
              "      <th>foot</th>\n",
              "      <td>1296</td>\n",
              "    </tr>\n",
              "    <tr>\n",
              "      <th>other</th>\n",
              "      <td>367</td>\n",
              "    </tr>\n",
              "  </tbody>\n",
              "</table>\n",
              "</div><br><label><b>dtype:</b> int64</label>"
            ]
          },
          "metadata": {},
          "execution_count": 31
        }
      ]
    },
    {
      "cell_type": "markdown",
      "source": [
        "- The victim was killed in Illinois and the body camera was not available"
      ],
      "metadata": {
        "id": "a2tJUznV2Xsd"
      }
    },
    {
      "cell_type": "code",
      "source": [
        "# Filtrar os top 5 estados com mais ocorrências\n",
        "top_5_states = police_shootings['state'].value_counts().nlargest(5).index\n",
        "\n",
        "# Filtrar vítimas nos top 5 estados\n",
        "in_top_5_states = police_shootings['state'].isin(top_5_states)\n",
        "\n",
        "# Filtrar vítimas onde não havia câmera corporal disponível\n",
        "no_body_camera = police_shootings['body_camera'] == False\n",
        "\n",
        "# Calcular a probabilidade de estar em um dos top 5 estados\n",
        "prob_in_top_5_states = in_top_5_states.mean()\n",
        "\n",
        "# Calcular a probabilidade da diferença (top 5 estados e não havia câmera corporal)\n",
        "prob_difference = prob_in_top_5_states - (in_top_5_states & no_body_camera).mean()\n",
        "\n",
        "# Exibir o resultado\n",
        "print(f\"The probability that the victim was killed in the top 5 states and the body camera was not available is {round(prob_difference * 100, 2)}%\")\n"
      ],
      "metadata": {
        "id": "1_4Z1HbYDPBX",
        "colab": {
          "base_uri": "https://localhost:8080/"
        },
        "outputId": "7e820a68-6d33-4049-8de6-7906baa4a3ba"
      },
      "execution_count": null,
      "outputs": [
        {
          "output_type": "stream",
          "name": "stdout",
          "text": [
            "The probability that the victim was killed in the top 5 states and the body camera was not available is 6.48%\n"
          ]
        }
      ]
    },
    {
      "cell_type": "markdown",
      "source": [
        "### Conditional Probabilities"
      ],
      "metadata": {
        "id": "VJu-HB19C5br"
      }
    },
    {
      "cell_type": "markdown",
      "source": [
        "- Qual a probabilidade de estar acompanhada sabendo que é uma mulher?\n",
        "- Segunda pergunta para deixar mais claro: qual a probabilidade de estar acompanhado sabendo que foi retirado uma pessoa do grupo de mulheres?"
      ],
      "metadata": {
        "id": "lojA7FwW_tpq"
      }
    },
    {
      "cell_type": "markdown",
      "source": [
        "- The  victim had a gun while was white"
      ],
      "metadata": {
        "id": "2UM-mBMbC8p7"
      }
    },
    {
      "cell_type": "code",
      "source": [
        "gun = police_shootings['armed'] == 'gun'\n",
        "white = police_shootings['race'] == 'White'\n",
        "\n",
        "# Number of white victims who were armed with a gun\n",
        "gun_and_white = (gun & white).sum()\n",
        "\n",
        "# Total number of white victims\n",
        "white_total = white.sum()\n",
        "\n",
        "gun_while_white = (gun_and_white / white_total) * 100\n",
        "\n",
        "print(f\"The probability that the victim died with a gun while being white is {round(gun_while_white, 2)}%\")"
      ],
      "metadata": {
        "id": "pCVb8WF8ENPY",
        "colab": {
          "base_uri": "https://localhost:8080/"
        },
        "outputId": "41a0c57c-8f6e-432a-d9be-55a32061c73d"
      },
      "execution_count": null,
      "outputs": [
        {
          "output_type": "stream",
          "name": "stdout",
          "text": [
            "The probability that the victim died with a gun while being white is 59.03%\n"
          ]
        }
      ]
    },
    {
      "cell_type": "markdown",
      "source": [
        "- The victim tried to escape using a car while being between younger than 16"
      ],
      "metadata": {
        "id": "abjCwOxsC946"
      }
    },
    {
      "cell_type": "code",
      "source": [
        "flee_car = police_shootings['flee'] == 'car'\n",
        "\n",
        "died16 = (police_shootings[\"age\"] <= 16)\n",
        "\n",
        "flee_16 = (flee_car & died16).sum()\n",
        "\n",
        "total_flee_car = flee_car.sum()\n",
        "\n",
        "probability_flee_16 = (flee_16 / total_flee_car) * 100\n",
        "\n",
        "print(f\"The probability that the victim tried to escape using a car while being younger than 16 years is {round(probability_flee_16, 2)}%\")\n"
      ],
      "metadata": {
        "id": "7122zH6JbuLU",
        "outputId": "8371e6e5-6c4c-4f54-cefb-551b85770724",
        "colab": {
          "base_uri": "https://localhost:8080/"
        }
      },
      "execution_count": null,
      "outputs": [
        {
          "output_type": "stream",
          "name": "stdout",
          "text": [
            "The probability that the victim tried to escape using a car while being younger than 16 years is 1.16%\n"
          ]
        }
      ]
    },
    {
      "cell_type": "markdown",
      "source": [
        "\n",
        "Probability of signs of mental illness given that the person was unarmed"
      ],
      "metadata": {
        "id": "5-Heoaf6C9yV"
      }
    },
    {
      "cell_type": "code",
      "source": [
        "# Condition for being unarmed\n",
        "unarmed_condition = police_shootings['armed'] == 'unarmed'\n",
        "\n",
        "# Condition for signs of mental illness\n",
        "mental_illness_condition = police_shootings['signs_of_mental_illness'] == True\n",
        "\n",
        "# Count where both conditions are true\n",
        "unarmed_and_mental_illness = (unarmed_condition & mental_illness_condition).sum()\n",
        "\n",
        "# Total count of unarmed individuals\n",
        "total_unarmed = unarmed_condition.sum()\n",
        "\n",
        "# Calculate conditional probability\n",
        "prob_mental_illness_given_unarmed = (unarmed_and_mental_illness / total_unarmed) * 100\n",
        "\n",
        "print(f\"The probability of signs of mental illness given that the victim was unarmed is {round(prob_mental_illness_given_unarmed, 2)}%\")"
      ],
      "metadata": {
        "id": "R74r61s9XVRk",
        "colab": {
          "base_uri": "https://localhost:8080/"
        },
        "outputId": "b3cf2d78-5f4b-4eaf-d6d3-8f5aaee7f1d3"
      },
      "execution_count": null,
      "outputs": [
        {
          "output_type": "stream",
          "name": "stdout",
          "text": [
            "The probability of signs of mental illness given that the victim was unarmed is 18.69%\n"
          ]
        }
      ]
    },
    {
      "cell_type": "markdown",
      "source": [
        "Probability of being black given that the body camera was not used"
      ],
      "metadata": {
        "id": "pOvlJnSMC9qr"
      }
    },
    {
      "cell_type": "code",
      "source": [
        "# Condition for body camera not being used\n",
        "body_camera_not_used_condition = police_shootings['body_camera'] == False\n",
        "\n",
        "# Condition for being Black\n",
        "black_condition = police_shootings['race'] == 'Black'\n",
        "\n",
        "# Count where both conditions are true\n",
        "black_and_no_camera = (body_camera_not_used_condition & black_condition).sum()\n",
        "\n",
        "# Total count of incidents where the body camera was not used\n",
        "total_no_camera = body_camera_not_used_condition.sum()\n",
        "\n",
        "# Calculate conditional probability\n",
        "prob_black_given_no_camera = (black_and_no_camera / total_no_camera) * 100\n",
        "\n",
        "print(f\"The probability of being Black given that the body camera was not used is {round(prob_black_given_no_camera, 2)}%\")"
      ],
      "metadata": {
        "id": "45ZfFsxnXbHe",
        "colab": {
          "base_uri": "https://localhost:8080/"
        },
        "outputId": "c9f9b9a5-fc91-469f-a62b-836b3b4de5b5"
      },
      "execution_count": null,
      "outputs": [
        {
          "output_type": "stream",
          "name": "stdout",
          "text": [
            "The probability of being Black given that the body camera was not used is 22.05%\n"
          ]
        }
      ]
    },
    {
      "cell_type": "markdown",
      "source": [
        "Probability of being male given that the person was armed"
      ],
      "metadata": {
        "id": "we2d2SbdC9U0"
      }
    },
    {
      "cell_type": "code",
      "source": [
        "# Condition for being armed\n",
        "armed_condition = police_shootings['armed'] != 'unarmed'\n",
        "\n",
        "# Condition for being male\n",
        "male_condition = police_shootings['gender'] == 'male'\n",
        "\n",
        "# Count where both conditions are true\n",
        "armed_and_male = (armed_condition & male_condition).sum()\n",
        "\n",
        "# Total count of armed individuals\n",
        "total_armed = armed_condition.sum()\n",
        "\n",
        "# Calculate conditional probability\n",
        "prob_male_given_armed = (armed_and_male / total_armed) * 100\n",
        "\n",
        "print(f\"The probability of being male given that the person was armed is {round(prob_male_given_armed, 2)}%\")"
      ],
      "metadata": {
        "id": "Bm3tPByDEOJa",
        "colab": {
          "base_uri": "https://localhost:8080/"
        },
        "outputId": "50b8bbd8-22d2-42dd-f19b-85903f6f04f8"
      },
      "execution_count": null,
      "outputs": [
        {
          "output_type": "stream",
          "name": "stdout",
          "text": [
            "The probability of being male given that the person was armed is 95.39%\n"
          ]
        }
      ]
    },
    {
      "cell_type": "markdown",
      "source": [
        "Probability of fleeing by car given that the person was armed with a gun\n"
      ],
      "metadata": {
        "id": "XxXgpXKpclFe"
      }
    },
    {
      "cell_type": "code",
      "source": [
        "# Condition for being armed with a gun\n",
        "armed_gun_condition = police_shootings['armed'] == 'gun'\n",
        "\n",
        "# Condition for fleeing by car\n",
        "flee_car_condition = police_shootings['flee'] == 'car'\n",
        "\n",
        "# Count where both conditions are true\n",
        "flee_car_and_gun = (armed_gun_condition & flee_car_condition).sum()\n",
        "\n",
        "# Total count of individuals armed with a gun\n",
        "total_gun_armed = armed_gun_condition.sum()\n",
        "\n",
        "# Calculate conditional probability\n",
        "prob_flee_car_given_gun = (flee_car_and_gun / total_gun_armed) * 100\n",
        "\n",
        "print(f\"The probability of fleeing by car given that the person was armed with a gun is {round(prob_flee_car_given_gun, 2)}%\")\n"
      ],
      "metadata": {
        "id": "_XWdjHE7ciOj",
        "colab": {
          "base_uri": "https://localhost:8080/"
        },
        "outputId": "f53cfd9d-d8f0-4a88-8bc2-1300c30a4245"
      },
      "execution_count": null,
      "outputs": [
        {
          "output_type": "stream",
          "name": "stdout",
          "text": [
            "The probability of fleeing by car given that the person was armed with a gun is 14.2%\n"
          ]
        }
      ]
    },
    {
      "cell_type": "markdown",
      "source": [
        "### Probabilities of Bayes' Theorem\n",
        "\n"
      ],
      "metadata": {
        "id": "NwCY3sO-CzjY"
      }
    },
    {
      "cell_type": "markdown",
      "source": [
        "- Qual a probabilidade de ser mulher tal que esteja acompanhada?"
      ],
      "metadata": {
        "id": "hEdsKsaM_2hm"
      }
    },
    {
      "cell_type": "markdown",
      "source": [
        "- The victim was white given that they were armed with a gun"
      ],
      "metadata": {
        "id": "zTzlan83C356"
      }
    },
    {
      "cell_type": "code",
      "source": [
        "# Conditions\n",
        "gun = police_shootings['armed'] == 'gun'\n",
        "white = police_shootings['race'] == 'White'\n",
        "\n",
        "# Calculate probabilities\n",
        "P_white = white.mean()\n",
        "P_gun = gun.mean()\n",
        "P_gun_given_white = (gun & white).mean()\n",
        "\n",
        "# Apply Bayes' Theorem\n",
        "P_white_given_gun = (P_gun_given_white * P_white) / P_gun * 100\n",
        "\n",
        "print(f\"The probability that the victim was white given they were armed with a gun is {round(P_white_given_gun, 2)}%\")"
      ],
      "metadata": {
        "id": "t1ukAk8WERCV",
        "colab": {
          "base_uri": "https://localhost:8080/"
        },
        "outputId": "b947036c-abfd-4b50-ebab-868b08878acf"
      },
      "execution_count": null,
      "outputs": [
        {
          "output_type": "stream",
          "name": "stdout",
          "text": [
            "The probability that the victim was white given they were armed with a gun is 20.39%\n"
          ]
        }
      ]
    },
    {
      "cell_type": "markdown",
      "source": [
        "Probability that a person is armed given they are Black"
      ],
      "metadata": {
        "id": "EH7ffFujfEoH"
      }
    },
    {
      "cell_type": "code",
      "source": [
        "# Probability of a person being Black\n",
        "p_black = (police_shootings['race'] == 'Black').mean()\n",
        "\n",
        "# Probability of a person being armed\n",
        "p_armed = (police_shootings['armed'] != 'unarmed').mean()\n",
        "\n",
        "# Probability of a person being armed given they are Black\n",
        "p_armed_given_black = ((police_shootings['armed'] != 'unarmed') & (police_shootings['race'] == 'Black')).sum() / (police_shootings['race'] == 'Black').sum()\n",
        "\n",
        "# Apply Bayes' Theorem\n",
        "p_black_given_armed = (p_armed_given_black * p_black) / p_armed * 100\n",
        "\n",
        "print(f\"The probability that the victim was Black given that the person is armed is: {round(p_black_given_armed, 2)}%\")"
      ],
      "metadata": {
        "id": "TRTIQq9BfoQG",
        "colab": {
          "base_uri": "https://localhost:8080/"
        },
        "outputId": "136d26e9-aa7a-4113-f123-0d1bc95fe8a1"
      },
      "execution_count": null,
      "outputs": [
        {
          "output_type": "stream",
          "name": "stdout",
          "text": [
            "The probability that the victim was Black given that the person is armed is: 23.22%\n"
          ]
        }
      ]
    },
    {
      "cell_type": "markdown",
      "source": [
        "Probability that a person is Hispanic given that they were in Texas (TX)\n"
      ],
      "metadata": {
        "id": "jI3V-8v_iUgL"
      }
    },
    {
      "cell_type": "code",
      "source": [
        "# Probability of a person being in Texas (TX)\n",
        "p_texas = (police_shootings['state'] == 'TX').mean()\n",
        "\n",
        "# Probability of a person being Hispanic\n",
        "p_hispanic = (police_shootings['race'] == 'Hispanic').mean()\n",
        "\n",
        "# Probability of a person being in Texas given they are Hispanic\n",
        "p_texas_given_hispanic = ((police_shootings['state'] == 'TX') & (police_shootings['race'] == 'Hispanic')).sum() / (police_shootings['race'] == 'Hispanic').sum()\n",
        "\n",
        "# Applying Bayes' Theorem\n",
        "p_hispanic_given_texas = (p_texas_given_hispanic * p_hispanic) / p_texas * 100\n",
        "\n",
        "print(f\"The probability that the victim was Hispanic given that the person was in Texas: {round(p_hispanic_given_texas, 2)}%\")"
      ],
      "metadata": {
        "id": "wvfQAU_giToO",
        "colab": {
          "base_uri": "https://localhost:8080/"
        },
        "outputId": "f301c4d5-28a5-40ba-a537-549dc7447a90"
      },
      "execution_count": null,
      "outputs": [
        {
          "output_type": "stream",
          "name": "stdout",
          "text": [
            "The probability that the victim was Hispanic given that the person was in Texas: 34.53%\n"
          ]
        }
      ]
    },
    {
      "cell_type": "markdown",
      "source": [
        "Probability that a person is not White given that they were unarmed"
      ],
      "metadata": {
        "id": "ZSJXmJX_i0W_"
      }
    },
    {
      "cell_type": "code",
      "source": [
        "# Probability of being unarmed\n",
        "p_unarmed = (police_shootings['armed'] == 'unarmed').mean()\n",
        "\n",
        "# Probability of not being White\n",
        "p_not_white = (police_shootings['race'] != 'White').mean()\n",
        "\n",
        "# Probability of being unarmed given not White\n",
        "p_unarmed_given_not_white = ((police_shootings['armed'] == 'unarmed') & (police_shootings['race'] != 'White')).sum() / (police_shootings['race'] != 'White').sum()\n",
        "\n",
        "# Applying Bayes' Theorem\n",
        "p_not_white_given_unarmed = (p_unarmed_given_not_white * p_not_white) / p_unarmed * 100\n",
        "\n",
        "print(f\"The probability that the victim was not White given that the person was unarmed: {round(p_not_white_given_unarmed, 2)}%\")"
      ],
      "metadata": {
        "id": "-FAUvDmEi3fd",
        "colab": {
          "base_uri": "https://localhost:8080/"
        },
        "outputId": "ef1a00fd-3b60-4d75-f204-8ed2692833fe"
      },
      "execution_count": null,
      "outputs": [
        {
          "output_type": "stream",
          "name": "stdout",
          "text": [
            "The probability that the victim was not White given that the person was unarmed: 60.25%\n"
          ]
        }
      ]
    },
    {
      "cell_type": "markdown",
      "source": [
        "Probability that a person had signs of mental illness given that they were under 21 years old"
      ],
      "metadata": {
        "id": "Cdjq-EvJjXUo"
      }
    },
    {
      "cell_type": "code",
      "source": [
        "# Probability of being under 21 years old\n",
        "p_under_21 = (police_shootings['age'] < 21).mean()\n",
        "\n",
        "# Probability of having signs of mental illness\n",
        "p_mental_illness = (police_shootings['signs_of_mental_illness'] == True).mean()\n",
        "\n",
        "# Probability of being under 21 given having signs of mental illness\n",
        "p_under_21_given_mental = ((police_shootings['age'] < 21) & (police_shootings['signs_of_mental_illness'] == True)).sum() / (police_shootings['signs_of_mental_illness'] == True).sum()\n",
        "\n",
        "# Applying Bayes' Theorem\n",
        "p_mental_given_under_21 = (p_under_21_given_mental * p_mental_illness) / p_under_21 * 100\n",
        "\n",
        "print(f\"The probability that the victim had signs of mental illness given that the person was under 21: {round(p_mental_given_under_21, 2)}%\")\n"
      ],
      "metadata": {
        "id": "d4Ron9tvjXGm",
        "colab": {
          "base_uri": "https://localhost:8080/"
        },
        "outputId": "9fe7ce06-591f-44b9-9872-94c480f072f8"
      },
      "execution_count": null,
      "outputs": [
        {
          "output_type": "stream",
          "name": "stdout",
          "text": [
            "The probability that the victim had signs of mental illness given that the person was under 21: 13.09%\n"
          ]
        }
      ]
    },
    {
      "cell_type": "markdown",
      "source": [
        "Probability that a person was armed given that they were under 18 years old"
      ],
      "metadata": {
        "id": "RaW3yS2aj8nJ"
      }
    },
    {
      "cell_type": "code",
      "source": [
        "# Probability of being under 18 years old\n",
        "p_under_18 = (police_shootings['age'] < 18).mean()\n",
        "\n",
        "# Probability of being armed\n",
        "p_armed = (police_shootings['armed'] != 'unarmed').mean()\n",
        "\n",
        "# Probability of being under 18 given that the person was armed\n",
        "p_under_18_given_armed = ((police_shootings['age'] < 18) & (police_shootings['armed'] != 'unarmed')).sum() / (police_shootings['armed'] != 'unarmed').sum()\n",
        "\n",
        "# Applying Bayes' Theorem\n",
        "p_armed_given_under_18 = (p_under_18_given_armed * p_armed) / p_under_18 * 100\n",
        "\n",
        "print(f\"The probability that the victim was armed given that the person was under 18: {round(p_armed_given_under_18, 2)}%\")\n"
      ],
      "metadata": {
        "id": "28BzRfQgj_v3",
        "colab": {
          "base_uri": "https://localhost:8080/"
        },
        "outputId": "7238cacf-3b0b-485c-a4e2-c9c81806da2e"
      },
      "execution_count": null,
      "outputs": [
        {
          "output_type": "stream",
          "name": "stdout",
          "text": [
            "The probability that the victim was armed given that the person was under 18: 88.76%\n"
          ]
        }
      ]
    },
    {
      "cell_type": "markdown",
      "source": [
        "### Random Variables"
      ],
      "metadata": {
        "id": "GsyPp_4kVssa"
      }
    },
    {
      "cell_type": "markdown",
      "source": [
        "- All the victim's races"
      ],
      "metadata": {
        "id": "7Ocx5Qk7Vx6D"
      }
    },
    {
      "cell_type": "code",
      "source": [
        "# Sorted by letter\n",
        "police_shootings['race'].value_counts().sort_index()"
      ],
      "metadata": {
        "id": "0F6ANw8EVw1I",
        "colab": {
          "base_uri": "https://localhost:8080/",
          "height": 492
        },
        "outputId": "dbd8d322-d7f2-42d1-e2ed-0d54fa9ca7c6"
      },
      "execution_count": null,
      "outputs": [
        {
          "output_type": "execute_result",
          "data": {
            "text/plain": [
              "race\n",
              "Asian                           175\n",
              "Black                          2346\n",
              "Black,Hispanic                    2\n",
              "Hispanic                       1623\n",
              "Native American                 135\n",
              "Native American,Hispanic          1\n",
              "Other                            31\n",
              "Unknown                        1144\n",
              "White                          4432\n",
              "White,Black                       2\n",
              "White,Black,Native American       1\n",
              "White,Hispanic                    1\n",
              "Name: count, dtype: int64"
            ],
            "text/html": [
              "<div>\n",
              "<style scoped>\n",
              "    .dataframe tbody tr th:only-of-type {\n",
              "        vertical-align: middle;\n",
              "    }\n",
              "\n",
              "    .dataframe tbody tr th {\n",
              "        vertical-align: top;\n",
              "    }\n",
              "\n",
              "    .dataframe thead th {\n",
              "        text-align: right;\n",
              "    }\n",
              "</style>\n",
              "<table border=\"1\" class=\"dataframe\">\n",
              "  <thead>\n",
              "    <tr style=\"text-align: right;\">\n",
              "      <th></th>\n",
              "      <th>count</th>\n",
              "    </tr>\n",
              "    <tr>\n",
              "      <th>race</th>\n",
              "      <th></th>\n",
              "    </tr>\n",
              "  </thead>\n",
              "  <tbody>\n",
              "    <tr>\n",
              "      <th>Asian</th>\n",
              "      <td>175</td>\n",
              "    </tr>\n",
              "    <tr>\n",
              "      <th>Black</th>\n",
              "      <td>2346</td>\n",
              "    </tr>\n",
              "    <tr>\n",
              "      <th>Black,Hispanic</th>\n",
              "      <td>2</td>\n",
              "    </tr>\n",
              "    <tr>\n",
              "      <th>Hispanic</th>\n",
              "      <td>1623</td>\n",
              "    </tr>\n",
              "    <tr>\n",
              "      <th>Native American</th>\n",
              "      <td>135</td>\n",
              "    </tr>\n",
              "    <tr>\n",
              "      <th>Native American,Hispanic</th>\n",
              "      <td>1</td>\n",
              "    </tr>\n",
              "    <tr>\n",
              "      <th>Other</th>\n",
              "      <td>31</td>\n",
              "    </tr>\n",
              "    <tr>\n",
              "      <th>Unknown</th>\n",
              "      <td>1144</td>\n",
              "    </tr>\n",
              "    <tr>\n",
              "      <th>White</th>\n",
              "      <td>4432</td>\n",
              "    </tr>\n",
              "    <tr>\n",
              "      <th>White,Black</th>\n",
              "      <td>2</td>\n",
              "    </tr>\n",
              "    <tr>\n",
              "      <th>White,Black,Native American</th>\n",
              "      <td>1</td>\n",
              "    </tr>\n",
              "    <tr>\n",
              "      <th>White,Hispanic</th>\n",
              "      <td>1</td>\n",
              "    </tr>\n",
              "  </tbody>\n",
              "</table>\n",
              "</div><br><label><b>dtype:</b> int64</label>"
            ]
          },
          "metadata": {},
          "execution_count": 45
        }
      ]
    },
    {
      "cell_type": "markdown",
      "source": [
        "- All the states that the victims died\n",
        "\n",
        "> Adicionar aspas\n",
        "\n"
      ],
      "metadata": {
        "id": "mB7EYI1UVzNK"
      }
    },
    {
      "cell_type": "code",
      "source": [
        "# value_counts() by default provides the ascending version\n",
        "police_shootings['state'].value_counts()"
      ],
      "metadata": {
        "id": "JVopKoPAVySm",
        "colab": {
          "base_uri": "https://localhost:8080/",
          "height": 1000
        },
        "outputId": "2bb48116-01fb-4b60-c594-fc2e8978242a"
      },
      "execution_count": null,
      "outputs": [
        {
          "output_type": "execute_result",
          "data": {
            "text/plain": [
              "state\n",
              "CA    1357\n",
              "TX     944\n",
              "FL     635\n",
              "AZ     440\n",
              "GA     369\n",
              "CO     355\n",
              "NC     296\n",
              "OH     284\n",
              "TN     276\n",
              "WA     267\n",
              "OK     256\n",
              "MO     248\n",
              "PA     215\n",
              "NM     207\n",
              "IL     201\n",
              "IN     198\n",
              "LA     191\n",
              "AL     189\n",
              "NY     187\n",
              "VA     180\n",
              "MI     178\n",
              "KY     170\n",
              "NV     163\n",
              "SC     163\n",
              "WI     158\n",
              "OR     158\n",
              "AR     136\n",
              "MS     132\n",
              "UT     125\n",
              "MD     124\n",
              "MN     105\n",
              "NJ     104\n",
              "WV      96\n",
              "KS      95\n",
              "ID      85\n",
              "AK      66\n",
              "MT      63\n",
              "MA      60\n",
              "IA      59\n",
              "NE      47\n",
              "ME      46\n",
              "HI      45\n",
              "WY      33\n",
              "SD      32\n",
              "CT      31\n",
              "NH      31\n",
              "DC      29\n",
              "DE      21\n",
              "ND      20\n",
              "VT      15\n",
              "RI       8\n",
              "Name: count, dtype: int64"
            ],
            "text/html": [
              "<div>\n",
              "<style scoped>\n",
              "    .dataframe tbody tr th:only-of-type {\n",
              "        vertical-align: middle;\n",
              "    }\n",
              "\n",
              "    .dataframe tbody tr th {\n",
              "        vertical-align: top;\n",
              "    }\n",
              "\n",
              "    .dataframe thead th {\n",
              "        text-align: right;\n",
              "    }\n",
              "</style>\n",
              "<table border=\"1\" class=\"dataframe\">\n",
              "  <thead>\n",
              "    <tr style=\"text-align: right;\">\n",
              "      <th></th>\n",
              "      <th>count</th>\n",
              "    </tr>\n",
              "    <tr>\n",
              "      <th>state</th>\n",
              "      <th></th>\n",
              "    </tr>\n",
              "  </thead>\n",
              "  <tbody>\n",
              "    <tr>\n",
              "      <th>CA</th>\n",
              "      <td>1357</td>\n",
              "    </tr>\n",
              "    <tr>\n",
              "      <th>TX</th>\n",
              "      <td>944</td>\n",
              "    </tr>\n",
              "    <tr>\n",
              "      <th>FL</th>\n",
              "      <td>635</td>\n",
              "    </tr>\n",
              "    <tr>\n",
              "      <th>AZ</th>\n",
              "      <td>440</td>\n",
              "    </tr>\n",
              "    <tr>\n",
              "      <th>GA</th>\n",
              "      <td>369</td>\n",
              "    </tr>\n",
              "    <tr>\n",
              "      <th>CO</th>\n",
              "      <td>355</td>\n",
              "    </tr>\n",
              "    <tr>\n",
              "      <th>NC</th>\n",
              "      <td>296</td>\n",
              "    </tr>\n",
              "    <tr>\n",
              "      <th>OH</th>\n",
              "      <td>284</td>\n",
              "    </tr>\n",
              "    <tr>\n",
              "      <th>TN</th>\n",
              "      <td>276</td>\n",
              "    </tr>\n",
              "    <tr>\n",
              "      <th>WA</th>\n",
              "      <td>267</td>\n",
              "    </tr>\n",
              "    <tr>\n",
              "      <th>OK</th>\n",
              "      <td>256</td>\n",
              "    </tr>\n",
              "    <tr>\n",
              "      <th>MO</th>\n",
              "      <td>248</td>\n",
              "    </tr>\n",
              "    <tr>\n",
              "      <th>PA</th>\n",
              "      <td>215</td>\n",
              "    </tr>\n",
              "    <tr>\n",
              "      <th>NM</th>\n",
              "      <td>207</td>\n",
              "    </tr>\n",
              "    <tr>\n",
              "      <th>IL</th>\n",
              "      <td>201</td>\n",
              "    </tr>\n",
              "    <tr>\n",
              "      <th>IN</th>\n",
              "      <td>198</td>\n",
              "    </tr>\n",
              "    <tr>\n",
              "      <th>LA</th>\n",
              "      <td>191</td>\n",
              "    </tr>\n",
              "    <tr>\n",
              "      <th>AL</th>\n",
              "      <td>189</td>\n",
              "    </tr>\n",
              "    <tr>\n",
              "      <th>NY</th>\n",
              "      <td>187</td>\n",
              "    </tr>\n",
              "    <tr>\n",
              "      <th>VA</th>\n",
              "      <td>180</td>\n",
              "    </tr>\n",
              "    <tr>\n",
              "      <th>MI</th>\n",
              "      <td>178</td>\n",
              "    </tr>\n",
              "    <tr>\n",
              "      <th>KY</th>\n",
              "      <td>170</td>\n",
              "    </tr>\n",
              "    <tr>\n",
              "      <th>NV</th>\n",
              "      <td>163</td>\n",
              "    </tr>\n",
              "    <tr>\n",
              "      <th>SC</th>\n",
              "      <td>163</td>\n",
              "    </tr>\n",
              "    <tr>\n",
              "      <th>WI</th>\n",
              "      <td>158</td>\n",
              "    </tr>\n",
              "    <tr>\n",
              "      <th>OR</th>\n",
              "      <td>158</td>\n",
              "    </tr>\n",
              "    <tr>\n",
              "      <th>AR</th>\n",
              "      <td>136</td>\n",
              "    </tr>\n",
              "    <tr>\n",
              "      <th>MS</th>\n",
              "      <td>132</td>\n",
              "    </tr>\n",
              "    <tr>\n",
              "      <th>UT</th>\n",
              "      <td>125</td>\n",
              "    </tr>\n",
              "    <tr>\n",
              "      <th>MD</th>\n",
              "      <td>124</td>\n",
              "    </tr>\n",
              "    <tr>\n",
              "      <th>MN</th>\n",
              "      <td>105</td>\n",
              "    </tr>\n",
              "    <tr>\n",
              "      <th>NJ</th>\n",
              "      <td>104</td>\n",
              "    </tr>\n",
              "    <tr>\n",
              "      <th>WV</th>\n",
              "      <td>96</td>\n",
              "    </tr>\n",
              "    <tr>\n",
              "      <th>KS</th>\n",
              "      <td>95</td>\n",
              "    </tr>\n",
              "    <tr>\n",
              "      <th>ID</th>\n",
              "      <td>85</td>\n",
              "    </tr>\n",
              "    <tr>\n",
              "      <th>AK</th>\n",
              "      <td>66</td>\n",
              "    </tr>\n",
              "    <tr>\n",
              "      <th>MT</th>\n",
              "      <td>63</td>\n",
              "    </tr>\n",
              "    <tr>\n",
              "      <th>MA</th>\n",
              "      <td>60</td>\n",
              "    </tr>\n",
              "    <tr>\n",
              "      <th>IA</th>\n",
              "      <td>59</td>\n",
              "    </tr>\n",
              "    <tr>\n",
              "      <th>NE</th>\n",
              "      <td>47</td>\n",
              "    </tr>\n",
              "    <tr>\n",
              "      <th>ME</th>\n",
              "      <td>46</td>\n",
              "    </tr>\n",
              "    <tr>\n",
              "      <th>HI</th>\n",
              "      <td>45</td>\n",
              "    </tr>\n",
              "    <tr>\n",
              "      <th>WY</th>\n",
              "      <td>33</td>\n",
              "    </tr>\n",
              "    <tr>\n",
              "      <th>SD</th>\n",
              "      <td>32</td>\n",
              "    </tr>\n",
              "    <tr>\n",
              "      <th>CT</th>\n",
              "      <td>31</td>\n",
              "    </tr>\n",
              "    <tr>\n",
              "      <th>NH</th>\n",
              "      <td>31</td>\n",
              "    </tr>\n",
              "    <tr>\n",
              "      <th>DC</th>\n",
              "      <td>29</td>\n",
              "    </tr>\n",
              "    <tr>\n",
              "      <th>DE</th>\n",
              "      <td>21</td>\n",
              "    </tr>\n",
              "    <tr>\n",
              "      <th>ND</th>\n",
              "      <td>20</td>\n",
              "    </tr>\n",
              "    <tr>\n",
              "      <th>VT</th>\n",
              "      <td>15</td>\n",
              "    </tr>\n",
              "    <tr>\n",
              "      <th>RI</th>\n",
              "      <td>8</td>\n",
              "    </tr>\n",
              "  </tbody>\n",
              "</table>\n",
              "</div><br><label><b>dtype:</b> int64</label>"
            ]
          },
          "metadata": {},
          "execution_count": 46
        }
      ]
    },
    {
      "cell_type": "markdown",
      "source": [
        "- Most common age's of the victim's"
      ],
      "metadata": {
        "id": "JBH7azp48ejq"
      }
    },
    {
      "cell_type": "code",
      "source": [
        "# head() provides the most common ages\n",
        "police_shootings['age'].value_counts().head(5)"
      ],
      "metadata": {
        "id": "X-5k_YO896fC",
        "colab": {
          "base_uri": "https://localhost:8080/",
          "height": 272
        },
        "outputId": "70c8e196-266e-435c-854d-95a42f4c98e7"
      },
      "execution_count": null,
      "outputs": [
        {
          "output_type": "execute_result",
          "data": {
            "text/plain": [
              "age\n",
              "33.0    332\n",
              "34.0    328\n",
              "31.0    321\n",
              "32.0    315\n",
              "30.0    313\n",
              "Name: count, dtype: int64"
            ],
            "text/html": [
              "<div>\n",
              "<style scoped>\n",
              "    .dataframe tbody tr th:only-of-type {\n",
              "        vertical-align: middle;\n",
              "    }\n",
              "\n",
              "    .dataframe tbody tr th {\n",
              "        vertical-align: top;\n",
              "    }\n",
              "\n",
              "    .dataframe thead th {\n",
              "        text-align: right;\n",
              "    }\n",
              "</style>\n",
              "<table border=\"1\" class=\"dataframe\">\n",
              "  <thead>\n",
              "    <tr style=\"text-align: right;\">\n",
              "      <th></th>\n",
              "      <th>count</th>\n",
              "    </tr>\n",
              "    <tr>\n",
              "      <th>age</th>\n",
              "      <th></th>\n",
              "    </tr>\n",
              "  </thead>\n",
              "  <tbody>\n",
              "    <tr>\n",
              "      <th>33.0</th>\n",
              "      <td>332</td>\n",
              "    </tr>\n",
              "    <tr>\n",
              "      <th>34.0</th>\n",
              "      <td>328</td>\n",
              "    </tr>\n",
              "    <tr>\n",
              "      <th>31.0</th>\n",
              "      <td>321</td>\n",
              "    </tr>\n",
              "    <tr>\n",
              "      <th>32.0</th>\n",
              "      <td>315</td>\n",
              "    </tr>\n",
              "    <tr>\n",
              "      <th>30.0</th>\n",
              "      <td>313</td>\n",
              "    </tr>\n",
              "  </tbody>\n",
              "</table>\n",
              "</div><br><label><b>dtype:</b> int64</label>"
            ]
          },
          "metadata": {},
          "execution_count": 47
        }
      ]
    },
    {
      "cell_type": "markdown",
      "source": [
        "- Least common age's of the victim's"
      ],
      "metadata": {
        "id": "IWlydOYV-pKI"
      }
    },
    {
      "cell_type": "code",
      "source": [
        "# tail() provides the least common ages\n",
        "police_shootings['age'].value_counts().tail(5)"
      ],
      "metadata": {
        "id": "b-EKaRXK-pa2",
        "colab": {
          "base_uri": "https://localhost:8080/",
          "height": 272
        },
        "outputId": "1b704672-4186-4ca6-dfac-1063884ffc3e"
      },
      "execution_count": null,
      "outputs": [
        {
          "output_type": "execute_result",
          "data": {
            "text/plain": [
              "age\n",
              "8.0     1\n",
              "92.0    1\n",
              "2.0     1\n",
              "85.0    1\n",
              "4.0     1\n",
              "Name: count, dtype: int64"
            ],
            "text/html": [
              "<div>\n",
              "<style scoped>\n",
              "    .dataframe tbody tr th:only-of-type {\n",
              "        vertical-align: middle;\n",
              "    }\n",
              "\n",
              "    .dataframe tbody tr th {\n",
              "        vertical-align: top;\n",
              "    }\n",
              "\n",
              "    .dataframe thead th {\n",
              "        text-align: right;\n",
              "    }\n",
              "</style>\n",
              "<table border=\"1\" class=\"dataframe\">\n",
              "  <thead>\n",
              "    <tr style=\"text-align: right;\">\n",
              "      <th></th>\n",
              "      <th>count</th>\n",
              "    </tr>\n",
              "    <tr>\n",
              "      <th>age</th>\n",
              "      <th></th>\n",
              "    </tr>\n",
              "  </thead>\n",
              "  <tbody>\n",
              "    <tr>\n",
              "      <th>8.0</th>\n",
              "      <td>1</td>\n",
              "    </tr>\n",
              "    <tr>\n",
              "      <th>92.0</th>\n",
              "      <td>1</td>\n",
              "    </tr>\n",
              "    <tr>\n",
              "      <th>2.0</th>\n",
              "      <td>1</td>\n",
              "    </tr>\n",
              "    <tr>\n",
              "      <th>85.0</th>\n",
              "      <td>1</td>\n",
              "    </tr>\n",
              "    <tr>\n",
              "      <th>4.0</th>\n",
              "      <td>1</td>\n",
              "    </tr>\n",
              "  </tbody>\n",
              "</table>\n",
              "</div><br><label><b>dtype:</b> int64</label>"
            ]
          },
          "metadata": {},
          "execution_count": 48
        }
      ]
    },
    {
      "cell_type": "markdown",
      "source": [
        "- All the police_departments by proprtions"
      ],
      "metadata": {
        "id": "mNEI77FS_Lfb"
      }
    },
    {
      "cell_type": "code",
      "source": [
        "# normalize() is gets proportions instead of counts\n",
        "police_shootings['police_departments_involved'].value_counts(normalize=True)"
      ],
      "metadata": {
        "id": "5b_RQb_e_Frc",
        "colab": {
          "base_uri": "https://localhost:8080/",
          "height": 490
        },
        "outputId": "823d786a-4ad7-4ac3-b234-fe0eac0a7bf6"
      },
      "execution_count": null,
      "outputs": [
        {
          "output_type": "execute_result",
          "data": {
            "text/plain": [
              "police_departments_involved\n",
              "Los Angeles Police Department, CA                            0.014052\n",
              "Phoenix Police Department, AZ                                0.012030\n",
              "Los Angeles County Sheriff's Department, CA                  0.011120\n",
              "New York Police Department, NY                               0.007784\n",
              "Houston Police Department, TX                                0.007784\n",
              "                                                               ...   \n",
              "Kansas Capitol Police, KS;Topeka Police Department, KS       0.000101\n",
              "Columbia County Sheriff's Department, AR                     0.000101\n",
              "Clare County Sheriff's Department, MI                        0.000101\n",
              "Wayne County Sheriff's Department, MI                        0.000101\n",
              "Alaska Wildlife Troopers, AK;Juneau Police Department, AK    0.000101\n",
              "Name: proportion, Length: 3726, dtype: float64"
            ],
            "text/html": [
              "<div>\n",
              "<style scoped>\n",
              "    .dataframe tbody tr th:only-of-type {\n",
              "        vertical-align: middle;\n",
              "    }\n",
              "\n",
              "    .dataframe tbody tr th {\n",
              "        vertical-align: top;\n",
              "    }\n",
              "\n",
              "    .dataframe thead th {\n",
              "        text-align: right;\n",
              "    }\n",
              "</style>\n",
              "<table border=\"1\" class=\"dataframe\">\n",
              "  <thead>\n",
              "    <tr style=\"text-align: right;\">\n",
              "      <th></th>\n",
              "      <th>proportion</th>\n",
              "    </tr>\n",
              "    <tr>\n",
              "      <th>police_departments_involved</th>\n",
              "      <th></th>\n",
              "    </tr>\n",
              "  </thead>\n",
              "  <tbody>\n",
              "    <tr>\n",
              "      <th>Los Angeles Police Department, CA</th>\n",
              "      <td>0.014052</td>\n",
              "    </tr>\n",
              "    <tr>\n",
              "      <th>Phoenix Police Department, AZ</th>\n",
              "      <td>0.012030</td>\n",
              "    </tr>\n",
              "    <tr>\n",
              "      <th>Los Angeles County Sheriff's Department, CA</th>\n",
              "      <td>0.011120</td>\n",
              "    </tr>\n",
              "    <tr>\n",
              "      <th>New York Police Department, NY</th>\n",
              "      <td>0.007784</td>\n",
              "    </tr>\n",
              "    <tr>\n",
              "      <th>Houston Police Department, TX</th>\n",
              "      <td>0.007784</td>\n",
              "    </tr>\n",
              "    <tr>\n",
              "      <th>...</th>\n",
              "      <td>...</td>\n",
              "    </tr>\n",
              "    <tr>\n",
              "      <th>Kansas Capitol Police, KS;Topeka Police Department, KS</th>\n",
              "      <td>0.000101</td>\n",
              "    </tr>\n",
              "    <tr>\n",
              "      <th>Columbia County Sheriff's Department, AR</th>\n",
              "      <td>0.000101</td>\n",
              "    </tr>\n",
              "    <tr>\n",
              "      <th>Clare County Sheriff's Department, MI</th>\n",
              "      <td>0.000101</td>\n",
              "    </tr>\n",
              "    <tr>\n",
              "      <th>Wayne County Sheriff's Department, MI</th>\n",
              "      <td>0.000101</td>\n",
              "    </tr>\n",
              "    <tr>\n",
              "      <th>Alaska Wildlife Troopers, AK;Juneau Police Department, AK</th>\n",
              "      <td>0.000101</td>\n",
              "    </tr>\n",
              "  </tbody>\n",
              "</table>\n",
              "<p>3726 rows × 1 columns</p>\n",
              "</div><br><label><b>dtype:</b> float64</label>"
            ]
          },
          "metadata": {},
          "execution_count": 49
        }
      ]
    },
    {
      "cell_type": "markdown",
      "source": [
        "- All victim's flee's\n"
      ],
      "metadata": {
        "id": "3Suzst3f_FI2"
      }
    },
    {
      "cell_type": "code",
      "source": [
        "police_shootings['flee'].value_counts(dropna=False)"
      ],
      "metadata": {
        "id": "R69aY7kd_r5-",
        "colab": {
          "base_uri": "https://localhost:8080/",
          "height": 272
        },
        "outputId": "300d26e3-edd5-4efb-f7a0-c68ba15b4f27"
      },
      "execution_count": null,
      "outputs": [
        {
          "output_type": "execute_result",
          "data": {
            "text/plain": [
              "flee\n",
              "not      5328\n",
              "car      1557\n",
              "NaN      1345\n",
              "foot     1296\n",
              "other     367\n",
              "Name: count, dtype: int64"
            ],
            "text/html": [
              "<div>\n",
              "<style scoped>\n",
              "    .dataframe tbody tr th:only-of-type {\n",
              "        vertical-align: middle;\n",
              "    }\n",
              "\n",
              "    .dataframe tbody tr th {\n",
              "        vertical-align: top;\n",
              "    }\n",
              "\n",
              "    .dataframe thead th {\n",
              "        text-align: right;\n",
              "    }\n",
              "</style>\n",
              "<table border=\"1\" class=\"dataframe\">\n",
              "  <thead>\n",
              "    <tr style=\"text-align: right;\">\n",
              "      <th></th>\n",
              "      <th>count</th>\n",
              "    </tr>\n",
              "    <tr>\n",
              "      <th>flee</th>\n",
              "      <th></th>\n",
              "    </tr>\n",
              "  </thead>\n",
              "  <tbody>\n",
              "    <tr>\n",
              "      <th>not</th>\n",
              "      <td>5328</td>\n",
              "    </tr>\n",
              "    <tr>\n",
              "      <th>car</th>\n",
              "      <td>1557</td>\n",
              "    </tr>\n",
              "    <tr>\n",
              "      <th>NaN</th>\n",
              "      <td>1345</td>\n",
              "    </tr>\n",
              "    <tr>\n",
              "      <th>foot</th>\n",
              "      <td>1296</td>\n",
              "    </tr>\n",
              "    <tr>\n",
              "      <th>other</th>\n",
              "      <td>367</td>\n",
              "    </tr>\n",
              "  </tbody>\n",
              "</table>\n",
              "</div><br><label><b>dtype:</b> int64</label>"
            ]
          },
          "metadata": {},
          "execution_count": 50
        }
      ]
    },
    {
      "cell_type": "markdown",
      "source": [
        "### Probability Function"
      ],
      "metadata": {
        "id": "10Ghorf1V1Wd"
      }
    },
    {
      "cell_type": "code",
      "source": [
        "# Calculate the probability distribution for the 'race' column\n",
        "race_probabilities = police_shootings['race'].value_counts(sort=False).sort_index() / police_shootings['race'].count()\n",
        "\n",
        "# Display the probabilities for each race\n",
        "print(\"Probability distribution for 'race':\\n\", race_probabilities)"
      ],
      "metadata": {
        "id": "7vRzFuxmV5XT",
        "colab": {
          "base_uri": "https://localhost:8080/"
        },
        "outputId": "f8288d24-5877-4b29-88bd-3f43e0e35064"
      },
      "execution_count": null,
      "outputs": [
        {
          "output_type": "stream",
          "name": "stdout",
          "text": [
            "Probability distribution for 'race':\n",
            " race\n",
            "Asian                          0.017689\n",
            "Black                          0.237137\n",
            "Black,Hispanic                 0.000202\n",
            "Hispanic                       0.164055\n",
            "Native American                0.013646\n",
            "Native American,Hispanic       0.000101\n",
            "Other                          0.003134\n",
            "Unknown                        0.115637\n",
            "White                          0.447994\n",
            "White,Black                    0.000202\n",
            "White,Black,Native American    0.000101\n",
            "White,Hispanic                 0.000101\n",
            "Name: count, dtype: float64\n"
          ]
        }
      ]
    },
    {
      "cell_type": "code",
      "source": [
        "# Calculate the probability distribution for the 'armed' column\n",
        "armed_probabilities = police_shootings['armed'].value_counts(sort=False).sort_index() / police_shootings['armed'].count()\n",
        "\n",
        "# Display the probabilities for each armed status\n",
        "print(\"\\nProbability distribution for 'armed':\\n\", armed_probabilities)\n"
      ],
      "metadata": {
        "id": "RJ-J1hW-V5-S",
        "colab": {
          "base_uri": "https://localhost:8080/"
        },
        "outputId": "8f29b866-5c8e-4f7e-97ab-66a8e6c99f94"
      },
      "execution_count": null,
      "outputs": [
        {
          "output_type": "stream",
          "name": "stdout",
          "text": [
            "\n",
            "Probability distribution for 'armed':\n",
            " armed\n",
            "blunt_object                 0.024685\n",
            "blunt_object,blunt_object    0.000310\n",
            "blunt_object,knife           0.000310\n",
            "blunt_object,other           0.000103\n",
            "gun                          0.593679\n",
            "gun,knife                    0.004131\n",
            "gun,other                    0.000103\n",
            "gun,vehicle                  0.003925\n",
            "knife                        0.173828\n",
            "knife,blunt_object           0.000413\n",
            "knife,knife                  0.000516\n",
            "knife,vehicle                0.000310\n",
            "other                        0.010122\n",
            "other,blunt_object,knife     0.000103\n",
            "other,gun                    0.000413\n",
            "other,knife                  0.000103\n",
            "replica                      0.032431\n",
            "replica,knife                0.000103\n",
            "replica,vehicle              0.000103\n",
            "unarmed                      0.056910\n",
            "undetermined                 0.043483\n",
            "unknown                      0.015286\n",
            "vehicle                      0.036253\n",
            "vehicle,gun                  0.002066\n",
            "vehicle,knife                0.000207\n",
            "vehicle,knife,other          0.000103\n",
            "Name: count, dtype: float64\n"
          ]
        }
      ]
    },
    {
      "cell_type": "markdown",
      "source": [
        "### Cumulative Distribution Function"
      ],
      "metadata": {
        "id": "jDGITRwsV7ph"
      }
    },
    {
      "cell_type": "markdown",
      "source": [
        "Cumulative Distribution Function for races"
      ],
      "metadata": {
        "id": "BBYuGI17V_3h"
      }
    },
    {
      "cell_type": "code",
      "source": [
        "race_probabilities.cumsum()"
      ],
      "metadata": {
        "id": "NldothkGV_NT",
        "colab": {
          "base_uri": "https://localhost:8080/",
          "height": 492
        },
        "outputId": "731b6128-ff3c-46ef-c74e-e6b9e87023f0"
      },
      "execution_count": null,
      "outputs": [
        {
          "output_type": "execute_result",
          "data": {
            "text/plain": [
              "race\n",
              "Asian                          0.017689\n",
              "Black                          0.254827\n",
              "Black,Hispanic                 0.255029\n",
              "Hispanic                       0.419084\n",
              "Native American                0.432730\n",
              "Native American,Hispanic       0.432831\n",
              "Other                          0.435965\n",
              "Unknown                        0.551602\n",
              "White                          0.999596\n",
              "White,Black                    0.999798\n",
              "White,Black,Native American    0.999899\n",
              "White,Hispanic                 1.000000\n",
              "Name: count, dtype: float64"
            ],
            "text/html": [
              "<div>\n",
              "<style scoped>\n",
              "    .dataframe tbody tr th:only-of-type {\n",
              "        vertical-align: middle;\n",
              "    }\n",
              "\n",
              "    .dataframe tbody tr th {\n",
              "        vertical-align: top;\n",
              "    }\n",
              "\n",
              "    .dataframe thead th {\n",
              "        text-align: right;\n",
              "    }\n",
              "</style>\n",
              "<table border=\"1\" class=\"dataframe\">\n",
              "  <thead>\n",
              "    <tr style=\"text-align: right;\">\n",
              "      <th></th>\n",
              "      <th>count</th>\n",
              "    </tr>\n",
              "    <tr>\n",
              "      <th>race</th>\n",
              "      <th></th>\n",
              "    </tr>\n",
              "  </thead>\n",
              "  <tbody>\n",
              "    <tr>\n",
              "      <th>Asian</th>\n",
              "      <td>0.017689</td>\n",
              "    </tr>\n",
              "    <tr>\n",
              "      <th>Black</th>\n",
              "      <td>0.254827</td>\n",
              "    </tr>\n",
              "    <tr>\n",
              "      <th>Black,Hispanic</th>\n",
              "      <td>0.255029</td>\n",
              "    </tr>\n",
              "    <tr>\n",
              "      <th>Hispanic</th>\n",
              "      <td>0.419084</td>\n",
              "    </tr>\n",
              "    <tr>\n",
              "      <th>Native American</th>\n",
              "      <td>0.432730</td>\n",
              "    </tr>\n",
              "    <tr>\n",
              "      <th>Native American,Hispanic</th>\n",
              "      <td>0.432831</td>\n",
              "    </tr>\n",
              "    <tr>\n",
              "      <th>Other</th>\n",
              "      <td>0.435965</td>\n",
              "    </tr>\n",
              "    <tr>\n",
              "      <th>Unknown</th>\n",
              "      <td>0.551602</td>\n",
              "    </tr>\n",
              "    <tr>\n",
              "      <th>White</th>\n",
              "      <td>0.999596</td>\n",
              "    </tr>\n",
              "    <tr>\n",
              "      <th>White,Black</th>\n",
              "      <td>0.999798</td>\n",
              "    </tr>\n",
              "    <tr>\n",
              "      <th>White,Black,Native American</th>\n",
              "      <td>0.999899</td>\n",
              "    </tr>\n",
              "    <tr>\n",
              "      <th>White,Hispanic</th>\n",
              "      <td>1.000000</td>\n",
              "    </tr>\n",
              "  </tbody>\n",
              "</table>\n",
              "</div><br><label><b>dtype:</b> float64</label>"
            ]
          },
          "metadata": {},
          "execution_count": 53
        }
      ]
    },
    {
      "cell_type": "markdown",
      "source": [
        "Cumulative Distribution Function for 'armed'"
      ],
      "metadata": {
        "id": "Wc0qqlgYV-2Y"
      }
    },
    {
      "cell_type": "code",
      "source": [
        "armed_probabilities.cumsum()"
      ],
      "metadata": {
        "id": "aYgWaFjZWAxq",
        "colab": {
          "base_uri": "https://localhost:8080/",
          "height": 931
        },
        "outputId": "c2870231-d6d1-4742-e738-b409d49430a3"
      },
      "execution_count": null,
      "outputs": [
        {
          "output_type": "execute_result",
          "data": {
            "text/plain": [
              "armed\n",
              "blunt_object                 0.024685\n",
              "blunt_object,blunt_object    0.024995\n",
              "blunt_object,knife           0.025305\n",
              "blunt_object,other           0.025408\n",
              "gun                          0.619087\n",
              "gun,knife                    0.623218\n",
              "gun,other                    0.623322\n",
              "gun,vehicle                  0.627246\n",
              "knife                        0.801074\n",
              "knife,blunt_object           0.801487\n",
              "knife,knife                  0.802004\n",
              "knife,vehicle                0.802314\n",
              "other                        0.812435\n",
              "other,blunt_object,knife     0.812539\n",
              "other,gun                    0.812952\n",
              "other,knife                  0.813055\n",
              "replica                      0.845486\n",
              "replica,knife                0.845590\n",
              "replica,vehicle              0.845693\n",
              "unarmed                      0.902603\n",
              "undetermined                 0.946086\n",
              "unknown                      0.961372\n",
              "vehicle                      0.997624\n",
              "vehicle,gun                  0.999690\n",
              "vehicle,knife                0.999897\n",
              "vehicle,knife,other          1.000000\n",
              "Name: count, dtype: float64"
            ],
            "text/html": [
              "<div>\n",
              "<style scoped>\n",
              "    .dataframe tbody tr th:only-of-type {\n",
              "        vertical-align: middle;\n",
              "    }\n",
              "\n",
              "    .dataframe tbody tr th {\n",
              "        vertical-align: top;\n",
              "    }\n",
              "\n",
              "    .dataframe thead th {\n",
              "        text-align: right;\n",
              "    }\n",
              "</style>\n",
              "<table border=\"1\" class=\"dataframe\">\n",
              "  <thead>\n",
              "    <tr style=\"text-align: right;\">\n",
              "      <th></th>\n",
              "      <th>count</th>\n",
              "    </tr>\n",
              "    <tr>\n",
              "      <th>armed</th>\n",
              "      <th></th>\n",
              "    </tr>\n",
              "  </thead>\n",
              "  <tbody>\n",
              "    <tr>\n",
              "      <th>blunt_object</th>\n",
              "      <td>0.024685</td>\n",
              "    </tr>\n",
              "    <tr>\n",
              "      <th>blunt_object,blunt_object</th>\n",
              "      <td>0.024995</td>\n",
              "    </tr>\n",
              "    <tr>\n",
              "      <th>blunt_object,knife</th>\n",
              "      <td>0.025305</td>\n",
              "    </tr>\n",
              "    <tr>\n",
              "      <th>blunt_object,other</th>\n",
              "      <td>0.025408</td>\n",
              "    </tr>\n",
              "    <tr>\n",
              "      <th>gun</th>\n",
              "      <td>0.619087</td>\n",
              "    </tr>\n",
              "    <tr>\n",
              "      <th>gun,knife</th>\n",
              "      <td>0.623218</td>\n",
              "    </tr>\n",
              "    <tr>\n",
              "      <th>gun,other</th>\n",
              "      <td>0.623322</td>\n",
              "    </tr>\n",
              "    <tr>\n",
              "      <th>gun,vehicle</th>\n",
              "      <td>0.627246</td>\n",
              "    </tr>\n",
              "    <tr>\n",
              "      <th>knife</th>\n",
              "      <td>0.801074</td>\n",
              "    </tr>\n",
              "    <tr>\n",
              "      <th>knife,blunt_object</th>\n",
              "      <td>0.801487</td>\n",
              "    </tr>\n",
              "    <tr>\n",
              "      <th>knife,knife</th>\n",
              "      <td>0.802004</td>\n",
              "    </tr>\n",
              "    <tr>\n",
              "      <th>knife,vehicle</th>\n",
              "      <td>0.802314</td>\n",
              "    </tr>\n",
              "    <tr>\n",
              "      <th>other</th>\n",
              "      <td>0.812435</td>\n",
              "    </tr>\n",
              "    <tr>\n",
              "      <th>other,blunt_object,knife</th>\n",
              "      <td>0.812539</td>\n",
              "    </tr>\n",
              "    <tr>\n",
              "      <th>other,gun</th>\n",
              "      <td>0.812952</td>\n",
              "    </tr>\n",
              "    <tr>\n",
              "      <th>other,knife</th>\n",
              "      <td>0.813055</td>\n",
              "    </tr>\n",
              "    <tr>\n",
              "      <th>replica</th>\n",
              "      <td>0.845486</td>\n",
              "    </tr>\n",
              "    <tr>\n",
              "      <th>replica,knife</th>\n",
              "      <td>0.845590</td>\n",
              "    </tr>\n",
              "    <tr>\n",
              "      <th>replica,vehicle</th>\n",
              "      <td>0.845693</td>\n",
              "    </tr>\n",
              "    <tr>\n",
              "      <th>unarmed</th>\n",
              "      <td>0.902603</td>\n",
              "    </tr>\n",
              "    <tr>\n",
              "      <th>undetermined</th>\n",
              "      <td>0.946086</td>\n",
              "    </tr>\n",
              "    <tr>\n",
              "      <th>unknown</th>\n",
              "      <td>0.961372</td>\n",
              "    </tr>\n",
              "    <tr>\n",
              "      <th>vehicle</th>\n",
              "      <td>0.997624</td>\n",
              "    </tr>\n",
              "    <tr>\n",
              "      <th>vehicle,gun</th>\n",
              "      <td>0.999690</td>\n",
              "    </tr>\n",
              "    <tr>\n",
              "      <th>vehicle,knife</th>\n",
              "      <td>0.999897</td>\n",
              "    </tr>\n",
              "    <tr>\n",
              "      <th>vehicle,knife,other</th>\n",
              "      <td>1.000000</td>\n",
              "    </tr>\n",
              "  </tbody>\n",
              "</table>\n",
              "</div><br><label><b>dtype:</b> float64</label>"
            ]
          },
          "metadata": {},
          "execution_count": 54
        }
      ]
    },
    {
      "cell_type": "markdown",
      "source": [
        "### Simple Graphs"
      ],
      "metadata": {
        "id": "gRH0pFm1WGoy"
      }
    },
    {
      "cell_type": "markdown",
      "source": [
        "- Imports needed"
      ],
      "metadata": {
        "id": "APCAUmIWWKlw"
      }
    },
    {
      "cell_type": "code",
      "source": [
        "import matplotlib.pyplot as plt\n",
        "import seaborn as sns"
      ],
      "metadata": {
        "id": "gPcmLfjCWKY6"
      },
      "execution_count": null,
      "outputs": []
    },
    {
      "cell_type": "markdown",
      "source": [
        "- Graph displaying which gender got more killings"
      ],
      "metadata": {
        "id": "1TmN82KFqw1O"
      }
    },
    {
      "cell_type": "code",
      "source": [
        "gender = police_shootings['gender'].value_counts()\n",
        "\n",
        "# Create a pie plot with improved formatting\n",
        "plt.figure(figsize=(5, 5))  # Optional: adjust the figure size\n",
        "plt.pie(gender.values, labels=gender.index, autopct='%1.1f%%')\n",
        "\n",
        "# Add title\n",
        "plt.title('Police Killings by Gender')\n",
        "\n",
        "# Show the plot\n",
        "plt.show()"
      ],
      "metadata": {
        "id": "lLS--TzprBVg",
        "colab": {
          "base_uri": "https://localhost:8080/",
          "height": 444
        },
        "outputId": "a4f81f7e-2ffa-4592-ccda-b669a01b62a7"
      },
      "execution_count": null,
      "outputs": [
        {
          "output_type": "display_data",
          "data": {
            "text/plain": [
              "<Figure size 500x500 with 1 Axes>"
            ],
            "image/png": "[encoded data removed]"
          },
          "metadata": {}
        }
      ]
    },
    {
      "cell_type": "markdown",
      "source": [
        "- Graph displaying which race group had more killings"
      ],
      "metadata": {
        "id": "vnjuJ3OCQMwC"
      }
    },
    {
      "cell_type": "code",
      "source": [
        "# police_shootings['race'].value_counts()\n",
        "\n",
        "# Count incidents by race\n",
        "race_counts = police_shootings['race'].value_counts().head(6)\n",
        "\n",
        "# Create a pie plot with improved formatting\n",
        "plt.figure(figsize=(5, 5))  # Optional: adjust the figure size\n",
        "plt.pie(race_counts.values, labels=race_counts.index, autopct='%1.1f%%')\n",
        "\n",
        "# Add title\n",
        "plt.title('Police Killings by Race')\n",
        "\n",
        "# Show the plot\n",
        "plt.show()"
      ],
      "metadata": {
        "id": "axPHgjPSYAQ4",
        "colab": {
          "base_uri": "https://localhost:8080/",
          "height": 444
        },
        "outputId": "3ced5e73-8491-4fc6-fade-5c5b451f3914"
      },
      "execution_count": null,
      "outputs": [
        {
          "output_type": "display_data",
          "data": {
            "text/plain": [
              "<Figure size 500x500 with 1 Axes>"
            ],
            "image/png": "[encoded data removed]"
          },
          "metadata": {}
        }
      ]
    },
    {
      "cell_type": "markdown",
      "source": [
        "- Graph displaying the age range of the victim's"
      ],
      "metadata": {
        "id": "9OPXudXbWKSO"
      }
    },
    {
      "cell_type": "code",
      "source": [
        "# Count incidents by their age\n",
        "ages = police_shootings['age'].value_counts()\n",
        "\n",
        "# Create a bar plot with improved formatting\n",
        "plt.bar(ages.index, ages.values, color='skyblue')\n",
        "\n",
        "# Add labels and title\n",
        "plt.xlabel('Age')\n",
        "plt.ylabel('Number of Killings')\n",
        "plt.title('Police Killings by Age')\n",
        "\n",
        "# Rotate x-axis labels for better readability (optional)\n",
        "plt.xticks(rotation=45)\n",
        "\n",
        "# Adjust layout to prevent clipping\n",
        "plt.tight_layout()\n",
        "\n",
        "# Show the plot\n",
        "plt.show()"
      ],
      "metadata": {
        "id": "xfA-3y3OWKLr",
        "colab": {
          "base_uri": "https://localhost:8080/",
          "height": 487
        },
        "outputId": "ee52c53d-e1e6-465a-acd3-04cfcad77107"
      },
      "execution_count": null,
      "outputs": [
        {
          "output_type": "display_data",
          "data": {
            "text/plain": [
              "<Figure size 640x480 with 1 Axes>"
            ],
            "image/png": "[encoded data removed]"
          },
          "metadata": {}
        }
      ]
    },
    {
      "cell_type": "markdown",
      "source": [
        "- Graph displaying how many killings occured on each year"
      ],
      "metadata": {
        "id": "SfCxgOqSWJ32"
      }
    },
    {
      "cell_type": "code",
      "source": [
        "# Step 1: Convert the 'date' column to datetime format\n",
        "police_shootings['date'] = pd.to_datetime(police_shootings['date'])\n",
        "\n",
        "# Step 2: Extract the year from the 'date' column\n",
        "police_shootings['year'] = police_shootings['date'].dt.year\n",
        "\n",
        "# Step 3: Plot a histogram of the number of killings by year\n",
        "plt.figure(figsize=(8, 6))\n",
        "plt.hist(police_shootings['year'], bins=range(police_shootings['year'].min(), police_shootings['year'].max() + 2), color='lightgreen', edgecolor='black')\n",
        "\n",
        "# Add labels and title\n",
        "plt.xlabel('Year')\n",
        "plt.ylabel('Number of Killings')\n",
        "plt.title('Police Killings by Year')\n",
        "\n",
        "# Step 4: Set x-ticks to display all years\n",
        "plt.xticks(ticks=range(police_shootings['year'].min(), police_shootings['year'].max() + 1))\n",
        "\n",
        "# Adjust layout to prevent clipping\n",
        "plt.tight_layout()\n",
        "\n",
        "# Show the plot\n",
        "plt.show()"
      ],
      "metadata": {
        "id": "oyAj3wufWJwp",
        "colab": {
          "base_uri": "https://localhost:8080/",
          "height": 607
        },
        "outputId": "d2ac435c-4ba3-43fe-bf07-a194e4cd4ae4"
      },
      "execution_count": null,
      "outputs": [
        {
          "output_type": "display_data",
          "data": {
            "text/plain": [
              "<Figure size 800x600 with 1 Axes>"
            ],
            "image/png": "[encoded data removed]"
          },
          "metadata": {}
        }
      ]
    },
    {
      "cell_type": "markdown",
      "source": [
        "- Graph displaying the number of killings on each state"
      ],
      "metadata": {
        "id": "4fd6bPepWJo9"
      }
    },
    {
      "cell_type": "code",
      "source": [
        "# Step 1: Calculate the number of killings per state\n",
        "state_counts = police_shootings['state'].value_counts()\n",
        "\n",
        "# Step 2: Plot a bar chart\n",
        "plt.figure(figsize=(12, 8))  # Adjust figure size if needed\n",
        "plt.bar(state_counts.index, state_counts.values, color='red')\n",
        "\n",
        "# Add labels and title\n",
        "plt.xlabel('State')\n",
        "plt.ylabel('Number of Killings')\n",
        "plt.title('Number of Police Killings by State')\n",
        "\n",
        "# Step 3: Rotate x-axis labels and add margin between labels\n",
        "plt.xticks(rotation=90)  # Rotate labels for better readability\n",
        "plt.margins(x=0.01)  # Add space between the labels (adjust value as needed)\n",
        "\n",
        "# Adjust layout to prevent clipping\n",
        "plt.tight_layout()\n",
        "\n",
        "# Show the plot\n",
        "plt.show()"
      ],
      "metadata": {
        "id": "14OqirqSWJhM",
        "colab": {
          "base_uri": "https://localhost:8080/",
          "height": 807
        },
        "outputId": "db0cb99a-112e-4898-fdc4-831abc7956bb"
      },
      "execution_count": null,
      "outputs": [
        {
          "output_type": "display_data",
          "data": {
            "text/plain": [
              "<Figure size 1200x800 with 1 Axes>"
            ],
            "image/png": "[encoded data removed]"
          },
          "metadata": {}
        }
      ]
    },
    {
      "cell_type": "markdown",
      "source": [
        "### Variance and Standard Deviation"
      ],
      "metadata": {
        "id": "1mhFvtBXXCLB"
      }
    },
    {
      "cell_type": "markdown",
      "source": [
        "- Variance of victims' age"
      ],
      "metadata": {
        "id": "MaXGA7X_XFFG"
      }
    },
    {
      "cell_type": "code",
      "source": [
        "# Calculate the variance of the age of the victims\n",
        "age_variance = police_shootings['age'].var()\n",
        "print(f\"The variance of the victims' ages is: {age_variance:.2f}\")"
      ],
      "metadata": {
        "id": "BGL9DEybg-Nr",
        "colab": {
          "base_uri": "https://localhost:8080/"
        },
        "outputId": "2eacbae0-451e-44ae-e9ff-17c1914d9f21"
      },
      "execution_count": null,
      "outputs": [
        {
          "output_type": "stream",
          "name": "stdout",
          "text": [
            "The variance of the victims' ages is: 167.25\n"
          ]
        }
      ]
    },
    {
      "cell_type": "markdown",
      "source": [
        "- Standard deviation of victims' age"
      ],
      "metadata": {
        "id": "gloBFXVoLevv"
      }
    },
    {
      "cell_type": "code",
      "source": [
        "# Calculate the standard deviation of the age of the victims\n",
        "age_std_dev = police_shootings['age'].std()\n",
        "print(f\"The standard deviation of the victims' ages is: {age_std_dev:.2f}\")"
      ],
      "metadata": {
        "id": "9FVXBvLhLHVl",
        "colab": {
          "base_uri": "https://localhost:8080/"
        },
        "outputId": "3e28d63b-e6cd-4e29-9313-c92be378e095"
      },
      "execution_count": null,
      "outputs": [
        {
          "output_type": "stream",
          "name": "stdout",
          "text": [
            "The standard deviation of the victims' ages is: 12.93\n"
          ]
        }
      ]
    },
    {
      "cell_type": "markdown",
      "source": [
        "- Variance of victims' race"
      ],
      "metadata": {
        "id": "FNt6a7LxXGh7"
      }
    },
    {
      "cell_type": "code",
      "source": [
        "# Map 'race' to numerical values using the provided mapping\n",
        "race_mapping = {\n",
        "    'White': 1, 'Black': 2, 'Hispanic': 3, 'Asian': 4, 'Native American': 5,\n",
        "    'Other': 6, 'Unknown': 7\n",
        "}\n",
        "police_shootings['race_numeric'] = police_shootings['race'].map(race_mapping)\n",
        "\n",
        "# Calculate the variance for the 'race_numeric' column\n",
        "race_variance = police_shootings['race_numeric'].var()\n",
        "print(f\"The variance of the victims' race is: {race_variance:.2f}\")"
      ],
      "metadata": {
        "id": "7FGzSrTFXGVl",
        "colab": {
          "base_uri": "https://localhost:8080/"
        },
        "outputId": "23500f38-4d36-4bee-a54c-d5c04515bdf4"
      },
      "execution_count": null,
      "outputs": [
        {
          "output_type": "stream",
          "name": "stdout",
          "text": [
            "The variance of the victims' race is: 3.60\n"
          ]
        }
      ]
    },
    {
      "cell_type": "markdown",
      "source": [
        "- Standard deviation of victims' race"
      ],
      "metadata": {
        "id": "mj1oVLJBXGHY"
      }
    },
    {
      "cell_type": "code",
      "source": [
        "# Calculate the standard deviation for the 'race_numeric' column\n",
        "race_std_dev = police_shootings['race_numeric'].std()\n",
        "print(f\"The standard deviation of the victims' race is: {race_std_dev:.2f}\")"
      ],
      "metadata": {
        "id": "FUmN949HQCqx",
        "colab": {
          "base_uri": "https://localhost:8080/"
        },
        "outputId": "6050900d-f2e8-483d-c53e-416547cbd743"
      },
      "execution_count": null,
      "outputs": [
        {
          "output_type": "stream",
          "name": "stdout",
          "text": [
            "The standard deviation of the victims' race is: 1.90\n"
          ]
        }
      ]
    },
    {
      "cell_type": "markdown",
      "source": [
        "- Variance of victims' gender"
      ],
      "metadata": {
        "id": "4sJIpS5KQQW2"
      }
    },
    {
      "cell_type": "code",
      "source": [
        "# Map 'gender' to numerical values\n",
        "police_shootings['gender_numeric'] = police_shootings['gender'].map({'male': 1, 'female': 0, 'non-binary': 2})\n",
        "\n",
        "# Calculate variance for the 'gender_numeric' column\n",
        "gender_variance = police_shootings['gender_numeric'].var()\n",
        "print(f\"The variance of the victims' gender is: {gender_variance:.2f}\")"
      ],
      "metadata": {
        "id": "YrKWl82kQPqC",
        "colab": {
          "base_uri": "https://localhost:8080/"
        },
        "outputId": "30e15890-5aac-4dd8-f779-05b3e6c69439"
      },
      "execution_count": null,
      "outputs": [
        {
          "output_type": "stream",
          "name": "stdout",
          "text": [
            "The variance of the victims' gender is: 0.04\n"
          ]
        }
      ]
    },
    {
      "cell_type": "code",
      "source": [
        "gender_variance_std_dev = police_shootings['gender_numeric'].std()\n",
        "print(f\"The standard deviation of the victims' gender is: {gender_variance_std_dev:.2f}\")"
      ],
      "metadata": {
        "id": "iBN6oLigXJZF",
        "colab": {
          "base_uri": "https://localhost:8080/"
        },
        "outputId": "31b671b5-662c-4996-9d57-23dd903133bf"
      },
      "execution_count": null,
      "outputs": [
        {
          "output_type": "stream",
          "name": "stdout",
          "text": [
            "The standard deviation of the victims' gender is: 0.21\n"
          ]
        }
      ]
    },
    {
      "cell_type": "code",
      "source": [
        "# Convert 'flee' to numeric: 0 for 'not', 1 for 'foot' and 3 for 'other\n",
        "police_shootings['flee_numeric'] = police_shootings['flee'].map({'not': 0, 'car': 1, 'foot': 2, 'other': 3})\n",
        "\n",
        "# Calculate variance for the 'flee_numeric' column\n",
        "flee_variance = police_shootings['flee_numeric'].var()\n",
        "print(f\"The variance of the victims' flee's is: {flee_variance:.2f}\")"
      ],
      "metadata": {
        "id": "akqam0ojW-Gd",
        "colab": {
          "base_uri": "https://localhost:8080/"
        },
        "outputId": "76ad871f-8c19-40e5-9ca3-5412c7d01915"
      },
      "execution_count": null,
      "outputs": [
        {
          "output_type": "stream",
          "name": "stdout",
          "text": [
            "The variance of the victims' flee's is: 0.80\n"
          ]
        }
      ]
    },
    {
      "cell_type": "code",
      "source": [
        "flee_variance_std_dev = police_shootings['flee_numeric'].std()\n",
        "print(f\"The standard deviation of the victims' flee's is: {flee_variance_std_dev:.2f}\")"
      ],
      "metadata": {
        "id": "ZBtgLDEOXd-H",
        "colab": {
          "base_uri": "https://localhost:8080/"
        },
        "outputId": "c6f8901d-151e-4663-ba28-ce03db869ee9"
      },
      "execution_count": null,
      "outputs": [
        {
          "output_type": "stream",
          "name": "stdout",
          "text": [
            "The standard deviation of the victims' flee's is: 0.89\n"
          ]
        }
      ]
    },
    {
      "cell_type": "markdown",
      "source": [
        "### Covariance"
      ],
      "metadata": {
        "id": "dhFvS9WzXV9t"
      }
    },
    {
      "cell_type": "markdown",
      "source": [
        "- The covariance between age and gender\n",
        "\n",
        "---\n",
        "\n"
      ],
      "metadata": {
        "id": "8CTAE9ReXY7h"
      }
    },
    {
      "cell_type": "code",
      "source": [
        "# Convert 'gender' to numeric: 0 for 'male', 1 for 'female' and 2 for 'non-binary'\n",
        "police_shootings['gender'] = police_shootings['gender'].replace({'male': 0, \"female\": 1, 'non-binary': 2})\n",
        "\n",
        "police_shootings[['age', 'gender']].cov()"
      ],
      "metadata": {
        "id": "5NgViJCXXZWK",
        "colab": {
          "base_uri": "https://localhost:8080/"
        },
        "outputId": "788507a3-501b-4838-d01f-9b36f2025dec"
      },
      "execution_count": null,
      "outputs": [
        {
          "output_type": "stream",
          "name": "stderr",
          "text": [
            "<ipython-input-69-e2d37eb0fd0a>:2: FutureWarning: Downcasting behavior in `replace` is deprecated and will be removed in a future version. To retain the old behavior, explicitly call `result.infer_objects(copy=False)`. To opt-in to the future behavior, set `pd.set_option('future.no_silent_downcasting', True)`\n",
            "  police_shootings['gender'] = police_shootings['gender'].replace({'male': 0, \"female\": 1, 'non-binary': 2})\n"
          ]
        },
        {
          "output_type": "execute_result",
          "data": {
            "text/plain": [
              "               age    gender\n",
              "age     167.252564  0.013203\n",
              "gender    0.013203  0.043576"
            ],
            "text/html": [
              "\n",
              "  <div id=\"df-9f891897-e588-46f1-9c9b-f058043f14bf\" class=\"colab-df-container\">\n",
              "    <div>\n",
              "<style scoped>\n",
              "    .dataframe tbody tr th:only-of-type {\n",
              "        vertical-align: middle;\n",
              "    }\n",
              "\n",
              "    .dataframe tbody tr th {\n",
              "        vertical-align: top;\n",
              "    }\n",
              "\n",
              "    .dataframe thead th {\n",
              "        text-align: right;\n",
              "    }\n",
              "</style>\n",
              "<table border=\"1\" class=\"dataframe\">\n",
              "  <thead>\n",
              "    <tr style=\"text-align: right;\">\n",
              "      <th></th>\n",
              "      <th>age</th>\n",
              "      <th>gender</th>\n",
              "    </tr>\n",
              "  </thead>\n",
              "  <tbody>\n",
              "    <tr>\n",
              "      <th>age</th>\n",
              "      <td>167.252564</td>\n",
              "      <td>0.013203</td>\n",
              "    </tr>\n",
              "    <tr>\n",
              "      <th>gender</th>\n",
              "      <td>0.013203</td>\n",
              "      <td>0.043576</td>\n",
              "    </tr>\n",
              "  </tbody>\n",
              "</table>\n",
              "</div>\n",
              "    <div class=\"colab-df-buttons\">\n",
              "\n",
              "  <div class=\"colab-df-container\">\n",
              "    <button class=\"colab-df-convert\" onclick=\"convertToInteractive('df-9f891897-e588-46f1-9c9b-f058043f14bf')\"\n",
              "            title=\"Convert this dataframe to an interactive table.\"\n",
              "            style=\"display:none;\">\n",
              "\n",
              "  <svg xmlns=\"http://www.w3.org/2000/svg\" height=\"24px\" viewBox=\"0 -960 960 960\">\n",
              "    <path d=\"M120-120v-720h720v720H120Zm60-500h600v-160H180v160Zm220 220h160v-160H400v160Zm0 220h160v-160H400v160ZM180-400h160v-160H180v160Zm440 0h160v-160H620v160ZM180-180h160v-160H180v160Zm440 0h160v-160H620v160Z\"/>\n",
              "  </svg>\n",
              "    </button>\n",
              "\n",
              "  <style>\n",
              "    .colab-df-container {\n",
              "      display:flex;\n",
              "      gap: 12px;\n",
              "    }\n",
              "\n",
              "    .colab-df-convert {\n",
              "      background-color: #E8F0FE;\n",
              "      border: none;\n",
              "      border-radius: 50%;\n",
              "      cursor: pointer;\n",
              "      display: none;\n",
              "      fill: #1967D2;\n",
              "      height: 32px;\n",
              "      padding: 0 0 0 0;\n",
              "      width: 32px;\n",
              "    }\n",
              "\n",
              "    .colab-df-convert:hover {\n",
              "      background-color: #E2EBFA;\n",
              "      box-shadow: 0px 1px 2px rgba(60, 64, 67, 0.3), 0px 1px 3px 1px rgba(60, 64, 67, 0.15);\n",
              "      fill: #174EA6;\n",
              "    }\n",
              "\n",
              "    .colab-df-buttons div {\n",
              "      margin-bottom: 4px;\n",
              "    }\n",
              "\n",
              "    [theme=dark] .colab-df-convert {\n",
              "      background-color: #3B4455;\n",
              "      fill: #D2E3FC;\n",
              "    }\n",
              "\n",
              "    [theme=dark] .colab-df-convert:hover {\n",
              "      background-color: #434B5C;\n",
              "      box-shadow: 0px 1px 3px 1px rgba(0, 0, 0, 0.15);\n",
              "      filter: drop-shadow(0px 1px 2px rgba(0, 0, 0, 0.3));\n",
              "      fill: #FFFFFF;\n",
              "    }\n",
              "  </style>\n",
              "\n",
              "    <script>\n",
              "      const buttonEl =\n",
              "        document.querySelector('#df-9f891897-e588-46f1-9c9b-f058043f14bf button.colab-df-convert');\n",
              "      buttonEl.style.display =\n",
              "        google.colab.kernel.accessAllowed ? 'block' : 'none';\n",
              "\n",
              "      async function convertToInteractive(key) {\n",
              "        const element = document.querySelector('#df-9f891897-e588-46f1-9c9b-f058043f14bf');\n",
              "        const dataTable =\n",
              "          await google.colab.kernel.invokeFunction('convertToInteractive',\n",
              "                                                    [key], {});\n",
              "        if (!dataTable) return;\n",
              "\n",
              "        const docLinkHtml = 'Like what you see? Visit the ' +\n",
              "          '<a target=\"_blank\" href=https://colab.research.google.com/notebooks/data_table.ipynb>data table notebook</a>'\n",
              "          + ' to learn more about interactive tables.';\n",
              "        element.innerHTML = '';\n",
              "        dataTable['output_type'] = 'display_data';\n",
              "        await google.colab.output.renderOutput(dataTable, element);\n",
              "        const docLink = document.createElement('div');\n",
              "        docLink.innerHTML = docLinkHtml;\n",
              "        element.appendChild(docLink);\n",
              "      }\n",
              "    </script>\n",
              "  </div>\n",
              "\n",
              "\n",
              "<div id=\"df-fc76566f-8b50-4486-9104-7e758dd3b181\">\n",
              "  <button class=\"colab-df-quickchart\" onclick=\"quickchart('df-fc76566f-8b50-4486-9104-7e758dd3b181')\"\n",
              "            title=\"Suggest charts\"\n",
              "            style=\"display:none;\">\n",
              "\n",
              "<svg xmlns=\"http://www.w3.org/2000/svg\" height=\"24px\"viewBox=\"0 0 24 24\"\n",
              "     width=\"24px\">\n",
              "    <g>\n",
              "        <path d=\"M19 3H5c-1.1 0-2 .9-2 2v14c0 1.1.9 2 2 2h14c1.1 0 2-.9 2-2V5c0-1.1-.9-2-2-2zM9 17H7v-7h2v7zm4 0h-2V7h2v10zm4 0h-2v-4h2v4z\"/>\n",
              "    </g>\n",
              "</svg>\n",
              "  </button>\n",
              "\n",
              "<style>\n",
              "  .colab-df-quickchart {\n",
              "      --bg-color: #E8F0FE;\n",
              "      --fill-color: #1967D2;\n",
              "      --hover-bg-color: #E2EBFA;\n",
              "      --hover-fill-color: #174EA6;\n",
              "      --disabled-fill-color: #AAA;\n",
              "      --disabled-bg-color: #DDD;\n",
              "  }\n",
              "\n",
              "  [theme=dark] .colab-df-quickchart {\n",
              "      --bg-color: #3B4455;\n",
              "      --fill-color: #D2E3FC;\n",
              "      --hover-bg-color: #434B5C;\n",
              "      --hover-fill-color: #FFFFFF;\n",
              "      --disabled-bg-color: #3B4455;\n",
              "      --disabled-fill-color: #666;\n",
              "  }\n",
              "\n",
              "  .colab-df-quickchart {\n",
              "    background-color: var(--bg-color);\n",
              "    border: none;\n",
              "    border-radius: 50%;\n",
              "    cursor: pointer;\n",
              "    display: none;\n",
              "    fill: var(--fill-color);\n",
              "    height: 32px;\n",
              "    padding: 0;\n",
              "    width: 32px;\n",
              "  }\n",
              "\n",
              "  .colab-df-quickchart:hover {\n",
              "    background-color: var(--hover-bg-color);\n",
              "    box-shadow: 0 1px 2px rgba(60, 64, 67, 0.3), 0 1px 3px 1px rgba(60, 64, 67, 0.15);\n",
              "    fill: var(--button-hover-fill-color);\n",
              "  }\n",
              "\n",
              "  .colab-df-quickchart-complete:disabled,\n",
              "  .colab-df-quickchart-complete:disabled:hover {\n",
              "    background-color: var(--disabled-bg-color);\n",
              "    fill: var(--disabled-fill-color);\n",
              "    box-shadow: none;\n",
              "  }\n",
              "\n",
              "  .colab-df-spinner {\n",
              "    border: 2px solid var(--fill-color);\n",
              "    border-color: transparent;\n",
              "    border-bottom-color: var(--fill-color);\n",
              "    animation:\n",
              "      spin 1s steps(1) infinite;\n",
              "  }\n",
              "\n",
              "  @keyframes spin {\n",
              "    0% {\n",
              "      border-color: transparent;\n",
              "      border-bottom-color: var(--fill-color);\n",
              "      border-left-color: var(--fill-color);\n",
              "    }\n",
              "    20% {\n",
              "      border-color: transparent;\n",
              "      border-left-color: var(--fill-color);\n",
              "      border-top-color: var(--fill-color);\n",
              "    }\n",
              "    30% {\n",
              "      border-color: transparent;\n",
              "      border-left-color: var(--fill-color);\n",
              "      border-top-color: var(--fill-color);\n",
              "      border-right-color: var(--fill-color);\n",
              "    }\n",
              "    40% {\n",
              "      border-color: transparent;\n",
              "      border-right-color: var(--fill-color);\n",
              "      border-top-color: var(--fill-color);\n",
              "    }\n",
              "    60% {\n",
              "      border-color: transparent;\n",
              "      border-right-color: var(--fill-color);\n",
              "    }\n",
              "    80% {\n",
              "      border-color: transparent;\n",
              "      border-right-color: var(--fill-color);\n",
              "      border-bottom-color: var(--fill-color);\n",
              "    }\n",
              "    90% {\n",
              "      border-color: transparent;\n",
              "      border-bottom-color: var(--fill-color);\n",
              "    }\n",
              "  }\n",
              "</style>\n",
              "\n",
              "  <script>\n",
              "    async function quickchart(key) {\n",
              "      const quickchartButtonEl =\n",
              "        document.querySelector('#' + key + ' button');\n",
              "      quickchartButtonEl.disabled = true;  // To prevent multiple clicks.\n",
              "      quickchartButtonEl.classList.add('colab-df-spinner');\n",
              "      try {\n",
              "        const charts = await google.colab.kernel.invokeFunction(\n",
              "            'suggestCharts', [key], {});\n",
              "      } catch (error) {\n",
              "        console.error('Error during call to suggestCharts:', error);\n",
              "      }\n",
              "      quickchartButtonEl.classList.remove('colab-df-spinner');\n",
              "      quickchartButtonEl.classList.add('colab-df-quickchart-complete');\n",
              "    }\n",
              "    (() => {\n",
              "      let quickchartButtonEl =\n",
              "        document.querySelector('#df-fc76566f-8b50-4486-9104-7e758dd3b181 button');\n",
              "      quickchartButtonEl.style.display =\n",
              "        google.colab.kernel.accessAllowed ? 'block' : 'none';\n",
              "    })();\n",
              "  </script>\n",
              "</div>\n",
              "\n",
              "    </div>\n",
              "  </div>\n"
            ],
            "application/vnd.google.colaboratory.intrinsic+json": {
              "type": "dataframe",
              "summary": "{\n  \"name\": \"police_shootings[['age', 'gender']]\",\n  \"rows\": 2,\n  \"fields\": [\n    {\n      \"column\": \"age\",\n      \"properties\": {\n        \"dtype\": \"number\",\n        \"std\": 118.25608650309266,\n        \"min\": 0.013202852377812593,\n        \"max\": 167.25256421821737,\n        \"num_unique_values\": 2,\n        \"samples\": [\n          0.013202852377812593,\n          167.25256421821737\n        ],\n        \"semantic_type\": \"\",\n        \"description\": \"\"\n      }\n    },\n    {\n      \"column\": \"gender\",\n      \"properties\": {\n        \"dtype\": \"number\",\n        \"std\": 0.021477239623183597,\n        \"min\": 0.013202852377812593,\n        \"max\": 0.04357625593525566,\n        \"num_unique_values\": 2,\n        \"samples\": [\n          0.04357625593525566,\n          0.013202852377812593\n        ],\n        \"semantic_type\": \"\",\n        \"description\": \"\"\n      }\n    }\n  ]\n}"
            }
          },
          "metadata": {},
          "execution_count": 69
        }
      ]
    },
    {
      "cell_type": "markdown",
      "source": [
        "- The covariance between age and date (just used to day part)"
      ],
      "metadata": {
        "id": "2-pzfafiXaY_"
      }
    },
    {
      "cell_type": "code",
      "source": [
        "# Convert 'date' to datetime\n",
        "police_shootings['date'] = pd.to_datetime(police_shootings['date'])\n",
        "\n",
        "# Extract the day from the 'date' column and store it in a new column\n",
        "police_shootings['day'] = police_shootings['date'].dt.day\n",
        "\n",
        "# Calculate the covariance matrix between 'age' and 'day'\n",
        "police_shootings[['age', 'day']].cov()"
      ],
      "metadata": {
        "id": "LvJI6PpvXZ8p",
        "colab": {
          "base_uri": "https://localhost:8080/"
        },
        "outputId": "2b3d2e0b-11a7-473b-c4e3-db68839dc908"
      },
      "execution_count": null,
      "outputs": [
        {
          "output_type": "execute_result",
          "data": {
            "text/plain": [
              "            age        day\n",
              "age  167.252564  -1.736344\n",
              "day   -1.736344  78.143324"
            ],
            "text/html": [
              "\n",
              "  <div id=\"df-8c79c42b-9800-40cc-b09e-196bd314797b\" class=\"colab-df-container\">\n",
              "    <div>\n",
              "<style scoped>\n",
              "    .dataframe tbody tr th:only-of-type {\n",
              "        vertical-align: middle;\n",
              "    }\n",
              "\n",
              "    .dataframe tbody tr th {\n",
              "        vertical-align: top;\n",
              "    }\n",
              "\n",
              "    .dataframe thead th {\n",
              "        text-align: right;\n",
              "    }\n",
              "</style>\n",
              "<table border=\"1\" class=\"dataframe\">\n",
              "  <thead>\n",
              "    <tr style=\"text-align: right;\">\n",
              "      <th></th>\n",
              "      <th>age</th>\n",
              "      <th>day</th>\n",
              "    </tr>\n",
              "  </thead>\n",
              "  <tbody>\n",
              "    <tr>\n",
              "      <th>age</th>\n",
              "      <td>167.252564</td>\n",
              "      <td>-1.736344</td>\n",
              "    </tr>\n",
              "    <tr>\n",
              "      <th>day</th>\n",
              "      <td>-1.736344</td>\n",
              "      <td>78.143324</td>\n",
              "    </tr>\n",
              "  </tbody>\n",
              "</table>\n",
              "</div>\n",
              "    <div class=\"colab-df-buttons\">\n",
              "\n",
              "  <div class=\"colab-df-container\">\n",
              "    <button class=\"colab-df-convert\" onclick=\"convertToInteractive('df-8c79c42b-9800-40cc-b09e-196bd314797b')\"\n",
              "            title=\"Convert this dataframe to an interactive table.\"\n",
              "            style=\"display:none;\">\n",
              "\n",
              "  <svg xmlns=\"http://www.w3.org/2000/svg\" height=\"24px\" viewBox=\"0 -960 960 960\">\n",
              "    <path d=\"M120-120v-720h720v720H120Zm60-500h600v-160H180v160Zm220 220h160v-160H400v160Zm0 220h160v-160H400v160ZM180-400h160v-160H180v160Zm440 0h160v-160H620v160ZM180-180h160v-160H180v160Zm440 0h160v-160H620v160Z\"/>\n",
              "  </svg>\n",
              "    </button>\n",
              "\n",
              "  <style>\n",
              "    .colab-df-container {\n",
              "      display:flex;\n",
              "      gap: 12px;\n",
              "    }\n",
              "\n",
              "    .colab-df-convert {\n",
              "      background-color: #E8F0FE;\n",
              "      border: none;\n",
              "      border-radius: 50%;\n",
              "      cursor: pointer;\n",
              "      display: none;\n",
              "      fill: #1967D2;\n",
              "      height: 32px;\n",
              "      padding: 0 0 0 0;\n",
              "      width: 32px;\n",
              "    }\n",
              "\n",
              "    .colab-df-convert:hover {\n",
              "      background-color: #E2EBFA;\n",
              "      box-shadow: 0px 1px 2px rgba(60, 64, 67, 0.3), 0px 1px 3px 1px rgba(60, 64, 67, 0.15);\n",
              "      fill: #174EA6;\n",
              "    }\n",
              "\n",
              "    .colab-df-buttons div {\n",
              "      margin-bottom: 4px;\n",
              "    }\n",
              "\n",
              "    [theme=dark] .colab-df-convert {\n",
              "      background-color: #3B4455;\n",
              "      fill: #D2E3FC;\n",
              "    }\n",
              "\n",
              "    [theme=dark] .colab-df-convert:hover {\n",
              "      background-color: #434B5C;\n",
              "      box-shadow: 0px 1px 3px 1px rgba(0, 0, 0, 0.15);\n",
              "      filter: drop-shadow(0px 1px 2px rgba(0, 0, 0, 0.3));\n",
              "      fill: #FFFFFF;\n",
              "    }\n",
              "  </style>\n",
              "\n",
              "    <script>\n",
              "      const buttonEl =\n",
              "        document.querySelector('#df-8c79c42b-9800-40cc-b09e-196bd314797b button.colab-df-convert');\n",
              "      buttonEl.style.display =\n",
              "        google.colab.kernel.accessAllowed ? 'block' : 'none';\n",
              "\n",
              "      async function convertToInteractive(key) {\n",
              "        const element = document.querySelector('#df-8c79c42b-9800-40cc-b09e-196bd314797b');\n",
              "        const dataTable =\n",
              "          await google.colab.kernel.invokeFunction('convertToInteractive',\n",
              "                                                    [key], {});\n",
              "        if (!dataTable) return;\n",
              "\n",
              "        const docLinkHtml = 'Like what you see? Visit the ' +\n",
              "          '<a target=\"_blank\" href=https://colab.research.google.com/notebooks/data_table.ipynb>data table notebook</a>'\n",
              "          + ' to learn more about interactive tables.';\n",
              "        element.innerHTML = '';\n",
              "        dataTable['output_type'] = 'display_data';\n",
              "        await google.colab.output.renderOutput(dataTable, element);\n",
              "        const docLink = document.createElement('div');\n",
              "        docLink.innerHTML = docLinkHtml;\n",
              "        element.appendChild(docLink);\n",
              "      }\n",
              "    </script>\n",
              "  </div>\n",
              "\n",
              "\n",
              "<div id=\"df-9c399736-872d-46d0-8dbf-3ec83b8597b2\">\n",
              "  <button class=\"colab-df-quickchart\" onclick=\"quickchart('df-9c399736-872d-46d0-8dbf-3ec83b8597b2')\"\n",
              "            title=\"Suggest charts\"\n",
              "            style=\"display:none;\">\n",
              "\n",
              "<svg xmlns=\"http://www.w3.org/2000/svg\" height=\"24px\"viewBox=\"0 0 24 24\"\n",
              "     width=\"24px\">\n",
              "    <g>\n",
              "        <path d=\"M19 3H5c-1.1 0-2 .9-2 2v14c0 1.1.9 2 2 2h14c1.1 0 2-.9 2-2V5c0-1.1-.9-2-2-2zM9 17H7v-7h2v7zm4 0h-2V7h2v10zm4 0h-2v-4h2v4z\"/>\n",
              "    </g>\n",
              "</svg>\n",
              "  </button>\n",
              "\n",
              "<style>\n",
              "  .colab-df-quickchart {\n",
              "      --bg-color: #E8F0FE;\n",
              "      --fill-color: #1967D2;\n",
              "      --hover-bg-color: #E2EBFA;\n",
              "      --hover-fill-color: #174EA6;\n",
              "      --disabled-fill-color: #AAA;\n",
              "      --disabled-bg-color: #DDD;\n",
              "  }\n",
              "\n",
              "  [theme=dark] .colab-df-quickchart {\n",
              "      --bg-color: #3B4455;\n",
              "      --fill-color: #D2E3FC;\n",
              "      --hover-bg-color: #434B5C;\n",
              "      --hover-fill-color: #FFFFFF;\n",
              "      --disabled-bg-color: #3B4455;\n",
              "      --disabled-fill-color: #666;\n",
              "  }\n",
              "\n",
              "  .colab-df-quickchart {\n",
              "    background-color: var(--bg-color);\n",
              "    border: none;\n",
              "    border-radius: 50%;\n",
              "    cursor: pointer;\n",
              "    display: none;\n",
              "    fill: var(--fill-color);\n",
              "    height: 32px;\n",
              "    padding: 0;\n",
              "    width: 32px;\n",
              "  }\n",
              "\n",
              "  .colab-df-quickchart:hover {\n",
              "    background-color: var(--hover-bg-color);\n",
              "    box-shadow: 0 1px 2px rgba(60, 64, 67, 0.3), 0 1px 3px 1px rgba(60, 64, 67, 0.15);\n",
              "    fill: var(--button-hover-fill-color);\n",
              "  }\n",
              "\n",
              "  .colab-df-quickchart-complete:disabled,\n",
              "  .colab-df-quickchart-complete:disabled:hover {\n",
              "    background-color: var(--disabled-bg-color);\n",
              "    fill: var(--disabled-fill-color);\n",
              "    box-shadow: none;\n",
              "  }\n",
              "\n",
              "  .colab-df-spinner {\n",
              "    border: 2px solid var(--fill-color);\n",
              "    border-color: transparent;\n",
              "    border-bottom-color: var(--fill-color);\n",
              "    animation:\n",
              "      spin 1s steps(1) infinite;\n",
              "  }\n",
              "\n",
              "  @keyframes spin {\n",
              "    0% {\n",
              "      border-color: transparent;\n",
              "      border-bottom-color: var(--fill-color);\n",
              "      border-left-color: var(--fill-color);\n",
              "    }\n",
              "    20% {\n",
              "      border-color: transparent;\n",
              "      border-left-color: var(--fill-color);\n",
              "      border-top-color: var(--fill-color);\n",
              "    }\n",
              "    30% {\n",
              "      border-color: transparent;\n",
              "      border-left-color: var(--fill-color);\n",
              "      border-top-color: var(--fill-color);\n",
              "      border-right-color: var(--fill-color);\n",
              "    }\n",
              "    40% {\n",
              "      border-color: transparent;\n",
              "      border-right-color: var(--fill-color);\n",
              "      border-top-color: var(--fill-color);\n",
              "    }\n",
              "    60% {\n",
              "      border-color: transparent;\n",
              "      border-right-color: var(--fill-color);\n",
              "    }\n",
              "    80% {\n",
              "      border-color: transparent;\n",
              "      border-right-color: var(--fill-color);\n",
              "      border-bottom-color: var(--fill-color);\n",
              "    }\n",
              "    90% {\n",
              "      border-color: transparent;\n",
              "      border-bottom-color: var(--fill-color);\n",
              "    }\n",
              "  }\n",
              "</style>\n",
              "\n",
              "  <script>\n",
              "    async function quickchart(key) {\n",
              "      const quickchartButtonEl =\n",
              "        document.querySelector('#' + key + ' button');\n",
              "      quickchartButtonEl.disabled = true;  // To prevent multiple clicks.\n",
              "      quickchartButtonEl.classList.add('colab-df-spinner');\n",
              "      try {\n",
              "        const charts = await google.colab.kernel.invokeFunction(\n",
              "            'suggestCharts', [key], {});\n",
              "      } catch (error) {\n",
              "        console.error('Error during call to suggestCharts:', error);\n",
              "      }\n",
              "      quickchartButtonEl.classList.remove('colab-df-spinner');\n",
              "      quickchartButtonEl.classList.add('colab-df-quickchart-complete');\n",
              "    }\n",
              "    (() => {\n",
              "      let quickchartButtonEl =\n",
              "        document.querySelector('#df-9c399736-872d-46d0-8dbf-3ec83b8597b2 button');\n",
              "      quickchartButtonEl.style.display =\n",
              "        google.colab.kernel.accessAllowed ? 'block' : 'none';\n",
              "    })();\n",
              "  </script>\n",
              "</div>\n",
              "\n",
              "    </div>\n",
              "  </div>\n"
            ],
            "application/vnd.google.colaboratory.intrinsic+json": {
              "type": "dataframe",
              "summary": "{\n  \"name\": \"police_shootings[['age', 'day']]\",\n  \"rows\": 2,\n  \"fields\": [\n    {\n      \"column\": \"age\",\n      \"properties\": {\n        \"dtype\": \"number\",\n        \"std\": 119.49320269948272,\n        \"min\": -1.7363436507884311,\n        \"max\": 167.25256421821737,\n        \"num_unique_values\": 2,\n        \"samples\": [\n          -1.7363436507884311,\n          167.25256421821737\n        ],\n        \"semantic_type\": \"\",\n        \"description\": \"\"\n      }\n    },\n    {\n      \"column\": \"day\",\n      \"properties\": {\n        \"dtype\": \"number\",\n        \"std\": 56.48345444609509,\n        \"min\": -1.7363436507884311,\n        \"max\": 78.14332367656213,\n        \"num_unique_values\": 2,\n        \"samples\": [\n          78.14332367656213,\n          -1.7363436507884311\n        ],\n        \"semantic_type\": \"\",\n        \"description\": \"\"\n      }\n    }\n  ]\n}"
            }
          },
          "metadata": {},
          "execution_count": 70
        }
      ]
    },
    {
      "cell_type": "markdown",
      "source": [
        "- The covariance between gender and body_camera"
      ],
      "metadata": {
        "id": "R6iD6ieEXbKh"
      }
    },
    {
      "cell_type": "code",
      "source": [
        "# Convert 'gender' to numeric: 0 for 'male', 1 for 'female' and 2 for 'non-binary'\n",
        "police_shootings['gender'] = police_shootings['gender'].replace({'male': 0, \"female\": 1, 'non-binary': 2})\n",
        "\n",
        "# Convert 'body_camera' to numeric: 0 for 'False' and 1 for 'True'\n",
        "police_shootings['body_camera'] = police_shootings['body_camera'].replace({'False': 0, 'True': 1})\n",
        "\n",
        "police_shootings[['gender', 'body_camera']].cov()"
      ],
      "metadata": {
        "id": "F4DH84EIXbht",
        "colab": {
          "base_uri": "https://localhost:8080/"
        },
        "outputId": "523bfb08-d1de-4717-da3b-f67225abb3a7"
      },
      "execution_count": null,
      "outputs": [
        {
          "output_type": "execute_result",
          "data": {
            "text/plain": [
              "               gender  body_camera\n",
              "gender       0.043576     0.000295\n",
              "body_camera  0.000295     0.141394"
            ],
            "text/html": [
              "\n",
              "  <div id=\"df-3e3a3436-c11a-4329-87c2-e84594e9f810\" class=\"colab-df-container\">\n",
              "    <div>\n",
              "<style scoped>\n",
              "    .dataframe tbody tr th:only-of-type {\n",
              "        vertical-align: middle;\n",
              "    }\n",
              "\n",
              "    .dataframe tbody tr th {\n",
              "        vertical-align: top;\n",
              "    }\n",
              "\n",
              "    .dataframe thead th {\n",
              "        text-align: right;\n",
              "    }\n",
              "</style>\n",
              "<table border=\"1\" class=\"dataframe\">\n",
              "  <thead>\n",
              "    <tr style=\"text-align: right;\">\n",
              "      <th></th>\n",
              "      <th>gender</th>\n",
              "      <th>body_camera</th>\n",
              "    </tr>\n",
              "  </thead>\n",
              "  <tbody>\n",
              "    <tr>\n",
              "      <th>gender</th>\n",
              "      <td>0.043576</td>\n",
              "      <td>0.000295</td>\n",
              "    </tr>\n",
              "    <tr>\n",
              "      <th>body_camera</th>\n",
              "      <td>0.000295</td>\n",
              "      <td>0.141394</td>\n",
              "    </tr>\n",
              "  </tbody>\n",
              "</table>\n",
              "</div>\n",
              "    <div class=\"colab-df-buttons\">\n",
              "\n",
              "  <div class=\"colab-df-container\">\n",
              "    <button class=\"colab-df-convert\" onclick=\"convertToInteractive('df-3e3a3436-c11a-4329-87c2-e84594e9f810')\"\n",
              "            title=\"Convert this dataframe to an interactive table.\"\n",
              "            style=\"display:none;\">\n",
              "\n",
              "  <svg xmlns=\"http://www.w3.org/2000/svg\" height=\"24px\" viewBox=\"0 -960 960 960\">\n",
              "    <path d=\"M120-120v-720h720v720H120Zm60-500h600v-160H180v160Zm220 220h160v-160H400v160Zm0 220h160v-160H400v160ZM180-400h160v-160H180v160Zm440 0h160v-160H620v160ZM180-180h160v-160H180v160Zm440 0h160v-160H620v160Z\"/>\n",
              "  </svg>\n",
              "    </button>\n",
              "\n",
              "  <style>\n",
              "    .colab-df-container {\n",
              "      display:flex;\n",
              "      gap: 12px;\n",
              "    }\n",
              "\n",
              "    .colab-df-convert {\n",
              "      background-color: #E8F0FE;\n",
              "      border: none;\n",
              "      border-radius: 50%;\n",
              "      cursor: pointer;\n",
              "      display: none;\n",
              "      fill: #1967D2;\n",
              "      height: 32px;\n",
              "      padding: 0 0 0 0;\n",
              "      width: 32px;\n",
              "    }\n",
              "\n",
              "    .colab-df-convert:hover {\n",
              "      background-color: #E2EBFA;\n",
              "      box-shadow: 0px 1px 2px rgba(60, 64, 67, 0.3), 0px 1px 3px 1px rgba(60, 64, 67, 0.15);\n",
              "      fill: #174EA6;\n",
              "    }\n",
              "\n",
              "    .colab-df-buttons div {\n",
              "      margin-bottom: 4px;\n",
              "    }\n",
              "\n",
              "    [theme=dark] .colab-df-convert {\n",
              "      background-color: #3B4455;\n",
              "      fill: #D2E3FC;\n",
              "    }\n",
              "\n",
              "    [theme=dark] .colab-df-convert:hover {\n",
              "      background-color: #434B5C;\n",
              "      box-shadow: 0px 1px 3px 1px rgba(0, 0, 0, 0.15);\n",
              "      filter: drop-shadow(0px 1px 2px rgba(0, 0, 0, 0.3));\n",
              "      fill: #FFFFFF;\n",
              "    }\n",
              "  </style>\n",
              "\n",
              "    <script>\n",
              "      const buttonEl =\n",
              "        document.querySelector('#df-3e3a3436-c11a-4329-87c2-e84594e9f810 button.colab-df-convert');\n",
              "      buttonEl.style.display =\n",
              "        google.colab.kernel.accessAllowed ? 'block' : 'none';\n",
              "\n",
              "      async function convertToInteractive(key) {\n",
              "        const element = document.querySelector('#df-3e3a3436-c11a-4329-87c2-e84594e9f810');\n",
              "        const dataTable =\n",
              "          await google.colab.kernel.invokeFunction('convertToInteractive',\n",
              "                                                    [key], {});\n",
              "        if (!dataTable) return;\n",
              "\n",
              "        const docLinkHtml = 'Like what you see? Visit the ' +\n",
              "          '<a target=\"_blank\" href=https://colab.research.google.com/notebooks/data_table.ipynb>data table notebook</a>'\n",
              "          + ' to learn more about interactive tables.';\n",
              "        element.innerHTML = '';\n",
              "        dataTable['output_type'] = 'display_data';\n",
              "        await google.colab.output.renderOutput(dataTable, element);\n",
              "        const docLink = document.createElement('div');\n",
              "        docLink.innerHTML = docLinkHtml;\n",
              "        element.appendChild(docLink);\n",
              "      }\n",
              "    </script>\n",
              "  </div>\n",
              "\n",
              "\n",
              "<div id=\"df-7da015e6-b122-42f7-b96b-09bd9699bdbc\">\n",
              "  <button class=\"colab-df-quickchart\" onclick=\"quickchart('df-7da015e6-b122-42f7-b96b-09bd9699bdbc')\"\n",
              "            title=\"Suggest charts\"\n",
              "            style=\"display:none;\">\n",
              "\n",
              "<svg xmlns=\"http://www.w3.org/2000/svg\" height=\"24px\"viewBox=\"0 0 24 24\"\n",
              "     width=\"24px\">\n",
              "    <g>\n",
              "        <path d=\"M19 3H5c-1.1 0-2 .9-2 2v14c0 1.1.9 2 2 2h14c1.1 0 2-.9 2-2V5c0-1.1-.9-2-2-2zM9 17H7v-7h2v7zm4 0h-2V7h2v10zm4 0h-2v-4h2v4z\"/>\n",
              "    </g>\n",
              "</svg>\n",
              "  </button>\n",
              "\n",
              "<style>\n",
              "  .colab-df-quickchart {\n",
              "      --bg-color: #E8F0FE;\n",
              "      --fill-color: #1967D2;\n",
              "      --hover-bg-color: #E2EBFA;\n",
              "      --hover-fill-color: #174EA6;\n",
              "      --disabled-fill-color: #AAA;\n",
              "      --disabled-bg-color: #DDD;\n",
              "  }\n",
              "\n",
              "  [theme=dark] .colab-df-quickchart {\n",
              "      --bg-color: #3B4455;\n",
              "      --fill-color: #D2E3FC;\n",
              "      --hover-bg-color: #434B5C;\n",
              "      --hover-fill-color: #FFFFFF;\n",
              "      --disabled-bg-color: #3B4455;\n",
              "      --disabled-fill-color: #666;\n",
              "  }\n",
              "\n",
              "  .colab-df-quickchart {\n",
              "    background-color: var(--bg-color);\n",
              "    border: none;\n",
              "    border-radius: 50%;\n",
              "    cursor: pointer;\n",
              "    display: none;\n",
              "    fill: var(--fill-color);\n",
              "    height: 32px;\n",
              "    padding: 0;\n",
              "    width: 32px;\n",
              "  }\n",
              "\n",
              "  .colab-df-quickchart:hover {\n",
              "    background-color: var(--hover-bg-color);\n",
              "    box-shadow: 0 1px 2px rgba(60, 64, 67, 0.3), 0 1px 3px 1px rgba(60, 64, 67, 0.15);\n",
              "    fill: var(--button-hover-fill-color);\n",
              "  }\n",
              "\n",
              "  .colab-df-quickchart-complete:disabled,\n",
              "  .colab-df-quickchart-complete:disabled:hover {\n",
              "    background-color: var(--disabled-bg-color);\n",
              "    fill: var(--disabled-fill-color);\n",
              "    box-shadow: none;\n",
              "  }\n",
              "\n",
              "  .colab-df-spinner {\n",
              "    border: 2px solid var(--fill-color);\n",
              "    border-color: transparent;\n",
              "    border-bottom-color: var(--fill-color);\n",
              "    animation:\n",
              "      spin 1s steps(1) infinite;\n",
              "  }\n",
              "\n",
              "  @keyframes spin {\n",
              "    0% {\n",
              "      border-color: transparent;\n",
              "      border-bottom-color: var(--fill-color);\n",
              "      border-left-color: var(--fill-color);\n",
              "    }\n",
              "    20% {\n",
              "      border-color: transparent;\n",
              "      border-left-color: var(--fill-color);\n",
              "      border-top-color: var(--fill-color);\n",
              "    }\n",
              "    30% {\n",
              "      border-color: transparent;\n",
              "      border-left-color: var(--fill-color);\n",
              "      border-top-color: var(--fill-color);\n",
              "      border-right-color: var(--fill-color);\n",
              "    }\n",
              "    40% {\n",
              "      border-color: transparent;\n",
              "      border-right-color: var(--fill-color);\n",
              "      border-top-color: var(--fill-color);\n",
              "    }\n",
              "    60% {\n",
              "      border-color: transparent;\n",
              "      border-right-color: var(--fill-color);\n",
              "    }\n",
              "    80% {\n",
              "      border-color: transparent;\n",
              "      border-right-color: var(--fill-color);\n",
              "      border-bottom-color: var(--fill-color);\n",
              "    }\n",
              "    90% {\n",
              "      border-color: transparent;\n",
              "      border-bottom-color: var(--fill-color);\n",
              "    }\n",
              "  }\n",
              "</style>\n",
              "\n",
              "  <script>\n",
              "    async function quickchart(key) {\n",
              "      const quickchartButtonEl =\n",
              "        document.querySelector('#' + key + ' button');\n",
              "      quickchartButtonEl.disabled = true;  // To prevent multiple clicks.\n",
              "      quickchartButtonEl.classList.add('colab-df-spinner');\n",
              "      try {\n",
              "        const charts = await google.colab.kernel.invokeFunction(\n",
              "            'suggestCharts', [key], {});\n",
              "      } catch (error) {\n",
              "        console.error('Error during call to suggestCharts:', error);\n",
              "      }\n",
              "      quickchartButtonEl.classList.remove('colab-df-spinner');\n",
              "      quickchartButtonEl.classList.add('colab-df-quickchart-complete');\n",
              "    }\n",
              "    (() => {\n",
              "      let quickchartButtonEl =\n",
              "        document.querySelector('#df-7da015e6-b122-42f7-b96b-09bd9699bdbc button');\n",
              "      quickchartButtonEl.style.display =\n",
              "        google.colab.kernel.accessAllowed ? 'block' : 'none';\n",
              "    })();\n",
              "  </script>\n",
              "</div>\n",
              "\n",
              "    </div>\n",
              "  </div>\n"
            ],
            "application/vnd.google.colaboratory.intrinsic+json": {
              "type": "dataframe",
              "summary": "{\n  \"name\": \"police_shootings[['gender', 'body_camera']]\",\n  \"rows\": 2,\n  \"fields\": [\n    {\n      \"column\": \"gender\",\n      \"properties\": {\n        \"dtype\": \"number\",\n        \"std\": 0.030604389391215098,\n        \"min\": 0.0002951133900519988,\n        \"max\": 0.04357625593525566,\n        \"num_unique_values\": 2,\n        \"samples\": [\n          0.0002951133900519988,\n          0.04357625593525566\n        ],\n        \"semantic_type\": \"\",\n        \"description\": \"\"\n      }\n    },\n    {\n      \"column\": \"body_camera\",\n      \"properties\": {\n        \"dtype\": \"number\",\n        \"std\": 0.09977172773496647,\n        \"min\": 0.0002951133900519988,\n        \"max\": 0.14139364389423745,\n        \"num_unique_values\": 2,\n        \"samples\": [\n          0.14139364389423745,\n          0.0002951133900519988\n        ],\n        \"semantic_type\": \"\",\n        \"description\": \"\"\n      }\n    }\n  ]\n}"
            }
          },
          "metadata": {},
          "execution_count": 71
        }
      ]
    },
    {
      "cell_type": "markdown",
      "source": [
        "- The covariance between body_camera and flee"
      ],
      "metadata": {
        "id": "-SXFmlxOXb-u"
      }
    },
    {
      "cell_type": "code",
      "source": [
        "# Convert 'body_camera' to numeric: 0 for 'False' and 1 for 'True'\n",
        "police_shootings['body_camera'] = police_shootings['body_camera'].replace({'False': 0, 'True': 1})\n",
        "\n",
        "# Convert 'flee' to numeric: 0 for 'not', 1 for 'foot' and 3 for 'other\n",
        "police_shootings['flee'] = police_shootings['flee'].replace({'not': 0, 'car': 1, 'foot': 2, 'other': 3})\n",
        "\n",
        "police_shootings[['body_camera', 'flee']].cov()"
      ],
      "metadata": {
        "id": "oJr7LBqzXcSc",
        "colab": {
          "base_uri": "https://localhost:8080/"
        },
        "outputId": "4a6ac25c-41ed-4031-e766-a9e65d03e40e"
      },
      "execution_count": null,
      "outputs": [
        {
          "output_type": "stream",
          "name": "stderr",
          "text": [
            "<ipython-input-72-10ab994fc059>:5: FutureWarning: Downcasting behavior in `replace` is deprecated and will be removed in a future version. To retain the old behavior, explicitly call `result.infer_objects(copy=False)`. To opt-in to the future behavior, set `pd.set_option('future.no_silent_downcasting', True)`\n",
            "  police_shootings['flee'] = police_shootings['flee'].replace({'not': 0, 'car': 1, 'foot': 2, 'other': 3})\n"
          ]
        },
        {
          "output_type": "execute_result",
          "data": {
            "text/plain": [
              "             body_camera      flee\n",
              "body_camera     0.141394  0.008605\n",
              "flee            0.008605  0.797889"
            ],
            "text/html": [
              "\n",
              "  <div id=\"df-94988540-706d-4259-8719-233c3451fc83\" class=\"colab-df-container\">\n",
              "    <div>\n",
              "<style scoped>\n",
              "    .dataframe tbody tr th:only-of-type {\n",
              "        vertical-align: middle;\n",
              "    }\n",
              "\n",
              "    .dataframe tbody tr th {\n",
              "        vertical-align: top;\n",
              "    }\n",
              "\n",
              "    .dataframe thead th {\n",
              "        text-align: right;\n",
              "    }\n",
              "</style>\n",
              "<table border=\"1\" class=\"dataframe\">\n",
              "  <thead>\n",
              "    <tr style=\"text-align: right;\">\n",
              "      <th></th>\n",
              "      <th>body_camera</th>\n",
              "      <th>flee</th>\n",
              "    </tr>\n",
              "  </thead>\n",
              "  <tbody>\n",
              "    <tr>\n",
              "      <th>body_camera</th>\n",
              "      <td>0.141394</td>\n",
              "      <td>0.008605</td>\n",
              "    </tr>\n",
              "    <tr>\n",
              "      <th>flee</th>\n",
              "      <td>0.008605</td>\n",
              "      <td>0.797889</td>\n",
              "    </tr>\n",
              "  </tbody>\n",
              "</table>\n",
              "</div>\n",
              "    <div class=\"colab-df-buttons\">\n",
              "\n",
              "  <div class=\"colab-df-container\">\n",
              "    <button class=\"colab-df-convert\" onclick=\"convertToInteractive('df-94988540-706d-4259-8719-233c3451fc83')\"\n",
              "            title=\"Convert this dataframe to an interactive table.\"\n",
              "            style=\"display:none;\">\n",
              "\n",
              "  <svg xmlns=\"http://www.w3.org/2000/svg\" height=\"24px\" viewBox=\"0 -960 960 960\">\n",
              "    <path d=\"M120-120v-720h720v720H120Zm60-500h600v-160H180v160Zm220 220h160v-160H400v160Zm0 220h160v-160H400v160ZM180-400h160v-160H180v160Zm440 0h160v-160H620v160ZM180-180h160v-160H180v160Zm440 0h160v-160H620v160Z\"/>\n",
              "  </svg>\n",
              "    </button>\n",
              "\n",
              "  <style>\n",
              "    .colab-df-container {\n",
              "      display:flex;\n",
              "      gap: 12px;\n",
              "    }\n",
              "\n",
              "    .colab-df-convert {\n",
              "      background-color: #E8F0FE;\n",
              "      border: none;\n",
              "      border-radius: 50%;\n",
              "      cursor: pointer;\n",
              "      display: none;\n",
              "      fill: #1967D2;\n",
              "      height: 32px;\n",
              "      padding: 0 0 0 0;\n",
              "      width: 32px;\n",
              "    }\n",
              "\n",
              "    .colab-df-convert:hover {\n",
              "      background-color: #E2EBFA;\n",
              "      box-shadow: 0px 1px 2px rgba(60, 64, 67, 0.3), 0px 1px 3px 1px rgba(60, 64, 67, 0.15);\n",
              "      fill: #174EA6;\n",
              "    }\n",
              "\n",
              "    .colab-df-buttons div {\n",
              "      margin-bottom: 4px;\n",
              "    }\n",
              "\n",
              "    [theme=dark] .colab-df-convert {\n",
              "      background-color: #3B4455;\n",
              "      fill: #D2E3FC;\n",
              "    }\n",
              "\n",
              "    [theme=dark] .colab-df-convert:hover {\n",
              "      background-color: #434B5C;\n",
              "      box-shadow: 0px 1px 3px 1px rgba(0, 0, 0, 0.15);\n",
              "      filter: drop-shadow(0px 1px 2px rgba(0, 0, 0, 0.3));\n",
              "      fill: #FFFFFF;\n",
              "    }\n",
              "  </style>\n",
              "\n",
              "    <script>\n",
              "      const buttonEl =\n",
              "        document.querySelector('#df-94988540-706d-4259-8719-233c3451fc83 button.colab-df-convert');\n",
              "      buttonEl.style.display =\n",
              "        google.colab.kernel.accessAllowed ? 'block' : 'none';\n",
              "\n",
              "      async function convertToInteractive(key) {\n",
              "        const element = document.querySelector('#df-94988540-706d-4259-8719-233c3451fc83');\n",
              "        const dataTable =\n",
              "          await google.colab.kernel.invokeFunction('convertToInteractive',\n",
              "                                                    [key], {});\n",
              "        if (!dataTable) return;\n",
              "\n",
              "        const docLinkHtml = 'Like what you see? Visit the ' +\n",
              "          '<a target=\"_blank\" href=https://colab.research.google.com/notebooks/data_table.ipynb>data table notebook</a>'\n",
              "          + ' to learn more about interactive tables.';\n",
              "        element.innerHTML = '';\n",
              "        dataTable['output_type'] = 'display_data';\n",
              "        await google.colab.output.renderOutput(dataTable, element);\n",
              "        const docLink = document.createElement('div');\n",
              "        docLink.innerHTML = docLinkHtml;\n",
              "        element.appendChild(docLink);\n",
              "      }\n",
              "    </script>\n",
              "  </div>\n",
              "\n",
              "\n",
              "<div id=\"df-941a9407-a4e0-48ed-8023-ece7c67c3504\">\n",
              "  <button class=\"colab-df-quickchart\" onclick=\"quickchart('df-941a9407-a4e0-48ed-8023-ece7c67c3504')\"\n",
              "            title=\"Suggest charts\"\n",
              "            style=\"display:none;\">\n",
              "\n",
              "<svg xmlns=\"http://www.w3.org/2000/svg\" height=\"24px\"viewBox=\"0 0 24 24\"\n",
              "     width=\"24px\">\n",
              "    <g>\n",
              "        <path d=\"M19 3H5c-1.1 0-2 .9-2 2v14c0 1.1.9 2 2 2h14c1.1 0 2-.9 2-2V5c0-1.1-.9-2-2-2zM9 17H7v-7h2v7zm4 0h-2V7h2v10zm4 0h-2v-4h2v4z\"/>\n",
              "    </g>\n",
              "</svg>\n",
              "  </button>\n",
              "\n",
              "<style>\n",
              "  .colab-df-quickchart {\n",
              "      --bg-color: #E8F0FE;\n",
              "      --fill-color: #1967D2;\n",
              "      --hover-bg-color: #E2EBFA;\n",
              "      --hover-fill-color: #174EA6;\n",
              "      --disabled-fill-color: #AAA;\n",
              "      --disabled-bg-color: #DDD;\n",
              "  }\n",
              "\n",
              "  [theme=dark] .colab-df-quickchart {\n",
              "      --bg-color: #3B4455;\n",
              "      --fill-color: #D2E3FC;\n",
              "      --hover-bg-color: #434B5C;\n",
              "      --hover-fill-color: #FFFFFF;\n",
              "      --disabled-bg-color: #3B4455;\n",
              "      --disabled-fill-color: #666;\n",
              "  }\n",
              "\n",
              "  .colab-df-quickchart {\n",
              "    background-color: var(--bg-color);\n",
              "    border: none;\n",
              "    border-radius: 50%;\n",
              "    cursor: pointer;\n",
              "    display: none;\n",
              "    fill: var(--fill-color);\n",
              "    height: 32px;\n",
              "    padding: 0;\n",
              "    width: 32px;\n",
              "  }\n",
              "\n",
              "  .colab-df-quickchart:hover {\n",
              "    background-color: var(--hover-bg-color);\n",
              "    box-shadow: 0 1px 2px rgba(60, 64, 67, 0.3), 0 1px 3px 1px rgba(60, 64, 67, 0.15);\n",
              "    fill: var(--button-hover-fill-color);\n",
              "  }\n",
              "\n",
              "  .colab-df-quickchart-complete:disabled,\n",
              "  .colab-df-quickchart-complete:disabled:hover {\n",
              "    background-color: var(--disabled-bg-color);\n",
              "    fill: var(--disabled-fill-color);\n",
              "    box-shadow: none;\n",
              "  }\n",
              "\n",
              "  .colab-df-spinner {\n",
              "    border: 2px solid var(--fill-color);\n",
              "    border-color: transparent;\n",
              "    border-bottom-color: var(--fill-color);\n",
              "    animation:\n",
              "      spin 1s steps(1) infinite;\n",
              "  }\n",
              "\n",
              "  @keyframes spin {\n",
              "    0% {\n",
              "      border-color: transparent;\n",
              "      border-bottom-color: var(--fill-color);\n",
              "      border-left-color: var(--fill-color);\n",
              "    }\n",
              "    20% {\n",
              "      border-color: transparent;\n",
              "      border-left-color: var(--fill-color);\n",
              "      border-top-color: var(--fill-color);\n",
              "    }\n",
              "    30% {\n",
              "      border-color: transparent;\n",
              "      border-left-color: var(--fill-color);\n",
              "      border-top-color: var(--fill-color);\n",
              "      border-right-color: var(--fill-color);\n",
              "    }\n",
              "    40% {\n",
              "      border-color: transparent;\n",
              "      border-right-color: var(--fill-color);\n",
              "      border-top-color: var(--fill-color);\n",
              "    }\n",
              "    60% {\n",
              "      border-color: transparent;\n",
              "      border-right-color: var(--fill-color);\n",
              "    }\n",
              "    80% {\n",
              "      border-color: transparent;\n",
              "      border-right-color: var(--fill-color);\n",
              "      border-bottom-color: var(--fill-color);\n",
              "    }\n",
              "    90% {\n",
              "      border-color: transparent;\n",
              "      border-bottom-color: var(--fill-color);\n",
              "    }\n",
              "  }\n",
              "</style>\n",
              "\n",
              "  <script>\n",
              "    async function quickchart(key) {\n",
              "      const quickchartButtonEl =\n",
              "        document.querySelector('#' + key + ' button');\n",
              "      quickchartButtonEl.disabled = true;  // To prevent multiple clicks.\n",
              "      quickchartButtonEl.classList.add('colab-df-spinner');\n",
              "      try {\n",
              "        const charts = await google.colab.kernel.invokeFunction(\n",
              "            'suggestCharts', [key], {});\n",
              "      } catch (error) {\n",
              "        console.error('Error during call to suggestCharts:', error);\n",
              "      }\n",
              "      quickchartButtonEl.classList.remove('colab-df-spinner');\n",
              "      quickchartButtonEl.classList.add('colab-df-quickchart-complete');\n",
              "    }\n",
              "    (() => {\n",
              "      let quickchartButtonEl =\n",
              "        document.querySelector('#df-941a9407-a4e0-48ed-8023-ece7c67c3504 button');\n",
              "      quickchartButtonEl.style.display =\n",
              "        google.colab.kernel.accessAllowed ? 'block' : 'none';\n",
              "    })();\n",
              "  </script>\n",
              "</div>\n",
              "\n",
              "    </div>\n",
              "  </div>\n"
            ],
            "application/vnd.google.colaboratory.intrinsic+json": {
              "type": "dataframe",
              "summary": "{\n  \"name\": \"police_shootings[['body_camera', 'flee']]\",\n  \"rows\": 2,\n  \"fields\": [\n    {\n      \"column\": \"body_camera\",\n      \"properties\": {\n        \"dtype\": \"number\",\n        \"std\": 0.09389607189111936,\n        \"min\": 0.008604545572257321,\n        \"max\": 0.14139364389423745,\n        \"num_unique_values\": 2,\n        \"samples\": [\n          0.008604545572257321,\n          0.14139364389423745\n        ],\n        \"semantic_type\": \"\",\n        \"description\": \"\"\n      }\n    },\n    {\n      \"column\": \"flee\",\n      \"properties\": {\n        \"dtype\": \"number\",\n        \"std\": 0.5581087417742198,\n        \"min\": 0.008604545572257321,\n        \"max\": 0.7978894974683424,\n        \"num_unique_values\": 2,\n        \"samples\": [\n          0.7978894974683424,\n          0.008604545572257321\n        ],\n        \"semantic_type\": \"\",\n        \"description\": \"\"\n      }\n    }\n  ]\n}"
            }
          },
          "metadata": {},
          "execution_count": 72
        }
      ]
    },
    {
      "cell_type": "markdown",
      "source": [
        "- The covariance between gender and signs_of_mental_ilness"
      ],
      "metadata": {
        "id": "yHUe1cLmXcku"
      }
    },
    {
      "cell_type": "code",
      "source": [
        "# Convert 'gender' to numeric: 0 for 'male', 1 for 'female' and 2 for 'non-binary'\n",
        "police_shootings['gender'] = police_shootings['gender'].replace({'male': 0, \"female\": 1, 'non-binary': 2})\n",
        "\n",
        "# Convert 'signs_of_mental_illness' to numeric: 0 for 'False' and 1 for 'True'\n",
        "police_shootings['signs_of_mental_illness'] = police_shootings['signs_of_mental_illness'].replace({'False': 0, 'True': 1})\n",
        "\n",
        "police_shootings[['gender', 'signs_of_mental_illness']].cov()"
      ],
      "metadata": {
        "id": "3sWBZe59Xc2z",
        "colab": {
          "base_uri": "https://localhost:8080/"
        },
        "outputId": "a3c4d209-8f99-4286-d2a2-73e7663acf33"
      },
      "execution_count": null,
      "outputs": [
        {
          "output_type": "execute_result",
          "data": {
            "text/plain": [
              "                           gender  signs_of_mental_illness\n",
              "gender                   0.043576                 0.005053\n",
              "signs_of_mental_illness  0.005053                 0.158396"
            ],
            "text/html": [
              "\n",
              "  <div id=\"df-963c9b45-87a3-4f82-8aef-861d429f9bd4\" class=\"colab-df-container\">\n",
              "    <div>\n",
              "<style scoped>\n",
              "    .dataframe tbody tr th:only-of-type {\n",
              "        vertical-align: middle;\n",
              "    }\n",
              "\n",
              "    .dataframe tbody tr th {\n",
              "        vertical-align: top;\n",
              "    }\n",
              "\n",
              "    .dataframe thead th {\n",
              "        text-align: right;\n",
              "    }\n",
              "</style>\n",
              "<table border=\"1\" class=\"dataframe\">\n",
              "  <thead>\n",
              "    <tr style=\"text-align: right;\">\n",
              "      <th></th>\n",
              "      <th>gender</th>\n",
              "      <th>signs_of_mental_illness</th>\n",
              "    </tr>\n",
              "  </thead>\n",
              "  <tbody>\n",
              "    <tr>\n",
              "      <th>gender</th>\n",
              "      <td>0.043576</td>\n",
              "      <td>0.005053</td>\n",
              "    </tr>\n",
              "    <tr>\n",
              "      <th>signs_of_mental_illness</th>\n",
              "      <td>0.005053</td>\n",
              "      <td>0.158396</td>\n",
              "    </tr>\n",
              "  </tbody>\n",
              "</table>\n",
              "</div>\n",
              "    <div class=\"colab-df-buttons\">\n",
              "\n",
              "  <div class=\"colab-df-container\">\n",
              "    <button class=\"colab-df-convert\" onclick=\"convertToInteractive('df-963c9b45-87a3-4f82-8aef-861d429f9bd4')\"\n",
              "            title=\"Convert this dataframe to an interactive table.\"\n",
              "            style=\"display:none;\">\n",
              "\n",
              "  <svg xmlns=\"http://www.w3.org/2000/svg\" height=\"24px\" viewBox=\"0 -960 960 960\">\n",
              "    <path d=\"M120-120v-720h720v720H120Zm60-500h600v-160H180v160Zm220 220h160v-160H400v160Zm0 220h160v-160H400v160ZM180-400h160v-160H180v160Zm440 0h160v-160H620v160ZM180-180h160v-160H180v160Zm440 0h160v-160H620v160Z\"/>\n",
              "  </svg>\n",
              "    </button>\n",
              "\n",
              "  <style>\n",
              "    .colab-df-container {\n",
              "      display:flex;\n",
              "      gap: 12px;\n",
              "    }\n",
              "\n",
              "    .colab-df-convert {\n",
              "      background-color: #E8F0FE;\n",
              "      border: none;\n",
              "      border-radius: 50%;\n",
              "      cursor: pointer;\n",
              "      display: none;\n",
              "      fill: #1967D2;\n",
              "      height: 32px;\n",
              "      padding: 0 0 0 0;\n",
              "      width: 32px;\n",
              "    }\n",
              "\n",
              "    .colab-df-convert:hover {\n",
              "      background-color: #E2EBFA;\n",
              "      box-shadow: 0px 1px 2px rgba(60, 64, 67, 0.3), 0px 1px 3px 1px rgba(60, 64, 67, 0.15);\n",
              "      fill: #174EA6;\n",
              "    }\n",
              "\n",
              "    .colab-df-buttons div {\n",
              "      margin-bottom: 4px;\n",
              "    }\n",
              "\n",
              "    [theme=dark] .colab-df-convert {\n",
              "      background-color: #3B4455;\n",
              "      fill: #D2E3FC;\n",
              "    }\n",
              "\n",
              "    [theme=dark] .colab-df-convert:hover {\n",
              "      background-color: #434B5C;\n",
              "      box-shadow: 0px 1px 3px 1px rgba(0, 0, 0, 0.15);\n",
              "      filter: drop-shadow(0px 1px 2px rgba(0, 0, 0, 0.3));\n",
              "      fill: #FFFFFF;\n",
              "    }\n",
              "  </style>\n",
              "\n",
              "    <script>\n",
              "      const buttonEl =\n",
              "        document.querySelector('#df-963c9b45-87a3-4f82-8aef-861d429f9bd4 button.colab-df-convert');\n",
              "      buttonEl.style.display =\n",
              "        google.colab.kernel.accessAllowed ? 'block' : 'none';\n",
              "\n",
              "      async function convertToInteractive(key) {\n",
              "        const element = document.querySelector('#df-963c9b45-87a3-4f82-8aef-861d429f9bd4');\n",
              "        const dataTable =\n",
              "          await google.colab.kernel.invokeFunction('convertToInteractive',\n",
              "                                                    [key], {});\n",
              "        if (!dataTable) return;\n",
              "\n",
              "        const docLinkHtml = 'Like what you see? Visit the ' +\n",
              "          '<a target=\"_blank\" href=https://colab.research.google.com/notebooks/data_table.ipynb>data table notebook</a>'\n",
              "          + ' to learn more about interactive tables.';\n",
              "        element.innerHTML = '';\n",
              "        dataTable['output_type'] = 'display_data';\n",
              "        await google.colab.output.renderOutput(dataTable, element);\n",
              "        const docLink = document.createElement('div');\n",
              "        docLink.innerHTML = docLinkHtml;\n",
              "        element.appendChild(docLink);\n",
              "      }\n",
              "    </script>\n",
              "  </div>\n",
              "\n",
              "\n",
              "<div id=\"df-a309a1b4-b223-4560-8e20-6f46b558ce31\">\n",
              "  <button class=\"colab-df-quickchart\" onclick=\"quickchart('df-a309a1b4-b223-4560-8e20-6f46b558ce31')\"\n",
              "            title=\"Suggest charts\"\n",
              "            style=\"display:none;\">\n",
              "\n",
              "<svg xmlns=\"http://www.w3.org/2000/svg\" height=\"24px\"viewBox=\"0 0 24 24\"\n",
              "     width=\"24px\">\n",
              "    <g>\n",
              "        <path d=\"M19 3H5c-1.1 0-2 .9-2 2v14c0 1.1.9 2 2 2h14c1.1 0 2-.9 2-2V5c0-1.1-.9-2-2-2zM9 17H7v-7h2v7zm4 0h-2V7h2v10zm4 0h-2v-4h2v4z\"/>\n",
              "    </g>\n",
              "</svg>\n",
              "  </button>\n",
              "\n",
              "<style>\n",
              "  .colab-df-quickchart {\n",
              "      --bg-color: #E8F0FE;\n",
              "      --fill-color: #1967D2;\n",
              "      --hover-bg-color: #E2EBFA;\n",
              "      --hover-fill-color: #174EA6;\n",
              "      --disabled-fill-color: #AAA;\n",
              "      --disabled-bg-color: #DDD;\n",
              "  }\n",
              "\n",
              "  [theme=dark] .colab-df-quickchart {\n",
              "      --bg-color: #3B4455;\n",
              "      --fill-color: #D2E3FC;\n",
              "      --hover-bg-color: #434B5C;\n",
              "      --hover-fill-color: #FFFFFF;\n",
              "      --disabled-bg-color: #3B4455;\n",
              "      --disabled-fill-color: #666;\n",
              "  }\n",
              "\n",
              "  .colab-df-quickchart {\n",
              "    background-color: var(--bg-color);\n",
              "    border: none;\n",
              "    border-radius: 50%;\n",
              "    cursor: pointer;\n",
              "    display: none;\n",
              "    fill: var(--fill-color);\n",
              "    height: 32px;\n",
              "    padding: 0;\n",
              "    width: 32px;\n",
              "  }\n",
              "\n",
              "  .colab-df-quickchart:hover {\n",
              "    background-color: var(--hover-bg-color);\n",
              "    box-shadow: 0 1px 2px rgba(60, 64, 67, 0.3), 0 1px 3px 1px rgba(60, 64, 67, 0.15);\n",
              "    fill: var(--button-hover-fill-color);\n",
              "  }\n",
              "\n",
              "  .colab-df-quickchart-complete:disabled,\n",
              "  .colab-df-quickchart-complete:disabled:hover {\n",
              "    background-color: var(--disabled-bg-color);\n",
              "    fill: var(--disabled-fill-color);\n",
              "    box-shadow: none;\n",
              "  }\n",
              "\n",
              "  .colab-df-spinner {\n",
              "    border: 2px solid var(--fill-color);\n",
              "    border-color: transparent;\n",
              "    border-bottom-color: var(--fill-color);\n",
              "    animation:\n",
              "      spin 1s steps(1) infinite;\n",
              "  }\n",
              "\n",
              "  @keyframes spin {\n",
              "    0% {\n",
              "      border-color: transparent;\n",
              "      border-bottom-color: var(--fill-color);\n",
              "      border-left-color: var(--fill-color);\n",
              "    }\n",
              "    20% {\n",
              "      border-color: transparent;\n",
              "      border-left-color: var(--fill-color);\n",
              "      border-top-color: var(--fill-color);\n",
              "    }\n",
              "    30% {\n",
              "      border-color: transparent;\n",
              "      border-left-color: var(--fill-color);\n",
              "      border-top-color: var(--fill-color);\n",
              "      border-right-color: var(--fill-color);\n",
              "    }\n",
              "    40% {\n",
              "      border-color: transparent;\n",
              "      border-right-color: var(--fill-color);\n",
              "      border-top-color: var(--fill-color);\n",
              "    }\n",
              "    60% {\n",
              "      border-color: transparent;\n",
              "      border-right-color: var(--fill-color);\n",
              "    }\n",
              "    80% {\n",
              "      border-color: transparent;\n",
              "      border-right-color: var(--fill-color);\n",
              "      border-bottom-color: var(--fill-color);\n",
              "    }\n",
              "    90% {\n",
              "      border-color: transparent;\n",
              "      border-bottom-color: var(--fill-color);\n",
              "    }\n",
              "  }\n",
              "</style>\n",
              "\n",
              "  <script>\n",
              "    async function quickchart(key) {\n",
              "      const quickchartButtonEl =\n",
              "        document.querySelector('#' + key + ' button');\n",
              "      quickchartButtonEl.disabled = true;  // To prevent multiple clicks.\n",
              "      quickchartButtonEl.classList.add('colab-df-spinner');\n",
              "      try {\n",
              "        const charts = await google.colab.kernel.invokeFunction(\n",
              "            'suggestCharts', [key], {});\n",
              "      } catch (error) {\n",
              "        console.error('Error during call to suggestCharts:', error);\n",
              "      }\n",
              "      quickchartButtonEl.classList.remove('colab-df-spinner');\n",
              "      quickchartButtonEl.classList.add('colab-df-quickchart-complete');\n",
              "    }\n",
              "    (() => {\n",
              "      let quickchartButtonEl =\n",
              "        document.querySelector('#df-a309a1b4-b223-4560-8e20-6f46b558ce31 button');\n",
              "      quickchartButtonEl.style.display =\n",
              "        google.colab.kernel.accessAllowed ? 'block' : 'none';\n",
              "    })();\n",
              "  </script>\n",
              "</div>\n",
              "\n",
              "    </div>\n",
              "  </div>\n"
            ],
            "application/vnd.google.colaboratory.intrinsic+json": {
              "type": "dataframe",
              "summary": "{\n  \"name\": \"police_shootings[['gender', 'signs_of_mental_illness']]\",\n  \"rows\": 2,\n  \"fields\": [\n    {\n      \"column\": \"gender\",\n      \"properties\": {\n        \"dtype\": \"number\",\n        \"std\": 0.02724026727806208,\n        \"min\": 0.005052700507952233,\n        \"max\": 0.04357625593525566,\n        \"num_unique_values\": 2,\n        \"samples\": [\n          0.005052700507952233,\n          0.04357625593525566\n        ],\n        \"semantic_type\": \"\",\n        \"description\": \"\"\n      }\n    },\n    {\n      \"column\": \"signs_of_mental_illness\",\n      \"properties\": {\n        \"dtype\": \"number\",\n        \"std\": 0.10842974714326746,\n        \"min\": 0.005052700507952233,\n        \"max\": 0.15839551948264644,\n        \"num_unique_values\": 2,\n        \"samples\": [\n          0.15839551948264644,\n          0.005052700507952233\n        ],\n        \"semantic_type\": \"\",\n        \"description\": \"\"\n      }\n    }\n  ]\n}"
            }
          },
          "metadata": {},
          "execution_count": 73
        }
      ]
    },
    {
      "cell_type": "markdown",
      "source": [
        "### Correlation"
      ],
      "metadata": {
        "id": "5-dMJsT0XgVK"
      }
    },
    {
      "cell_type": "markdown",
      "source": [
        "- The correlation between age and signs_of_mental_ilness"
      ],
      "metadata": {
        "id": "xIlcRxgLXiWE"
      }
    },
    {
      "cell_type": "code",
      "source": [
        "# Convert 'signs_of_mental_illness' to numeric: 0 for 'False' and 1 for 'True'\n",
        "police_shootings['signs_of_mental_illness'] = police_shootings['signs_of_mental_illness'].replace({'False': 0, 'True': 1})\n",
        "\n",
        "police_shootings[['age', 'signs_of_mental_illness']].corr()"
      ],
      "metadata": {
        "id": "PzRo4lkyXiuu",
        "colab": {
          "base_uri": "https://localhost:8080/",
          "height": 112
        },
        "outputId": "608f5c98-01ed-494b-e177-2707acd3a321"
      },
      "execution_count": null,
      "outputs": [
        {
          "output_type": "execute_result",
          "data": {
            "text/plain": [
              "                              age  signs_of_mental_illness\n",
              "age                      1.000000                 0.088114\n",
              "signs_of_mental_illness  0.088114                 1.000000"
            ],
            "text/html": [
              "\n",
              "  <div id=\"df-557775ed-0054-4443-9f1f-198fb2ab5f30\" class=\"colab-df-container\">\n",
              "    <div>\n",
              "<style scoped>\n",
              "    .dataframe tbody tr th:only-of-type {\n",
              "        vertical-align: middle;\n",
              "    }\n",
              "\n",
              "    .dataframe tbody tr th {\n",
              "        vertical-align: top;\n",
              "    }\n",
              "\n",
              "    .dataframe thead th {\n",
              "        text-align: right;\n",
              "    }\n",
              "</style>\n",
              "<table border=\"1\" class=\"dataframe\">\n",
              "  <thead>\n",
              "    <tr style=\"text-align: right;\">\n",
              "      <th></th>\n",
              "      <th>age</th>\n",
              "      <th>signs_of_mental_illness</th>\n",
              "    </tr>\n",
              "  </thead>\n",
              "  <tbody>\n",
              "    <tr>\n",
              "      <th>age</th>\n",
              "      <td>1.000000</td>\n",
              "      <td>0.088114</td>\n",
              "    </tr>\n",
              "    <tr>\n",
              "      <th>signs_of_mental_illness</th>\n",
              "      <td>0.088114</td>\n",
              "      <td>1.000000</td>\n",
              "    </tr>\n",
              "  </tbody>\n",
              "</table>\n",
              "</div>\n",
              "    <div class=\"colab-df-buttons\">\n",
              "\n",
              "  <div class=\"colab-df-container\">\n",
              "    <button class=\"colab-df-convert\" onclick=\"convertToInteractive('df-557775ed-0054-4443-9f1f-198fb2ab5f30')\"\n",
              "            title=\"Convert this dataframe to an interactive table.\"\n",
              "            style=\"display:none;\">\n",
              "\n",
              "  <svg xmlns=\"http://www.w3.org/2000/svg\" height=\"24px\" viewBox=\"0 -960 960 960\">\n",
              "    <path d=\"M120-120v-720h720v720H120Zm60-500h600v-160H180v160Zm220 220h160v-160H400v160Zm0 220h160v-160H400v160ZM180-400h160v-160H180v160Zm440 0h160v-160H620v160ZM180-180h160v-160H180v160Zm440 0h160v-160H620v160Z\"/>\n",
              "  </svg>\n",
              "    </button>\n",
              "\n",
              "  <style>\n",
              "    .colab-df-container {\n",
              "      display:flex;\n",
              "      gap: 12px;\n",
              "    }\n",
              "\n",
              "    .colab-df-convert {\n",
              "      background-color: #E8F0FE;\n",
              "      border: none;\n",
              "      border-radius: 50%;\n",
              "      cursor: pointer;\n",
              "      display: none;\n",
              "      fill: #1967D2;\n",
              "      height: 32px;\n",
              "      padding: 0 0 0 0;\n",
              "      width: 32px;\n",
              "    }\n",
              "\n",
              "    .colab-df-convert:hover {\n",
              "      background-color: #E2EBFA;\n",
              "      box-shadow: 0px 1px 2px rgba(60, 64, 67, 0.3), 0px 1px 3px 1px rgba(60, 64, 67, 0.15);\n",
              "      fill: #174EA6;\n",
              "    }\n",
              "\n",
              "    .colab-df-buttons div {\n",
              "      margin-bottom: 4px;\n",
              "    }\n",
              "\n",
              "    [theme=dark] .colab-df-convert {\n",
              "      background-color: #3B4455;\n",
              "      fill: #D2E3FC;\n",
              "    }\n",
              "\n",
              "    [theme=dark] .colab-df-convert:hover {\n",
              "      background-color: #434B5C;\n",
              "      box-shadow: 0px 1px 3px 1px rgba(0, 0, 0, 0.15);\n",
              "      filter: drop-shadow(0px 1px 2px rgba(0, 0, 0, 0.3));\n",
              "      fill: #FFFFFF;\n",
              "    }\n",
              "  </style>\n",
              "\n",
              "    <script>\n",
              "      const buttonEl =\n",
              "        document.querySelector('#df-557775ed-0054-4443-9f1f-198fb2ab5f30 button.colab-df-convert');\n",
              "      buttonEl.style.display =\n",
              "        google.colab.kernel.accessAllowed ? 'block' : 'none';\n",
              "\n",
              "      async function convertToInteractive(key) {\n",
              "        const element = document.querySelector('#df-557775ed-0054-4443-9f1f-198fb2ab5f30');\n",
              "        const dataTable =\n",
              "          await google.colab.kernel.invokeFunction('convertToInteractive',\n",
              "                                                    [key], {});\n",
              "        if (!dataTable) return;\n",
              "\n",
              "        const docLinkHtml = 'Like what you see? Visit the ' +\n",
              "          '<a target=\"_blank\" href=https://colab.research.google.com/notebooks/data_table.ipynb>data table notebook</a>'\n",
              "          + ' to learn more about interactive tables.';\n",
              "        element.innerHTML = '';\n",
              "        dataTable['output_type'] = 'display_data';\n",
              "        await google.colab.output.renderOutput(dataTable, element);\n",
              "        const docLink = document.createElement('div');\n",
              "        docLink.innerHTML = docLinkHtml;\n",
              "        element.appendChild(docLink);\n",
              "      }\n",
              "    </script>\n",
              "  </div>\n",
              "\n",
              "\n",
              "<div id=\"df-be9b26ea-3e2c-4192-8877-15ffd54a4036\">\n",
              "  <button class=\"colab-df-quickchart\" onclick=\"quickchart('df-be9b26ea-3e2c-4192-8877-15ffd54a4036')\"\n",
              "            title=\"Suggest charts\"\n",
              "            style=\"display:none;\">\n",
              "\n",
              "<svg xmlns=\"http://www.w3.org/2000/svg\" height=\"24px\"viewBox=\"0 0 24 24\"\n",
              "     width=\"24px\">\n",
              "    <g>\n",
              "        <path d=\"M19 3H5c-1.1 0-2 .9-2 2v14c0 1.1.9 2 2 2h14c1.1 0 2-.9 2-2V5c0-1.1-.9-2-2-2zM9 17H7v-7h2v7zm4 0h-2V7h2v10zm4 0h-2v-4h2v4z\"/>\n",
              "    </g>\n",
              "</svg>\n",
              "  </button>\n",
              "\n",
              "<style>\n",
              "  .colab-df-quickchart {\n",
              "      --bg-color: #E8F0FE;\n",
              "      --fill-color: #1967D2;\n",
              "      --hover-bg-color: #E2EBFA;\n",
              "      --hover-fill-color: #174EA6;\n",
              "      --disabled-fill-color: #AAA;\n",
              "      --disabled-bg-color: #DDD;\n",
              "  }\n",
              "\n",
              "  [theme=dark] .colab-df-quickchart {\n",
              "      --bg-color: #3B4455;\n",
              "      --fill-color: #D2E3FC;\n",
              "      --hover-bg-color: #434B5C;\n",
              "      --hover-fill-color: #FFFFFF;\n",
              "      --disabled-bg-color: #3B4455;\n",
              "      --disabled-fill-color: #666;\n",
              "  }\n",
              "\n",
              "  .colab-df-quickchart {\n",
              "    background-color: var(--bg-color);\n",
              "    border: none;\n",
              "    border-radius: 50%;\n",
              "    cursor: pointer;\n",
              "    display: none;\n",
              "    fill: var(--fill-color);\n",
              "    height: 32px;\n",
              "    padding: 0;\n",
              "    width: 32px;\n",
              "  }\n",
              "\n",
              "  .colab-df-quickchart:hover {\n",
              "    background-color: var(--hover-bg-color);\n",
              "    box-shadow: 0 1px 2px rgba(60, 64, 67, 0.3), 0 1px 3px 1px rgba(60, 64, 67, 0.15);\n",
              "    fill: var(--button-hover-fill-color);\n",
              "  }\n",
              "\n",
              "  .colab-df-quickchart-complete:disabled,\n",
              "  .colab-df-quickchart-complete:disabled:hover {\n",
              "    background-color: var(--disabled-bg-color);\n",
              "    fill: var(--disabled-fill-color);\n",
              "    box-shadow: none;\n",
              "  }\n",
              "\n",
              "  .colab-df-spinner {\n",
              "    border: 2px solid var(--fill-color);\n",
              "    border-color: transparent;\n",
              "    border-bottom-color: var(--fill-color);\n",
              "    animation:\n",
              "      spin 1s steps(1) infinite;\n",
              "  }\n",
              "\n",
              "  @keyframes spin {\n",
              "    0% {\n",
              "      border-color: transparent;\n",
              "      border-bottom-color: var(--fill-color);\n",
              "      border-left-color: var(--fill-color);\n",
              "    }\n",
              "    20% {\n",
              "      border-color: transparent;\n",
              "      border-left-color: var(--fill-color);\n",
              "      border-top-color: var(--fill-color);\n",
              "    }\n",
              "    30% {\n",
              "      border-color: transparent;\n",
              "      border-left-color: var(--fill-color);\n",
              "      border-top-color: var(--fill-color);\n",
              "      border-right-color: var(--fill-color);\n",
              "    }\n",
              "    40% {\n",
              "      border-color: transparent;\n",
              "      border-right-color: var(--fill-color);\n",
              "      border-top-color: var(--fill-color);\n",
              "    }\n",
              "    60% {\n",
              "      border-color: transparent;\n",
              "      border-right-color: var(--fill-color);\n",
              "    }\n",
              "    80% {\n",
              "      border-color: transparent;\n",
              "      border-right-color: var(--fill-color);\n",
              "      border-bottom-color: var(--fill-color);\n",
              "    }\n",
              "    90% {\n",
              "      border-color: transparent;\n",
              "      border-bottom-color: var(--fill-color);\n",
              "    }\n",
              "  }\n",
              "</style>\n",
              "\n",
              "  <script>\n",
              "    async function quickchart(key) {\n",
              "      const quickchartButtonEl =\n",
              "        document.querySelector('#' + key + ' button');\n",
              "      quickchartButtonEl.disabled = true;  // To prevent multiple clicks.\n",
              "      quickchartButtonEl.classList.add('colab-df-spinner');\n",
              "      try {\n",
              "        const charts = await google.colab.kernel.invokeFunction(\n",
              "            'suggestCharts', [key], {});\n",
              "      } catch (error) {\n",
              "        console.error('Error during call to suggestCharts:', error);\n",
              "      }\n",
              "      quickchartButtonEl.classList.remove('colab-df-spinner');\n",
              "      quickchartButtonEl.classList.add('colab-df-quickchart-complete');\n",
              "    }\n",
              "    (() => {\n",
              "      let quickchartButtonEl =\n",
              "        document.querySelector('#df-be9b26ea-3e2c-4192-8877-15ffd54a4036 button');\n",
              "      quickchartButtonEl.style.display =\n",
              "        google.colab.kernel.accessAllowed ? 'block' : 'none';\n",
              "    })();\n",
              "  </script>\n",
              "</div>\n",
              "\n",
              "    </div>\n",
              "  </div>\n"
            ],
            "application/vnd.google.colaboratory.intrinsic+json": {
              "type": "dataframe",
              "summary": "{\n  \"name\": \"police_shootings[['age', 'signs_of_mental_illness']]\",\n  \"rows\": 2,\n  \"fields\": [\n    {\n      \"column\": \"age\",\n      \"properties\": {\n        \"dtype\": \"number\",\n        \"std\": 0.6448005808002915,\n        \"min\": 0.08811427360617902,\n        \"max\": 1.0,\n        \"num_unique_values\": 2,\n        \"samples\": [\n          0.08811427360617902,\n          1.0\n        ],\n        \"semantic_type\": \"\",\n        \"description\": \"\"\n      }\n    },\n    {\n      \"column\": \"signs_of_mental_illness\",\n      \"properties\": {\n        \"dtype\": \"number\",\n        \"std\": 0.6448005808002915,\n        \"min\": 0.08811427360617902,\n        \"max\": 1.0,\n        \"num_unique_values\": 2,\n        \"samples\": [\n          1.0,\n          0.08811427360617902\n        ],\n        \"semantic_type\": \"\",\n        \"description\": \"\"\n      }\n    }\n  ]\n}"
            }
          },
          "metadata": {},
          "execution_count": 74
        }
      ]
    },
    {
      "cell_type": "markdown",
      "source": [
        "- The correlation between gender and flee"
      ],
      "metadata": {
        "id": "A3l8ms8ZXjab"
      }
    },
    {
      "cell_type": "code",
      "source": [
        "# Convert 'gender' to numeric: 0 for 'male', 1 for 'female' and 2 for 'non-binary'\n",
        "police_shootings['gender'] = police_shootings['gender'].replace({'male': 0, \"female\": 1, 'non-binary': 2})\n",
        "\n",
        "# Convert 'flee' to numeric: 0 for 'not', 1 for 'foot' and 3 for 'other\n",
        "police_shootings['flee'] = police_shootings['flee'].replace({'not': 0, 'car': 1, 'foot': 2, 'other': 3})\n",
        "\n",
        "police_shootings[['gender', 'flee']].corr()"
      ],
      "metadata": {
        "id": "ztCpEj_JXjs3",
        "colab": {
          "base_uri": "https://localhost:8080/",
          "height": 112
        },
        "outputId": "d70dce81-3ec8-4fb6-b5a0-96a669cedb53"
      },
      "execution_count": null,
      "outputs": [
        {
          "output_type": "execute_result",
          "data": {
            "text/plain": [
              "          gender      flee\n",
              "gender  1.000000 -0.050472\n",
              "flee   -0.050472  1.000000"
            ],
            "text/html": [
              "\n",
              "  <div id=\"df-853feca7-cac6-4670-b019-ad5004ea7130\" class=\"colab-df-container\">\n",
              "    <div>\n",
              "<style scoped>\n",
              "    .dataframe tbody tr th:only-of-type {\n",
              "        vertical-align: middle;\n",
              "    }\n",
              "\n",
              "    .dataframe tbody tr th {\n",
              "        vertical-align: top;\n",
              "    }\n",
              "\n",
              "    .dataframe thead th {\n",
              "        text-align: right;\n",
              "    }\n",
              "</style>\n",
              "<table border=\"1\" class=\"dataframe\">\n",
              "  <thead>\n",
              "    <tr style=\"text-align: right;\">\n",
              "      <th></th>\n",
              "      <th>gender</th>\n",
              "      <th>flee</th>\n",
              "    </tr>\n",
              "  </thead>\n",
              "  <tbody>\n",
              "    <tr>\n",
              "      <th>gender</th>\n",
              "      <td>1.000000</td>\n",
              "      <td>-0.050472</td>\n",
              "    </tr>\n",
              "    <tr>\n",
              "      <th>flee</th>\n",
              "      <td>-0.050472</td>\n",
              "      <td>1.000000</td>\n",
              "    </tr>\n",
              "  </tbody>\n",
              "</table>\n",
              "</div>\n",
              "    <div class=\"colab-df-buttons\">\n",
              "\n",
              "  <div class=\"colab-df-container\">\n",
              "    <button class=\"colab-df-convert\" onclick=\"convertToInteractive('df-853feca7-cac6-4670-b019-ad5004ea7130')\"\n",
              "            title=\"Convert this dataframe to an interactive table.\"\n",
              "            style=\"display:none;\">\n",
              "\n",
              "  <svg xmlns=\"http://www.w3.org/2000/svg\" height=\"24px\" viewBox=\"0 -960 960 960\">\n",
              "    <path d=\"M120-120v-720h720v720H120Zm60-500h600v-160H180v160Zm220 220h160v-160H400v160Zm0 220h160v-160H400v160ZM180-400h160v-160H180v160Zm440 0h160v-160H620v160ZM180-180h160v-160H180v160Zm440 0h160v-160H620v160Z\"/>\n",
              "  </svg>\n",
              "    </button>\n",
              "\n",
              "  <style>\n",
              "    .colab-df-container {\n",
              "      display:flex;\n",
              "      gap: 12px;\n",
              "    }\n",
              "\n",
              "    .colab-df-convert {\n",
              "      background-color: #E8F0FE;\n",
              "      border: none;\n",
              "      border-radius: 50%;\n",
              "      cursor: pointer;\n",
              "      display: none;\n",
              "      fill: #1967D2;\n",
              "      height: 32px;\n",
              "      padding: 0 0 0 0;\n",
              "      width: 32px;\n",
              "    }\n",
              "\n",
              "    .colab-df-convert:hover {\n",
              "      background-color: #E2EBFA;\n",
              "      box-shadow: 0px 1px 2px rgba(60, 64, 67, 0.3), 0px 1px 3px 1px rgba(60, 64, 67, 0.15);\n",
              "      fill: #174EA6;\n",
              "    }\n",
              "\n",
              "    .colab-df-buttons div {\n",
              "      margin-bottom: 4px;\n",
              "    }\n",
              "\n",
              "    [theme=dark] .colab-df-convert {\n",
              "      background-color: #3B4455;\n",
              "      fill: #D2E3FC;\n",
              "    }\n",
              "\n",
              "    [theme=dark] .colab-df-convert:hover {\n",
              "      background-color: #434B5C;\n",
              "      box-shadow: 0px 1px 3px 1px rgba(0, 0, 0, 0.15);\n",
              "      filter: drop-shadow(0px 1px 2px rgba(0, 0, 0, 0.3));\n",
              "      fill: #FFFFFF;\n",
              "    }\n",
              "  </style>\n",
              "\n",
              "    <script>\n",
              "      const buttonEl =\n",
              "        document.querySelector('#df-853feca7-cac6-4670-b019-ad5004ea7130 button.colab-df-convert');\n",
              "      buttonEl.style.display =\n",
              "        google.colab.kernel.accessAllowed ? 'block' : 'none';\n",
              "\n",
              "      async function convertToInteractive(key) {\n",
              "        const element = document.querySelector('#df-853feca7-cac6-4670-b019-ad5004ea7130');\n",
              "        const dataTable =\n",
              "          await google.colab.kernel.invokeFunction('convertToInteractive',\n",
              "                                                    [key], {});\n",
              "        if (!dataTable) return;\n",
              "\n",
              "        const docLinkHtml = 'Like what you see? Visit the ' +\n",
              "          '<a target=\"_blank\" href=https://colab.research.google.com/notebooks/data_table.ipynb>data table notebook</a>'\n",
              "          + ' to learn more about interactive tables.';\n",
              "        element.innerHTML = '';\n",
              "        dataTable['output_type'] = 'display_data';\n",
              "        await google.colab.output.renderOutput(dataTable, element);\n",
              "        const docLink = document.createElement('div');\n",
              "        docLink.innerHTML = docLinkHtml;\n",
              "        element.appendChild(docLink);\n",
              "      }\n",
              "    </script>\n",
              "  </div>\n",
              "\n",
              "\n",
              "<div id=\"df-80e37972-6249-4366-9b95-f8883ef0c4ed\">\n",
              "  <button class=\"colab-df-quickchart\" onclick=\"quickchart('df-80e37972-6249-4366-9b95-f8883ef0c4ed')\"\n",
              "            title=\"Suggest charts\"\n",
              "            style=\"display:none;\">\n",
              "\n",
              "<svg xmlns=\"http://www.w3.org/2000/svg\" height=\"24px\"viewBox=\"0 0 24 24\"\n",
              "     width=\"24px\">\n",
              "    <g>\n",
              "        <path d=\"M19 3H5c-1.1 0-2 .9-2 2v14c0 1.1.9 2 2 2h14c1.1 0 2-.9 2-2V5c0-1.1-.9-2-2-2zM9 17H7v-7h2v7zm4 0h-2V7h2v10zm4 0h-2v-4h2v4z\"/>\n",
              "    </g>\n",
              "</svg>\n",
              "  </button>\n",
              "\n",
              "<style>\n",
              "  .colab-df-quickchart {\n",
              "      --bg-color: #E8F0FE;\n",
              "      --fill-color: #1967D2;\n",
              "      --hover-bg-color: #E2EBFA;\n",
              "      --hover-fill-color: #174EA6;\n",
              "      --disabled-fill-color: #AAA;\n",
              "      --disabled-bg-color: #DDD;\n",
              "  }\n",
              "\n",
              "  [theme=dark] .colab-df-quickchart {\n",
              "      --bg-color: #3B4455;\n",
              "      --fill-color: #D2E3FC;\n",
              "      --hover-bg-color: #434B5C;\n",
              "      --hover-fill-color: #FFFFFF;\n",
              "      --disabled-bg-color: #3B4455;\n",
              "      --disabled-fill-color: #666;\n",
              "  }\n",
              "\n",
              "  .colab-df-quickchart {\n",
              "    background-color: var(--bg-color);\n",
              "    border: none;\n",
              "    border-radius: 50%;\n",
              "    cursor: pointer;\n",
              "    display: none;\n",
              "    fill: var(--fill-color);\n",
              "    height: 32px;\n",
              "    padding: 0;\n",
              "    width: 32px;\n",
              "  }\n",
              "\n",
              "  .colab-df-quickchart:hover {\n",
              "    background-color: var(--hover-bg-color);\n",
              "    box-shadow: 0 1px 2px rgba(60, 64, 67, 0.3), 0 1px 3px 1px rgba(60, 64, 67, 0.15);\n",
              "    fill: var(--button-hover-fill-color);\n",
              "  }\n",
              "\n",
              "  .colab-df-quickchart-complete:disabled,\n",
              "  .colab-df-quickchart-complete:disabled:hover {\n",
              "    background-color: var(--disabled-bg-color);\n",
              "    fill: var(--disabled-fill-color);\n",
              "    box-shadow: none;\n",
              "  }\n",
              "\n",
              "  .colab-df-spinner {\n",
              "    border: 2px solid var(--fill-color);\n",
              "    border-color: transparent;\n",
              "    border-bottom-color: var(--fill-color);\n",
              "    animation:\n",
              "      spin 1s steps(1) infinite;\n",
              "  }\n",
              "\n",
              "  @keyframes spin {\n",
              "    0% {\n",
              "      border-color: transparent;\n",
              "      border-bottom-color: var(--fill-color);\n",
              "      border-left-color: var(--fill-color);\n",
              "    }\n",
              "    20% {\n",
              "      border-color: transparent;\n",
              "      border-left-color: var(--fill-color);\n",
              "      border-top-color: var(--fill-color);\n",
              "    }\n",
              "    30% {\n",
              "      border-color: transparent;\n",
              "      border-left-color: var(--fill-color);\n",
              "      border-top-color: var(--fill-color);\n",
              "      border-right-color: var(--fill-color);\n",
              "    }\n",
              "    40% {\n",
              "      border-color: transparent;\n",
              "      border-right-color: var(--fill-color);\n",
              "      border-top-color: var(--fill-color);\n",
              "    }\n",
              "    60% {\n",
              "      border-color: transparent;\n",
              "      border-right-color: var(--fill-color);\n",
              "    }\n",
              "    80% {\n",
              "      border-color: transparent;\n",
              "      border-right-color: var(--fill-color);\n",
              "      border-bottom-color: var(--fill-color);\n",
              "    }\n",
              "    90% {\n",
              "      border-color: transparent;\n",
              "      border-bottom-color: var(--fill-color);\n",
              "    }\n",
              "  }\n",
              "</style>\n",
              "\n",
              "  <script>\n",
              "    async function quickchart(key) {\n",
              "      const quickchartButtonEl =\n",
              "        document.querySelector('#' + key + ' button');\n",
              "      quickchartButtonEl.disabled = true;  // To prevent multiple clicks.\n",
              "      quickchartButtonEl.classList.add('colab-df-spinner');\n",
              "      try {\n",
              "        const charts = await google.colab.kernel.invokeFunction(\n",
              "            'suggestCharts', [key], {});\n",
              "      } catch (error) {\n",
              "        console.error('Error during call to suggestCharts:', error);\n",
              "      }\n",
              "      quickchartButtonEl.classList.remove('colab-df-spinner');\n",
              "      quickchartButtonEl.classList.add('colab-df-quickchart-complete');\n",
              "    }\n",
              "    (() => {\n",
              "      let quickchartButtonEl =\n",
              "        document.querySelector('#df-80e37972-6249-4366-9b95-f8883ef0c4ed button');\n",
              "      quickchartButtonEl.style.display =\n",
              "        google.colab.kernel.accessAllowed ? 'block' : 'none';\n",
              "    })();\n",
              "  </script>\n",
              "</div>\n",
              "\n",
              "    </div>\n",
              "  </div>\n"
            ],
            "application/vnd.google.colaboratory.intrinsic+json": {
              "type": "dataframe",
              "summary": "{\n  \"name\": \"police_shootings[['gender', 'flee']]\",\n  \"rows\": 2,\n  \"fields\": [\n    {\n      \"column\": \"gender\",\n      \"properties\": {\n        \"dtype\": \"number\",\n        \"std\": 0.7427960074332972,\n        \"min\": -0.05047218778875534,\n        \"max\": 1.0,\n        \"num_unique_values\": 2,\n        \"samples\": [\n          -0.05047218778875534,\n          1.0\n        ],\n        \"semantic_type\": \"\",\n        \"description\": \"\"\n      }\n    },\n    {\n      \"column\": \"flee\",\n      \"properties\": {\n        \"dtype\": \"number\",\n        \"std\": 0.7427960074332972,\n        \"min\": -0.05047218778875534,\n        \"max\": 1.0,\n        \"num_unique_values\": 2,\n        \"samples\": [\n          1.0,\n          -0.05047218778875534\n        ],\n        \"semantic_type\": \"\",\n        \"description\": \"\"\n      }\n    }\n  ]\n}"
            }
          },
          "metadata": {},
          "execution_count": 75
        }
      ]
    },
    {
      "cell_type": "markdown",
      "source": [
        "- The correlation between age and flee"
      ],
      "metadata": {
        "id": "PwNZhfICXkA4"
      }
    },
    {
      "cell_type": "code",
      "source": [
        "# Convert 'flee' to numeric: 0 for 'not', 1 for 'foot' and 3 for 'other\n",
        "police_shootings['flee'] = police_shootings['flee'].replace({'not': 0, 'car': 1, 'foot': 2, 'other': 3})\n",
        "\n",
        "police_shootings[['age', 'flee']].corr()"
      ],
      "metadata": {
        "id": "-nrJmiFGXkeZ",
        "colab": {
          "base_uri": "https://localhost:8080/",
          "height": 112
        },
        "outputId": "39b7b30a-5e08-4af9-e6fa-4f01c739e193"
      },
      "execution_count": null,
      "outputs": [
        {
          "output_type": "execute_result",
          "data": {
            "text/plain": [
              "           age      flee\n",
              "age   1.000000 -0.206211\n",
              "flee -0.206211  1.000000"
            ],
            "text/html": [
              "\n",
              "  <div id=\"df-0f4f60c5-b393-43f4-8290-d481e71bb09a\" class=\"colab-df-container\">\n",
              "    <div>\n",
              "<style scoped>\n",
              "    .dataframe tbody tr th:only-of-type {\n",
              "        vertical-align: middle;\n",
              "    }\n",
              "\n",
              "    .dataframe tbody tr th {\n",
              "        vertical-align: top;\n",
              "    }\n",
              "\n",
              "    .dataframe thead th {\n",
              "        text-align: right;\n",
              "    }\n",
              "</style>\n",
              "<table border=\"1\" class=\"dataframe\">\n",
              "  <thead>\n",
              "    <tr style=\"text-align: right;\">\n",
              "      <th></th>\n",
              "      <th>age</th>\n",
              "      <th>flee</th>\n",
              "    </tr>\n",
              "  </thead>\n",
              "  <tbody>\n",
              "    <tr>\n",
              "      <th>age</th>\n",
              "      <td>1.000000</td>\n",
              "      <td>-0.206211</td>\n",
              "    </tr>\n",
              "    <tr>\n",
              "      <th>flee</th>\n",
              "      <td>-0.206211</td>\n",
              "      <td>1.000000</td>\n",
              "    </tr>\n",
              "  </tbody>\n",
              "</table>\n",
              "</div>\n",
              "    <div class=\"colab-df-buttons\">\n",
              "\n",
              "  <div class=\"colab-df-container\">\n",
              "    <button class=\"colab-df-convert\" onclick=\"convertToInteractive('df-0f4f60c5-b393-43f4-8290-d481e71bb09a')\"\n",
              "            title=\"Convert this dataframe to an interactive table.\"\n",
              "            style=\"display:none;\">\n",
              "\n",
              "  <svg xmlns=\"http://www.w3.org/2000/svg\" height=\"24px\" viewBox=\"0 -960 960 960\">\n",
              "    <path d=\"M120-120v-720h720v720H120Zm60-500h600v-160H180v160Zm220 220h160v-160H400v160Zm0 220h160v-160H400v160ZM180-400h160v-160H180v160Zm440 0h160v-160H620v160ZM180-180h160v-160H180v160Zm440 0h160v-160H620v160Z\"/>\n",
              "  </svg>\n",
              "    </button>\n",
              "\n",
              "  <style>\n",
              "    .colab-df-container {\n",
              "      display:flex;\n",
              "      gap: 12px;\n",
              "    }\n",
              "\n",
              "    .colab-df-convert {\n",
              "      background-color: #E8F0FE;\n",
              "      border: none;\n",
              "      border-radius: 50%;\n",
              "      cursor: pointer;\n",
              "      display: none;\n",
              "      fill: #1967D2;\n",
              "      height: 32px;\n",
              "      padding: 0 0 0 0;\n",
              "      width: 32px;\n",
              "    }\n",
              "\n",
              "    .colab-df-convert:hover {\n",
              "      background-color: #E2EBFA;\n",
              "      box-shadow: 0px 1px 2px rgba(60, 64, 67, 0.3), 0px 1px 3px 1px rgba(60, 64, 67, 0.15);\n",
              "      fill: #174EA6;\n",
              "    }\n",
              "\n",
              "    .colab-df-buttons div {\n",
              "      margin-bottom: 4px;\n",
              "    }\n",
              "\n",
              "    [theme=dark] .colab-df-convert {\n",
              "      background-color: #3B4455;\n",
              "      fill: #D2E3FC;\n",
              "    }\n",
              "\n",
              "    [theme=dark] .colab-df-convert:hover {\n",
              "      background-color: #434B5C;\n",
              "      box-shadow: 0px 1px 3px 1px rgba(0, 0, 0, 0.15);\n",
              "      filter: drop-shadow(0px 1px 2px rgba(0, 0, 0, 0.3));\n",
              "      fill: #FFFFFF;\n",
              "    }\n",
              "  </style>\n",
              "\n",
              "    <script>\n",
              "      const buttonEl =\n",
              "        document.querySelector('#df-0f4f60c5-b393-43f4-8290-d481e71bb09a button.colab-df-convert');\n",
              "      buttonEl.style.display =\n",
              "        google.colab.kernel.accessAllowed ? 'block' : 'none';\n",
              "\n",
              "      async function convertToInteractive(key) {\n",
              "        const element = document.querySelector('#df-0f4f60c5-b393-43f4-8290-d481e71bb09a');\n",
              "        const dataTable =\n",
              "          await google.colab.kernel.invokeFunction('convertToInteractive',\n",
              "                                                    [key], {});\n",
              "        if (!dataTable) return;\n",
              "\n",
              "        const docLinkHtml = 'Like what you see? Visit the ' +\n",
              "          '<a target=\"_blank\" href=https://colab.research.google.com/notebooks/data_table.ipynb>data table notebook</a>'\n",
              "          + ' to learn more about interactive tables.';\n",
              "        element.innerHTML = '';\n",
              "        dataTable['output_type'] = 'display_data';\n",
              "        await google.colab.output.renderOutput(dataTable, element);\n",
              "        const docLink = document.createElement('div');\n",
              "        docLink.innerHTML = docLinkHtml;\n",
              "        element.appendChild(docLink);\n",
              "      }\n",
              "    </script>\n",
              "  </div>\n",
              "\n",
              "\n",
              "<div id=\"df-d3f5b9f4-6789-45d9-ab8d-e2ff92d64417\">\n",
              "  <button class=\"colab-df-quickchart\" onclick=\"quickchart('df-d3f5b9f4-6789-45d9-ab8d-e2ff92d64417')\"\n",
              "            title=\"Suggest charts\"\n",
              "            style=\"display:none;\">\n",
              "\n",
              "<svg xmlns=\"http://www.w3.org/2000/svg\" height=\"24px\"viewBox=\"0 0 24 24\"\n",
              "     width=\"24px\">\n",
              "    <g>\n",
              "        <path d=\"M19 3H5c-1.1 0-2 .9-2 2v14c0 1.1.9 2 2 2h14c1.1 0 2-.9 2-2V5c0-1.1-.9-2-2-2zM9 17H7v-7h2v7zm4 0h-2V7h2v10zm4 0h-2v-4h2v4z\"/>\n",
              "    </g>\n",
              "</svg>\n",
              "  </button>\n",
              "\n",
              "<style>\n",
              "  .colab-df-quickchart {\n",
              "      --bg-color: #E8F0FE;\n",
              "      --fill-color: #1967D2;\n",
              "      --hover-bg-color: #E2EBFA;\n",
              "      --hover-fill-color: #174EA6;\n",
              "      --disabled-fill-color: #AAA;\n",
              "      --disabled-bg-color: #DDD;\n",
              "  }\n",
              "\n",
              "  [theme=dark] .colab-df-quickchart {\n",
              "      --bg-color: #3B4455;\n",
              "      --fill-color: #D2E3FC;\n",
              "      --hover-bg-color: #434B5C;\n",
              "      --hover-fill-color: #FFFFFF;\n",
              "      --disabled-bg-color: #3B4455;\n",
              "      --disabled-fill-color: #666;\n",
              "  }\n",
              "\n",
              "  .colab-df-quickchart {\n",
              "    background-color: var(--bg-color);\n",
              "    border: none;\n",
              "    border-radius: 50%;\n",
              "    cursor: pointer;\n",
              "    display: none;\n",
              "    fill: var(--fill-color);\n",
              "    height: 32px;\n",
              "    padding: 0;\n",
              "    width: 32px;\n",
              "  }\n",
              "\n",
              "  .colab-df-quickchart:hover {\n",
              "    background-color: var(--hover-bg-color);\n",
              "    box-shadow: 0 1px 2px rgba(60, 64, 67, 0.3), 0 1px 3px 1px rgba(60, 64, 67, 0.15);\n",
              "    fill: var(--button-hover-fill-color);\n",
              "  }\n",
              "\n",
              "  .colab-df-quickchart-complete:disabled,\n",
              "  .colab-df-quickchart-complete:disabled:hover {\n",
              "    background-color: var(--disabled-bg-color);\n",
              "    fill: var(--disabled-fill-color);\n",
              "    box-shadow: none;\n",
              "  }\n",
              "\n",
              "  .colab-df-spinner {\n",
              "    border: 2px solid var(--fill-color);\n",
              "    border-color: transparent;\n",
              "    border-bottom-color: var(--fill-color);\n",
              "    animation:\n",
              "      spin 1s steps(1) infinite;\n",
              "  }\n",
              "\n",
              "  @keyframes spin {\n",
              "    0% {\n",
              "      border-color: transparent;\n",
              "      border-bottom-color: var(--fill-color);\n",
              "      border-left-color: var(--fill-color);\n",
              "    }\n",
              "    20% {\n",
              "      border-color: transparent;\n",
              "      border-left-color: var(--fill-color);\n",
              "      border-top-color: var(--fill-color);\n",
              "    }\n",
              "    30% {\n",
              "      border-color: transparent;\n",
              "      border-left-color: var(--fill-color);\n",
              "      border-top-color: var(--fill-color);\n",
              "      border-right-color: var(--fill-color);\n",
              "    }\n",
              "    40% {\n",
              "      border-color: transparent;\n",
              "      border-right-color: var(--fill-color);\n",
              "      border-top-color: var(--fill-color);\n",
              "    }\n",
              "    60% {\n",
              "      border-color: transparent;\n",
              "      border-right-color: var(--fill-color);\n",
              "    }\n",
              "    80% {\n",
              "      border-color: transparent;\n",
              "      border-right-color: var(--fill-color);\n",
              "      border-bottom-color: var(--fill-color);\n",
              "    }\n",
              "    90% {\n",
              "      border-color: transparent;\n",
              "      border-bottom-color: var(--fill-color);\n",
              "    }\n",
              "  }\n",
              "</style>\n",
              "\n",
              "  <script>\n",
              "    async function quickchart(key) {\n",
              "      const quickchartButtonEl =\n",
              "        document.querySelector('#' + key + ' button');\n",
              "      quickchartButtonEl.disabled = true;  // To prevent multiple clicks.\n",
              "      quickchartButtonEl.classList.add('colab-df-spinner');\n",
              "      try {\n",
              "        const charts = await google.colab.kernel.invokeFunction(\n",
              "            'suggestCharts', [key], {});\n",
              "      } catch (error) {\n",
              "        console.error('Error during call to suggestCharts:', error);\n",
              "      }\n",
              "      quickchartButtonEl.classList.remove('colab-df-spinner');\n",
              "      quickchartButtonEl.classList.add('colab-df-quickchart-complete');\n",
              "    }\n",
              "    (() => {\n",
              "      let quickchartButtonEl =\n",
              "        document.querySelector('#df-d3f5b9f4-6789-45d9-ab8d-e2ff92d64417 button');\n",
              "      quickchartButtonEl.style.display =\n",
              "        google.colab.kernel.accessAllowed ? 'block' : 'none';\n",
              "    })();\n",
              "  </script>\n",
              "</div>\n",
              "\n",
              "    </div>\n",
              "  </div>\n"
            ],
            "application/vnd.google.colaboratory.intrinsic+json": {
              "type": "dataframe",
              "summary": "{\n  \"name\": \"police_shootings[['age', 'flee']]\",\n  \"rows\": 2,\n  \"fields\": [\n    {\n      \"column\": \"age\",\n      \"properties\": {\n        \"dtype\": \"number\",\n        \"std\": 0.8529201689435736,\n        \"min\": -0.20621127054155325,\n        \"max\": 1.0,\n        \"num_unique_values\": 2,\n        \"samples\": [\n          -0.20621127054155325,\n          1.0\n        ],\n        \"semantic_type\": \"\",\n        \"description\": \"\"\n      }\n    },\n    {\n      \"column\": \"flee\",\n      \"properties\": {\n        \"dtype\": \"number\",\n        \"std\": 0.8529201689435736,\n        \"min\": -0.20621127054155325,\n        \"max\": 1.0,\n        \"num_unique_values\": 2,\n        \"samples\": [\n          1.0,\n          -0.20621127054155325\n        ],\n        \"semantic_type\": \"\",\n        \"description\": \"\"\n      }\n    }\n  ]\n}"
            }
          },
          "metadata": {},
          "execution_count": 76
        }
      ]
    },
    {
      "cell_type": "markdown",
      "source": [
        "- The correlation between body_camera and signs_of_mental_ilness"
      ],
      "metadata": {
        "id": "BemfxUK8Xkyr"
      }
    },
    {
      "cell_type": "code",
      "source": [
        "# Convert 'body_camera' to numeric: 0 for 'False' and 1 for 'True'\n",
        "police_shootings['body_camera'] = police_shootings['body_camera'].replace({'False': 0, 'True': 1})\n",
        "\n",
        "# Convert 'signs_of_mental_illness' to numeric: 0 for 'False' and 1 for 'True'\n",
        "police_shootings['signs_of_mental_illness'] = police_shootings['signs_of_mental_illness'].replace({'False': 0, 'True': 1})\n",
        "\n",
        "police_shootings[['body_camera', 'signs_of_mental_illness']].corr()"
      ],
      "metadata": {
        "id": "VFrUil5RXlEv",
        "colab": {
          "base_uri": "https://localhost:8080/",
          "height": 112
        },
        "outputId": "b70d8f4f-81ab-416b-dd5b-1556dd7bc2a8"
      },
      "execution_count": null,
      "outputs": [
        {
          "output_type": "execute_result",
          "data": {
            "text/plain": [
              "                         body_camera  signs_of_mental_illness\n",
              "body_camera                 1.000000                 0.039404\n",
              "signs_of_mental_illness     0.039404                 1.000000"
            ],
            "text/html": [
              "\n",
              "  <div id=\"df-8dbde054-ab2c-437b-a03d-a97cdfaa9665\" class=\"colab-df-container\">\n",
              "    <div>\n",
              "<style scoped>\n",
              "    .dataframe tbody tr th:only-of-type {\n",
              "        vertical-align: middle;\n",
              "    }\n",
              "\n",
              "    .dataframe tbody tr th {\n",
              "        vertical-align: top;\n",
              "    }\n",
              "\n",
              "    .dataframe thead th {\n",
              "        text-align: right;\n",
              "    }\n",
              "</style>\n",
              "<table border=\"1\" class=\"dataframe\">\n",
              "  <thead>\n",
              "    <tr style=\"text-align: right;\">\n",
              "      <th></th>\n",
              "      <th>body_camera</th>\n",
              "      <th>signs_of_mental_illness</th>\n",
              "    </tr>\n",
              "  </thead>\n",
              "  <tbody>\n",
              "    <tr>\n",
              "      <th>body_camera</th>\n",
              "      <td>1.000000</td>\n",
              "      <td>0.039404</td>\n",
              "    </tr>\n",
              "    <tr>\n",
              "      <th>signs_of_mental_illness</th>\n",
              "      <td>0.039404</td>\n",
              "      <td>1.000000</td>\n",
              "    </tr>\n",
              "  </tbody>\n",
              "</table>\n",
              "</div>\n",
              "    <div class=\"colab-df-buttons\">\n",
              "\n",
              "  <div class=\"colab-df-container\">\n",
              "    <button class=\"colab-df-convert\" onclick=\"convertToInteractive('df-8dbde054-ab2c-437b-a03d-a97cdfaa9665')\"\n",
              "            title=\"Convert this dataframe to an interactive table.\"\n",
              "            style=\"display:none;\">\n",
              "\n",
              "  <svg xmlns=\"http://www.w3.org/2000/svg\" height=\"24px\" viewBox=\"0 -960 960 960\">\n",
              "    <path d=\"M120-120v-720h720v720H120Zm60-500h600v-160H180v160Zm220 220h160v-160H400v160Zm0 220h160v-160H400v160ZM180-400h160v-160H180v160Zm440 0h160v-160H620v160ZM180-180h160v-160H180v160Zm440 0h160v-160H620v160Z\"/>\n",
              "  </svg>\n",
              "    </button>\n",
              "\n",
              "  <style>\n",
              "    .colab-df-container {\n",
              "      display:flex;\n",
              "      gap: 12px;\n",
              "    }\n",
              "\n",
              "    .colab-df-convert {\n",
              "      background-color: #E8F0FE;\n",
              "      border: none;\n",
              "      border-radius: 50%;\n",
              "      cursor: pointer;\n",
              "      display: none;\n",
              "      fill: #1967D2;\n",
              "      height: 32px;\n",
              "      padding: 0 0 0 0;\n",
              "      width: 32px;\n",
              "    }\n",
              "\n",
              "    .colab-df-convert:hover {\n",
              "      background-color: #E2EBFA;\n",
              "      box-shadow: 0px 1px 2px rgba(60, 64, 67, 0.3), 0px 1px 3px 1px rgba(60, 64, 67, 0.15);\n",
              "      fill: #174EA6;\n",
              "    }\n",
              "\n",
              "    .colab-df-buttons div {\n",
              "      margin-bottom: 4px;\n",
              "    }\n",
              "\n",
              "    [theme=dark] .colab-df-convert {\n",
              "      background-color: #3B4455;\n",
              "      fill: #D2E3FC;\n",
              "    }\n",
              "\n",
              "    [theme=dark] .colab-df-convert:hover {\n",
              "      background-color: #434B5C;\n",
              "      box-shadow: 0px 1px 3px 1px rgba(0, 0, 0, 0.15);\n",
              "      filter: drop-shadow(0px 1px 2px rgba(0, 0, 0, 0.3));\n",
              "      fill: #FFFFFF;\n",
              "    }\n",
              "  </style>\n",
              "\n",
              "    <script>\n",
              "      const buttonEl =\n",
              "        document.querySelector('#df-8dbde054-ab2c-437b-a03d-a97cdfaa9665 button.colab-df-convert');\n",
              "      buttonEl.style.display =\n",
              "        google.colab.kernel.accessAllowed ? 'block' : 'none';\n",
              "\n",
              "      async function convertToInteractive(key) {\n",
              "        const element = document.querySelector('#df-8dbde054-ab2c-437b-a03d-a97cdfaa9665');\n",
              "        const dataTable =\n",
              "          await google.colab.kernel.invokeFunction('convertToInteractive',\n",
              "                                                    [key], {});\n",
              "        if (!dataTable) return;\n",
              "\n",
              "        const docLinkHtml = 'Like what you see? Visit the ' +\n",
              "          '<a target=\"_blank\" href=https://colab.research.google.com/notebooks/data_table.ipynb>data table notebook</a>'\n",
              "          + ' to learn more about interactive tables.';\n",
              "        element.innerHTML = '';\n",
              "        dataTable['output_type'] = 'display_data';\n",
              "        await google.colab.output.renderOutput(dataTable, element);\n",
              "        const docLink = document.createElement('div');\n",
              "        docLink.innerHTML = docLinkHtml;\n",
              "        element.appendChild(docLink);\n",
              "      }\n",
              "    </script>\n",
              "  </div>\n",
              "\n",
              "\n",
              "<div id=\"df-99c35c11-1191-4b57-8c46-5d35ea41da1f\">\n",
              "  <button class=\"colab-df-quickchart\" onclick=\"quickchart('df-99c35c11-1191-4b57-8c46-5d35ea41da1f')\"\n",
              "            title=\"Suggest charts\"\n",
              "            style=\"display:none;\">\n",
              "\n",
              "<svg xmlns=\"http://www.w3.org/2000/svg\" height=\"24px\"viewBox=\"0 0 24 24\"\n",
              "     width=\"24px\">\n",
              "    <g>\n",
              "        <path d=\"M19 3H5c-1.1 0-2 .9-2 2v14c0 1.1.9 2 2 2h14c1.1 0 2-.9 2-2V5c0-1.1-.9-2-2-2zM9 17H7v-7h2v7zm4 0h-2V7h2v10zm4 0h-2v-4h2v4z\"/>\n",
              "    </g>\n",
              "</svg>\n",
              "  </button>\n",
              "\n",
              "<style>\n",
              "  .colab-df-quickchart {\n",
              "      --bg-color: #E8F0FE;\n",
              "      --fill-color: #1967D2;\n",
              "      --hover-bg-color: #E2EBFA;\n",
              "      --hover-fill-color: #174EA6;\n",
              "      --disabled-fill-color: #AAA;\n",
              "      --disabled-bg-color: #DDD;\n",
              "  }\n",
              "\n",
              "  [theme=dark] .colab-df-quickchart {\n",
              "      --bg-color: #3B4455;\n",
              "      --fill-color: #D2E3FC;\n",
              "      --hover-bg-color: #434B5C;\n",
              "      --hover-fill-color: #FFFFFF;\n",
              "      --disabled-bg-color: #3B4455;\n",
              "      --disabled-fill-color: #666;\n",
              "  }\n",
              "\n",
              "  .colab-df-quickchart {\n",
              "    background-color: var(--bg-color);\n",
              "    border: none;\n",
              "    border-radius: 50%;\n",
              "    cursor: pointer;\n",
              "    display: none;\n",
              "    fill: var(--fill-color);\n",
              "    height: 32px;\n",
              "    padding: 0;\n",
              "    width: 32px;\n",
              "  }\n",
              "\n",
              "  .colab-df-quickchart:hover {\n",
              "    background-color: var(--hover-bg-color);\n",
              "    box-shadow: 0 1px 2px rgba(60, 64, 67, 0.3), 0 1px 3px 1px rgba(60, 64, 67, 0.15);\n",
              "    fill: var(--button-hover-fill-color);\n",
              "  }\n",
              "\n",
              "  .colab-df-quickchart-complete:disabled,\n",
              "  .colab-df-quickchart-complete:disabled:hover {\n",
              "    background-color: var(--disabled-bg-color);\n",
              "    fill: var(--disabled-fill-color);\n",
              "    box-shadow: none;\n",
              "  }\n",
              "\n",
              "  .colab-df-spinner {\n",
              "    border: 2px solid var(--fill-color);\n",
              "    border-color: transparent;\n",
              "    border-bottom-color: var(--fill-color);\n",
              "    animation:\n",
              "      spin 1s steps(1) infinite;\n",
              "  }\n",
              "\n",
              "  @keyframes spin {\n",
              "    0% {\n",
              "      border-color: transparent;\n",
              "      border-bottom-color: var(--fill-color);\n",
              "      border-left-color: var(--fill-color);\n",
              "    }\n",
              "    20% {\n",
              "      border-color: transparent;\n",
              "      border-left-color: var(--fill-color);\n",
              "      border-top-color: var(--fill-color);\n",
              "    }\n",
              "    30% {\n",
              "      border-color: transparent;\n",
              "      border-left-color: var(--fill-color);\n",
              "      border-top-color: var(--fill-color);\n",
              "      border-right-color: var(--fill-color);\n",
              "    }\n",
              "    40% {\n",
              "      border-color: transparent;\n",
              "      border-right-color: var(--fill-color);\n",
              "      border-top-color: var(--fill-color);\n",
              "    }\n",
              "    60% {\n",
              "      border-color: transparent;\n",
              "      border-right-color: var(--fill-color);\n",
              "    }\n",
              "    80% {\n",
              "      border-color: transparent;\n",
              "      border-right-color: var(--fill-color);\n",
              "      border-bottom-color: var(--fill-color);\n",
              "    }\n",
              "    90% {\n",
              "      border-color: transparent;\n",
              "      border-bottom-color: var(--fill-color);\n",
              "    }\n",
              "  }\n",
              "</style>\n",
              "\n",
              "  <script>\n",
              "    async function quickchart(key) {\n",
              "      const quickchartButtonEl =\n",
              "        document.querySelector('#' + key + ' button');\n",
              "      quickchartButtonEl.disabled = true;  // To prevent multiple clicks.\n",
              "      quickchartButtonEl.classList.add('colab-df-spinner');\n",
              "      try {\n",
              "        const charts = await google.colab.kernel.invokeFunction(\n",
              "            'suggestCharts', [key], {});\n",
              "      } catch (error) {\n",
              "        console.error('Error during call to suggestCharts:', error);\n",
              "      }\n",
              "      quickchartButtonEl.classList.remove('colab-df-spinner');\n",
              "      quickchartButtonEl.classList.add('colab-df-quickchart-complete');\n",
              "    }\n",
              "    (() => {\n",
              "      let quickchartButtonEl =\n",
              "        document.querySelector('#df-99c35c11-1191-4b57-8c46-5d35ea41da1f button');\n",
              "      quickchartButtonEl.style.display =\n",
              "        google.colab.kernel.accessAllowed ? 'block' : 'none';\n",
              "    })();\n",
              "  </script>\n",
              "</div>\n",
              "\n",
              "    </div>\n",
              "  </div>\n"
            ],
            "application/vnd.google.colaboratory.intrinsic+json": {
              "type": "dataframe",
              "summary": "{\n  \"name\": \"police_shootings[['body_camera', 'signs_of_mental_illness']]\",\n  \"rows\": 2,\n  \"fields\": [\n    {\n      \"column\": \"body_camera\",\n      \"properties\": {\n        \"dtype\": \"number\",\n        \"std\": 0.6792435937176804,\n        \"min\": 0.039404497609415966,\n        \"max\": 1.0,\n        \"num_unique_values\": 2,\n        \"samples\": [\n          0.039404497609415966,\n          1.0\n        ],\n        \"semantic_type\": \"\",\n        \"description\": \"\"\n      }\n    },\n    {\n      \"column\": \"signs_of_mental_illness\",\n      \"properties\": {\n        \"dtype\": \"number\",\n        \"std\": 0.6792435937176804,\n        \"min\": 0.039404497609415966,\n        \"max\": 1.0,\n        \"num_unique_values\": 2,\n        \"samples\": [\n          1.0,\n          0.039404497609415966\n        ],\n        \"semantic_type\": \"\",\n        \"description\": \"\"\n      }\n    }\n  ]\n}"
            }
          },
          "metadata": {},
          "execution_count": 77
        }
      ]
    },
    {
      "cell_type": "markdown",
      "source": [
        "- The correlation between flee and signs_of_mental_ilness"
      ],
      "metadata": {
        "id": "ZLiNtlhiXlnL"
      }
    },
    {
      "cell_type": "code",
      "source": [
        "# Convert 'flee' to numeric: 0 for 'not', 1 for 'foot' and 3 for 'other\n",
        "police_shootings['flee'] = police_shootings['flee'].replace({'not': 0, 'car': 1, 'foot': 2, 'other': 3})\n",
        "\n",
        "# Convert 'signs_of_mental_illness' to numeric: 0 for 'False' and 1 for 'True'\n",
        "police_shootings['signs_of_mental_illness'] = police_shootings['signs_of_mental_illness'].replace({'False': 0, 'True': 1})\n",
        "\n",
        "police_shootings[['flee', 'signs_of_mental_illness']].corr()"
      ],
      "metadata": {
        "id": "9xWqNoUi5l58",
        "colab": {
          "base_uri": "https://localhost:8080/",
          "height": 112
        },
        "outputId": "ffa840f6-fb22-429b-ce0f-06b5fe1ba577"
      },
      "execution_count": null,
      "outputs": [
        {
          "output_type": "execute_result",
          "data": {
            "text/plain": [
              "                             flee  signs_of_mental_illness\n",
              "flee                     1.000000                -0.196812\n",
              "signs_of_mental_illness -0.196812                 1.000000"
            ],
            "text/html": [
              "\n",
              "  <div id=\"df-339dff73-2280-4725-8126-d0778aefa6de\" class=\"colab-df-container\">\n",
              "    <div>\n",
              "<style scoped>\n",
              "    .dataframe tbody tr th:only-of-type {\n",
              "        vertical-align: middle;\n",
              "    }\n",
              "\n",
              "    .dataframe tbody tr th {\n",
              "        vertical-align: top;\n",
              "    }\n",
              "\n",
              "    .dataframe thead th {\n",
              "        text-align: right;\n",
              "    }\n",
              "</style>\n",
              "<table border=\"1\" class=\"dataframe\">\n",
              "  <thead>\n",
              "    <tr style=\"text-align: right;\">\n",
              "      <th></th>\n",
              "      <th>flee</th>\n",
              "      <th>signs_of_mental_illness</th>\n",
              "    </tr>\n",
              "  </thead>\n",
              "  <tbody>\n",
              "    <tr>\n",
              "      <th>flee</th>\n",
              "      <td>1.000000</td>\n",
              "      <td>-0.196812</td>\n",
              "    </tr>\n",
              "    <tr>\n",
              "      <th>signs_of_mental_illness</th>\n",
              "      <td>-0.196812</td>\n",
              "      <td>1.000000</td>\n",
              "    </tr>\n",
              "  </tbody>\n",
              "</table>\n",
              "</div>\n",
              "    <div class=\"colab-df-buttons\">\n",
              "\n",
              "  <div class=\"colab-df-container\">\n",
              "    <button class=\"colab-df-convert\" onclick=\"convertToInteractive('df-339dff73-2280-4725-8126-d0778aefa6de')\"\n",
              "            title=\"Convert this dataframe to an interactive table.\"\n",
              "            style=\"display:none;\">\n",
              "\n",
              "  <svg xmlns=\"http://www.w3.org/2000/svg\" height=\"24px\" viewBox=\"0 -960 960 960\">\n",
              "    <path d=\"M120-120v-720h720v720H120Zm60-500h600v-160H180v160Zm220 220h160v-160H400v160Zm0 220h160v-160H400v160ZM180-400h160v-160H180v160Zm440 0h160v-160H620v160ZM180-180h160v-160H180v160Zm440 0h160v-160H620v160Z\"/>\n",
              "  </svg>\n",
              "    </button>\n",
              "\n",
              "  <style>\n",
              "    .colab-df-container {\n",
              "      display:flex;\n",
              "      gap: 12px;\n",
              "    }\n",
              "\n",
              "    .colab-df-convert {\n",
              "      background-color: #E8F0FE;\n",
              "      border: none;\n",
              "      border-radius: 50%;\n",
              "      cursor: pointer;\n",
              "      display: none;\n",
              "      fill: #1967D2;\n",
              "      height: 32px;\n",
              "      padding: 0 0 0 0;\n",
              "      width: 32px;\n",
              "    }\n",
              "\n",
              "    .colab-df-convert:hover {\n",
              "      background-color: #E2EBFA;\n",
              "      box-shadow: 0px 1px 2px rgba(60, 64, 67, 0.3), 0px 1px 3px 1px rgba(60, 64, 67, 0.15);\n",
              "      fill: #174EA6;\n",
              "    }\n",
              "\n",
              "    .colab-df-buttons div {\n",
              "      margin-bottom: 4px;\n",
              "    }\n",
              "\n",
              "    [theme=dark] .colab-df-convert {\n",
              "      background-color: #3B4455;\n",
              "      fill: #D2E3FC;\n",
              "    }\n",
              "\n",
              "    [theme=dark] .colab-df-convert:hover {\n",
              "      background-color: #434B5C;\n",
              "      box-shadow: 0px 1px 3px 1px rgba(0, 0, 0, 0.15);\n",
              "      filter: drop-shadow(0px 1px 2px rgba(0, 0, 0, 0.3));\n",
              "      fill: #FFFFFF;\n",
              "    }\n",
              "  </style>\n",
              "\n",
              "    <script>\n",
              "      const buttonEl =\n",
              "        document.querySelector('#df-339dff73-2280-4725-8126-d0778aefa6de button.colab-df-convert');\n",
              "      buttonEl.style.display =\n",
              "        google.colab.kernel.accessAllowed ? 'block' : 'none';\n",
              "\n",
              "      async function convertToInteractive(key) {\n",
              "        const element = document.querySelector('#df-339dff73-2280-4725-8126-d0778aefa6de');\n",
              "        const dataTable =\n",
              "          await google.colab.kernel.invokeFunction('convertToInteractive',\n",
              "                                                    [key], {});\n",
              "        if (!dataTable) return;\n",
              "\n",
              "        const docLinkHtml = 'Like what you see? Visit the ' +\n",
              "          '<a target=\"_blank\" href=https://colab.research.google.com/notebooks/data_table.ipynb>data table notebook</a>'\n",
              "          + ' to learn more about interactive tables.';\n",
              "        element.innerHTML = '';\n",
              "        dataTable['output_type'] = 'display_data';\n",
              "        await google.colab.output.renderOutput(dataTable, element);\n",
              "        const docLink = document.createElement('div');\n",
              "        docLink.innerHTML = docLinkHtml;\n",
              "        element.appendChild(docLink);\n",
              "      }\n",
              "    </script>\n",
              "  </div>\n",
              "\n",
              "\n",
              "<div id=\"df-7e76f6b1-ce23-4b0b-9078-dd9adc8c0458\">\n",
              "  <button class=\"colab-df-quickchart\" onclick=\"quickchart('df-7e76f6b1-ce23-4b0b-9078-dd9adc8c0458')\"\n",
              "            title=\"Suggest charts\"\n",
              "            style=\"display:none;\">\n",
              "\n",
              "<svg xmlns=\"http://www.w3.org/2000/svg\" height=\"24px\"viewBox=\"0 0 24 24\"\n",
              "     width=\"24px\">\n",
              "    <g>\n",
              "        <path d=\"M19 3H5c-1.1 0-2 .9-2 2v14c0 1.1.9 2 2 2h14c1.1 0 2-.9 2-2V5c0-1.1-.9-2-2-2zM9 17H7v-7h2v7zm4 0h-2V7h2v10zm4 0h-2v-4h2v4z\"/>\n",
              "    </g>\n",
              "</svg>\n",
              "  </button>\n",
              "\n",
              "<style>\n",
              "  .colab-df-quickchart {\n",
              "      --bg-color: #E8F0FE;\n",
              "      --fill-color: #1967D2;\n",
              "      --hover-bg-color: #E2EBFA;\n",
              "      --hover-fill-color: #174EA6;\n",
              "      --disabled-fill-color: #AAA;\n",
              "      --disabled-bg-color: #DDD;\n",
              "  }\n",
              "\n",
              "  [theme=dark] .colab-df-quickchart {\n",
              "      --bg-color: #3B4455;\n",
              "      --fill-color: #D2E3FC;\n",
              "      --hover-bg-color: #434B5C;\n",
              "      --hover-fill-color: #FFFFFF;\n",
              "      --disabled-bg-color: #3B4455;\n",
              "      --disabled-fill-color: #666;\n",
              "  }\n",
              "\n",
              "  .colab-df-quickchart {\n",
              "    background-color: var(--bg-color);\n",
              "    border: none;\n",
              "    border-radius: 50%;\n",
              "    cursor: pointer;\n",
              "    display: none;\n",
              "    fill: var(--fill-color);\n",
              "    height: 32px;\n",
              "    padding: 0;\n",
              "    width: 32px;\n",
              "  }\n",
              "\n",
              "  .colab-df-quickchart:hover {\n",
              "    background-color: var(--hover-bg-color);\n",
              "    box-shadow: 0 1px 2px rgba(60, 64, 67, 0.3), 0 1px 3px 1px rgba(60, 64, 67, 0.15);\n",
              "    fill: var(--button-hover-fill-color);\n",
              "  }\n",
              "\n",
              "  .colab-df-quickchart-complete:disabled,\n",
              "  .colab-df-quickchart-complete:disabled:hover {\n",
              "    background-color: var(--disabled-bg-color);\n",
              "    fill: var(--disabled-fill-color);\n",
              "    box-shadow: none;\n",
              "  }\n",
              "\n",
              "  .colab-df-spinner {\n",
              "    border: 2px solid var(--fill-color);\n",
              "    border-color: transparent;\n",
              "    border-bottom-color: var(--fill-color);\n",
              "    animation:\n",
              "      spin 1s steps(1) infinite;\n",
              "  }\n",
              "\n",
              "  @keyframes spin {\n",
              "    0% {\n",
              "      border-color: transparent;\n",
              "      border-bottom-color: var(--fill-color);\n",
              "      border-left-color: var(--fill-color);\n",
              "    }\n",
              "    20% {\n",
              "      border-color: transparent;\n",
              "      border-left-color: var(--fill-color);\n",
              "      border-top-color: var(--fill-color);\n",
              "    }\n",
              "    30% {\n",
              "      border-color: transparent;\n",
              "      border-left-color: var(--fill-color);\n",
              "      border-top-color: var(--fill-color);\n",
              "      border-right-color: var(--fill-color);\n",
              "    }\n",
              "    40% {\n",
              "      border-color: transparent;\n",
              "      border-right-color: var(--fill-color);\n",
              "      border-top-color: var(--fill-color);\n",
              "    }\n",
              "    60% {\n",
              "      border-color: transparent;\n",
              "      border-right-color: var(--fill-color);\n",
              "    }\n",
              "    80% {\n",
              "      border-color: transparent;\n",
              "      border-right-color: var(--fill-color);\n",
              "      border-bottom-color: var(--fill-color);\n",
              "    }\n",
              "    90% {\n",
              "      border-color: transparent;\n",
              "      border-bottom-color: var(--fill-color);\n",
              "    }\n",
              "  }\n",
              "</style>\n",
              "\n",
              "  <script>\n",
              "    async function quickchart(key) {\n",
              "      const quickchartButtonEl =\n",
              "        document.querySelector('#' + key + ' button');\n",
              "      quickchartButtonEl.disabled = true;  // To prevent multiple clicks.\n",
              "      quickchartButtonEl.classList.add('colab-df-spinner');\n",
              "      try {\n",
              "        const charts = await google.colab.kernel.invokeFunction(\n",
              "            'suggestCharts', [key], {});\n",
              "      } catch (error) {\n",
              "        console.error('Error during call to suggestCharts:', error);\n",
              "      }\n",
              "      quickchartButtonEl.classList.remove('colab-df-spinner');\n",
              "      quickchartButtonEl.classList.add('colab-df-quickchart-complete');\n",
              "    }\n",
              "    (() => {\n",
              "      let quickchartButtonEl =\n",
              "        document.querySelector('#df-7e76f6b1-ce23-4b0b-9078-dd9adc8c0458 button');\n",
              "      quickchartButtonEl.style.display =\n",
              "        google.colab.kernel.accessAllowed ? 'block' : 'none';\n",
              "    })();\n",
              "  </script>\n",
              "</div>\n",
              "\n",
              "    </div>\n",
              "  </div>\n"
            ],
            "application/vnd.google.colaboratory.intrinsic+json": {
              "type": "dataframe",
              "summary": "{\n  \"name\": \"police_shootings[['flee', 'signs_of_mental_illness']]\",\n  \"rows\": 2,\n  \"fields\": [\n    {\n      \"column\": \"flee\",\n      \"properties\": {\n        \"dtype\": \"number\",\n        \"std\": 0.8462738779059854,\n        \"min\": -0.1968119956167174,\n        \"max\": 1.0,\n        \"num_unique_values\": 2,\n        \"samples\": [\n          -0.1968119956167174,\n          1.0\n        ],\n        \"semantic_type\": \"\",\n        \"description\": \"\"\n      }\n    },\n    {\n      \"column\": \"signs_of_mental_illness\",\n      \"properties\": {\n        \"dtype\": \"number\",\n        \"std\": 0.8462738779059854,\n        \"min\": -0.1968119956167174,\n        \"max\": 1.0,\n        \"num_unique_values\": 2,\n        \"samples\": [\n          1.0,\n          -0.1968119956167174\n        ],\n        \"semantic_type\": \"\",\n        \"description\": \"\"\n      }\n    }\n  ]\n}"
            }
          },
          "metadata": {},
          "execution_count": 78
        }
      ]
    }
  ]
}